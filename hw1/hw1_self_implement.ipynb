{
 "cells": [
  {
   "cell_type": "markdown",
   "metadata": {},
   "source": [
    "# Information Retrieval Assignment 1\n",
    "\n",
    "Author: Aeirya Mohammadi\n",
    "\n",
    "aeirya@gmail.com\n",
    "\n",
    "402131028"
   ]
  },
  {
   "cell_type": "markdown",
   "metadata": {},
   "source": [
    "For scoring my assignment, please refer to hw1.ipynb"
   ]
  },
  {
   "cell_type": "markdown",
   "metadata": {},
   "source": [
    "### A - Load and Prepare Data"
   ]
  },
  {
   "cell_type": "code",
   "execution_count": 24,
   "metadata": {},
   "outputs": [],
   "source": [
    "# I'll implement even the basic fucntions. One can use csv or pandas libraries instead.\n",
    "'''\n",
    "Basic csv file reading function\n",
    "\n",
    "input: str\n",
    "returns: headers (list[str]), body (list[tuple[str, str]])\n",
    "'''\n",
    "def read_csv(filepath):\n",
    "    \n",
    "    with open(filepath, 'r') as file:\n",
    "        content = file.readlines()\n",
    "        # interpret first line as header\n",
    "        header_text = content[:1][0]\n",
    "        # other lines are the body\n",
    "        body_text = content[1:]\n",
    "\n",
    "        headers = header_text.split(',')\n",
    "       \n",
    "        body = []\n",
    "        for line in body_text:\n",
    "            index = line.find(',')\n",
    "            body.append((line[:index], line[index+1:]))\n",
    "        \n",
    "        return headers, body\n",
    "\n",
    "# read files\n",
    "_, docs_body = read_csv('dataset/hw1_docs.csv')\n",
    "_, qrels_body = read_csv('dataset/hw1_qrels.csv')\n",
    "_, queries_body = read_csv('dataset/hw1_queries.csv')\n",
    "\n",
    "# drop the double quotation marks \"\" \n",
    "docs = { doc_id: content[1:-1] for doc_id, content in docs_body}\n",
    "\n",
    "queries = { query_id: query for query_id, query in queries_body}\n",
    "\n",
    "qrels = { query_id: [] for query_id in queries }\n",
    "for query_id, doc_id in qrels_body:\n",
    "    qrels[query_id].append(doc_id)\n",
    "\n",
    "# Since the query ids are integers I could've used lists instead of dictionary to increase speed, but I chose not to for simplicity"
   ]
  },
  {
   "cell_type": "code",
   "execution_count": 27,
   "metadata": {},
   "outputs": [],
   "source": [
    "def normalize(text):\n",
    "    import re\n",
    "    text = re.sub('[^a-zA-Z0-9\\-]+', ' ', text)\n",
    "    text = text.lower()\n",
    "    return text\n",
    "\n",
    "# normalize text\n",
    "for doc_id, content in docs.items():\n",
    "    docs[doc_id] = normalize(content)\n",
    "\n",
    "for q_id, query in queries.items():\n",
    "    queries[q_id] = normalize(query)"
   ]
  },
  {
   "cell_type": "markdown",
   "metadata": {},
   "source": [
    "### B- TF-IDF"
   ]
  },
  {
   "cell_type": "code",
   "execution_count": 29,
   "metadata": {},
   "outputs": [],
   "source": [
    "vocab = list(set(\" \".join(docs.values()).split()))"
   ]
  },
  {
   "cell_type": "code",
   "execution_count": 40,
   "metadata": {},
   "outputs": [],
   "source": [
    "tf = { \n",
    "    term: {\n",
    "        doc: 0 for doc in docs\n",
    "    } for term in vocab \n",
    "}\n",
    "\n",
    "idf = { term: 0 for term in vocab }"
   ]
  },
  {
   "cell_type": "code",
   "execution_count": 41,
   "metadata": {},
   "outputs": [],
   "source": [
    "for doc, content in docs.items():\n",
    "    # update tf\n",
    "    for term in content.split():\n",
    "        tf[term][doc] += 1\n",
    "\n",
    "    # update idf\n",
    "    for term in set(content.split()):\n",
    "        idf[term] += 1"
   ]
  },
  {
   "cell_type": "code",
   "execution_count": 43,
   "metadata": {},
   "outputs": [
    {
     "name": "stdout",
     "output_type": "stream",
     "text": [
      "The term is secosteroid\n",
      "{'3m8ekphy': 1}\n",
      "The term is protozoa\n",
      "{'8qtintwl': 1}\n",
      "The term is macrophage\n",
      "{'08p8ns2d': 1, '2o3dvi2d': 1, '1untezgg': 1}\n",
      "The term is 156\n",
      "{'58tj4csz': 1}\n"
     ]
    }
   ],
   "source": [
    "# test tf dictionary\n",
    "max_iter = 4\n",
    "iter = 0\n",
    "for term in vocab:\n",
    "    print(f'The term is {term}')\n",
    "    print({doc: val for doc,val in tf[term].items() if val > 0})\n",
    "    iter += 1\n",
    "    if iter == max_iter:\n",
    "        break"
   ]
  },
  {
   "cell_type": "markdown",
   "metadata": {},
   "source": [
    "### Oops!\n",
    "It was at this moment I realized using libraries was permitted! So I'm going to switch to using tools to increase performance and have results in the end (redirect to main notebook)"
   ]
  },
  {
   "cell_type": "markdown",
   "metadata": {},
   "source": []
  }
 ],
 "metadata": {
  "kernelspec": {
   "display_name": "Python 3",
   "language": "python",
   "name": "python3"
  },
  "language_info": {
   "codemirror_mode": {
    "name": "ipython",
    "version": 3
   },
   "file_extension": ".py",
   "mimetype": "text/x-python",
   "name": "python",
   "nbconvert_exporter": "python",
   "pygments_lexer": "ipython3",
   "version": "3.10.13"
  }
 },
 "nbformat": 4,
 "nbformat_minor": 2
}
