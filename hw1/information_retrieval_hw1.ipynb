{
  "cells": [
    {
      "cell_type": "markdown",
      "metadata": {
        "id": "view-in-github",
        "colab_type": "text"
      },
      "source": [
        "<a href=\"https://colab.research.google.com/github/aeirya/information-retrieval-course/blob/master/hw1/information_retrieval_hw1.ipynb\" target=\"_parent\"><img src=\"https://colab.research.google.com/assets/colab-badge.svg\" alt=\"Open In Colab\"/></a>"
      ]
    },
    {
      "cell_type": "markdown",
      "source": [
        "## Preparation"
      ],
      "metadata": {
        "id": "kMs_az9wpTF-"
      }
    },
    {
      "cell_type": "code",
      "execution_count": 1,
      "metadata": {
        "colab": {
          "base_uri": "https://localhost:8080/"
        },
        "id": "BgJ-rwtaqHBh",
        "outputId": "f1b4bc82-c502-462a-98ed-a3a8c6b3a258"
      },
      "outputs": [
        {
          "output_type": "stream",
          "name": "stdout",
          "text": [
            "Drive already mounted at /content/drive/; to attempt to forcibly remount, call drive.mount(\"/content/drive/\", force_remount=True).\n"
          ]
        }
      ],
      "source": [
        "# setup colab drive\n",
        "from google.colab import drive\n",
        "drive.mount('/content/drive/')\n",
        "\n",
        "dir = '/content/drive/MyDrive/Assignment/InformationRetrieval/hw1/dataset/'"
      ]
    },
    {
      "cell_type": "code",
      "execution_count": 2,
      "metadata": {
        "id": "KBtlFJwe5eeX"
      },
      "outputs": [],
      "source": [
        "# let's import needed libraries\n",
        "import spacy\n",
        "import pandas as pd\n",
        "import numpy as np\n",
        "from numpy.linalg import norm"
      ]
    },
    {
      "cell_type": "code",
      "execution_count": 3,
      "metadata": {
        "id": "uULIe5Ju149a"
      },
      "outputs": [],
      "source": [
        "# read csv files\n",
        "def read_file(filename):\n",
        "  return pd.read_csv(dir + filename)\n",
        "\n",
        "docs = read_file('hw1_docs.csv')\n",
        "queries = read_file('hw1_queries.csv')\n",
        "qrels = read_file('hw1_qrels.csv')"
      ]
    },
    {
      "cell_type": "code",
      "source": [
        "# text preprocessing\n",
        "nlp = spacy.load('en_core_web_sm')\n",
        "\n",
        "def preprocess(text):\n",
        "    doc = nlp(text)\n",
        "    # dropping stop words and punctuations\n",
        "    return ' '.join([token.lemma_ for token in doc if not token.is_stop and not token.is_punct])"
      ],
      "metadata": {
        "id": "KzWVSivlRfVg"
      },
      "execution_count": 4,
      "outputs": []
    },
    {
      "cell_type": "code",
      "source": [
        "docs['processed_doc'] = docs['document'].apply(preprocess)"
      ],
      "metadata": {
        "id": "9MvW9OSyR0J9"
      },
      "execution_count": 5,
      "outputs": []
    },
    {
      "cell_type": "code",
      "source": [
        "queries['processed_query'] = queries['query'].apply(preprocess)"
      ],
      "metadata": {
        "id": "TW1HgwNHSMUz"
      },
      "execution_count": 6,
      "outputs": []
    },
    {
      "cell_type": "markdown",
      "source": [
        "### Getting Familiar with the data"
      ],
      "metadata": {
        "id": "gpfC9Blokj1m"
      }
    },
    {
      "cell_type": "code",
      "source": [],
      "metadata": {
        "id": "NJDODmSOki_a"
      },
      "execution_count": null,
      "outputs": []
    },
    {
      "cell_type": "markdown",
      "source": [
        "## TF-IDF"
      ],
      "metadata": {
        "id": "XvsdXDZrgKXy"
      }
    },
    {
      "cell_type": "code",
      "source": [
        "from sklearn.feature_extraction.text import TfidfVectorizer\n",
        "\n",
        "# here I prefered using nonbinary vectorizer to get better results\n",
        "vectorizer = TfidfVectorizer(min_df=3, ngram_range=(1,1), max_df=0.8, token_pattern='\\w*[a-z]+\\w*')\n",
        "\n",
        "# now lets fetch embed documents and queries\n",
        "\n",
        "# documents tfidf matrix\n",
        "D = vectorizer.fit_transform(docs['processed_doc'])\n",
        "\n",
        "# queries' tfidf matrix\n",
        "Q = vectorizer.transform(queries['processed_query'])\n",
        "\n",
        "D.shape\n",
        "# you could see the vector size is bigger than 1000"
      ],
      "metadata": {
        "id": "_4Myjm0WO4Yb",
        "colab": {
          "base_uri": "https://localhost:8080/"
        },
        "outputId": "507721ec-adfd-425b-d704-cdbb00044c9b"
      },
      "execution_count": 7,
      "outputs": [
        {
          "output_type": "execute_result",
          "data": {
            "text/plain": [
              "(750, 3030)"
            ]
          },
          "metadata": {},
          "execution_count": 7
        }
      ]
    },
    {
      "cell_type": "code",
      "source": [
        "vocab = vectorizer.get_feature_names_out()\n",
        "vocab"
      ],
      "metadata": {
        "id": "KJkuxKZggRGD",
        "colab": {
          "base_uri": "https://localhost:8080/"
        },
        "outputId": "e015ea59-396d-4c5a-923c-3dd47fd8f312"
      },
      "execution_count": 8,
      "outputs": [
        {
          "output_type": "execute_result",
          "data": {
            "text/plain": [
              "array(['11th', '15th', '1st', ..., 'zoonotic', 'µm', 'μg'], dtype=object)"
            ]
          },
          "metadata": {},
          "execution_count": 8
        }
      ]
    },
    {
      "cell_type": "code",
      "source": [
        "# since we're just ranking similarities, the size of a query vector is not needed, then we're not gonna use this function here\n",
        "def cosine_sim(v1, v2):\n",
        "  return np.dot(v1, v2) / (np.linalg.norm(v1) * np.linalg.norm(v2))\n",
        "\n",
        "norm = np.linalg.norm(D.toarray(), ord=2, axis=1)\n",
        "norm[0:5]\n",
        "# it also seems the document embedding vectors are already normal so no need to normalize here"
      ],
      "metadata": {
        "id": "VW9JgIbnkkmU",
        "colab": {
          "base_uri": "https://localhost:8080/"
        },
        "outputId": "593e3152-e40d-45f1-baad-b68422f432cd"
      },
      "execution_count": 9,
      "outputs": [
        {
          "output_type": "execute_result",
          "data": {
            "text/plain": [
              "array([1., 1., 1., 1., 1.])"
            ]
          },
          "metadata": {},
          "execution_count": 9
        }
      ]
    },
    {
      "cell_type": "code",
      "source": [
        "# similarity matrix of querries to documents\n",
        "sim_matrix = Q @ D.T\n",
        "sim_matrix.shape"
      ],
      "metadata": {
        "colab": {
          "base_uri": "https://localhost:8080/"
        },
        "id": "FYrBRuVCmj6X",
        "outputId": "3e31d22c-de2e-43d2-9a3c-e78d980219c7"
      },
      "execution_count": 10,
      "outputs": [
        {
          "output_type": "execute_result",
          "data": {
            "text/plain": [
              "(50, 750)"
            ]
          },
          "metadata": {},
          "execution_count": 10
        }
      ]
    },
    {
      "cell_type": "code",
      "source": [
        "# top 10 for each query\n",
        "best = np.argpartition(sim_matrix.toarray(), -10, axis=1)[:, -10:]\n",
        "best.shape"
      ],
      "metadata": {
        "colab": {
          "base_uri": "https://localhost:8080/"
        },
        "id": "TgC5lMsgnfP-",
        "outputId": "2c719807-33e5-4cac-90ca-feb04f4b51dd"
      },
      "execution_count": 11,
      "outputs": [
        {
          "output_type": "execute_result",
          "data": {
            "text/plain": [
              "(50, 10)"
            ]
          },
          "metadata": {},
          "execution_count": 11
        }
      ]
    },
    {
      "cell_type": "markdown",
      "source": [
        "#### Gold related documents"
      ],
      "metadata": {
        "id": "wOtyhMmD2Gd_"
      }
    },
    {
      "cell_type": "code",
      "source": [
        "qrels"
      ],
      "metadata": {
        "colab": {
          "base_uri": "https://localhost:8080/",
          "height": 411
        },
        "id": "Iac4PZDOoIv4",
        "outputId": "9d9bf669-2441-41ce-93ff-632a3fa082d7"
      },
      "execution_count": 12,
      "outputs": [
        {
          "output_type": "execute_result",
          "data": {
            "text/plain": [
              "     query_id    doc_id\n",
              "0           1  005b2j4b\n",
              "1           1  0chuwvg6\n",
              "2           1  0t2a5500\n",
              "3           1  0y34yxlb\n",
              "4           1  105q161g\n",
              "..        ...       ...\n",
              "745        50  xhm97wy2\n",
              "746        50  xieqswct\n",
              "747        50  y87tq9wu\n",
              "748        50  ygwdldae\n",
              "749        50  ykzsoafe\n",
              "\n",
              "[750 rows x 2 columns]"
            ],
            "text/html": [
              "\n",
              "  <div id=\"df-a489e999-2403-4c0e-bbfa-fa089f3e8434\" class=\"colab-df-container\">\n",
              "    <div>\n",
              "<style scoped>\n",
              "    .dataframe tbody tr th:only-of-type {\n",
              "        vertical-align: middle;\n",
              "    }\n",
              "\n",
              "    .dataframe tbody tr th {\n",
              "        vertical-align: top;\n",
              "    }\n",
              "\n",
              "    .dataframe thead th {\n",
              "        text-align: right;\n",
              "    }\n",
              "</style>\n",
              "<table border=\"1\" class=\"dataframe\">\n",
              "  <thead>\n",
              "    <tr style=\"text-align: right;\">\n",
              "      <th></th>\n",
              "      <th>query_id</th>\n",
              "      <th>doc_id</th>\n",
              "    </tr>\n",
              "  </thead>\n",
              "  <tbody>\n",
              "    <tr>\n",
              "      <th>0</th>\n",
              "      <td>1</td>\n",
              "      <td>005b2j4b</td>\n",
              "    </tr>\n",
              "    <tr>\n",
              "      <th>1</th>\n",
              "      <td>1</td>\n",
              "      <td>0chuwvg6</td>\n",
              "    </tr>\n",
              "    <tr>\n",
              "      <th>2</th>\n",
              "      <td>1</td>\n",
              "      <td>0t2a5500</td>\n",
              "    </tr>\n",
              "    <tr>\n",
              "      <th>3</th>\n",
              "      <td>1</td>\n",
              "      <td>0y34yxlb</td>\n",
              "    </tr>\n",
              "    <tr>\n",
              "      <th>4</th>\n",
              "      <td>1</td>\n",
              "      <td>105q161g</td>\n",
              "    </tr>\n",
              "    <tr>\n",
              "      <th>...</th>\n",
              "      <td>...</td>\n",
              "      <td>...</td>\n",
              "    </tr>\n",
              "    <tr>\n",
              "      <th>745</th>\n",
              "      <td>50</td>\n",
              "      <td>xhm97wy2</td>\n",
              "    </tr>\n",
              "    <tr>\n",
              "      <th>746</th>\n",
              "      <td>50</td>\n",
              "      <td>xieqswct</td>\n",
              "    </tr>\n",
              "    <tr>\n",
              "      <th>747</th>\n",
              "      <td>50</td>\n",
              "      <td>y87tq9wu</td>\n",
              "    </tr>\n",
              "    <tr>\n",
              "      <th>748</th>\n",
              "      <td>50</td>\n",
              "      <td>ygwdldae</td>\n",
              "    </tr>\n",
              "    <tr>\n",
              "      <th>749</th>\n",
              "      <td>50</td>\n",
              "      <td>ykzsoafe</td>\n",
              "    </tr>\n",
              "  </tbody>\n",
              "</table>\n",
              "<p>750 rows × 2 columns</p>\n",
              "</div>\n",
              "    <div class=\"colab-df-buttons\">\n",
              "\n",
              "  <div class=\"colab-df-container\">\n",
              "    <button class=\"colab-df-convert\" onclick=\"convertToInteractive('df-a489e999-2403-4c0e-bbfa-fa089f3e8434')\"\n",
              "            title=\"Convert this dataframe to an interactive table.\"\n",
              "            style=\"display:none;\">\n",
              "\n",
              "  <svg xmlns=\"http://www.w3.org/2000/svg\" height=\"24px\" viewBox=\"0 -960 960 960\">\n",
              "    <path d=\"M120-120v-720h720v720H120Zm60-500h600v-160H180v160Zm220 220h160v-160H400v160Zm0 220h160v-160H400v160ZM180-400h160v-160H180v160Zm440 0h160v-160H620v160ZM180-180h160v-160H180v160Zm440 0h160v-160H620v160Z\"/>\n",
              "  </svg>\n",
              "    </button>\n",
              "\n",
              "  <style>\n",
              "    .colab-df-container {\n",
              "      display:flex;\n",
              "      gap: 12px;\n",
              "    }\n",
              "\n",
              "    .colab-df-convert {\n",
              "      background-color: #E8F0FE;\n",
              "      border: none;\n",
              "      border-radius: 50%;\n",
              "      cursor: pointer;\n",
              "      display: none;\n",
              "      fill: #1967D2;\n",
              "      height: 32px;\n",
              "      padding: 0 0 0 0;\n",
              "      width: 32px;\n",
              "    }\n",
              "\n",
              "    .colab-df-convert:hover {\n",
              "      background-color: #E2EBFA;\n",
              "      box-shadow: 0px 1px 2px rgba(60, 64, 67, 0.3), 0px 1px 3px 1px rgba(60, 64, 67, 0.15);\n",
              "      fill: #174EA6;\n",
              "    }\n",
              "\n",
              "    .colab-df-buttons div {\n",
              "      margin-bottom: 4px;\n",
              "    }\n",
              "\n",
              "    [theme=dark] .colab-df-convert {\n",
              "      background-color: #3B4455;\n",
              "      fill: #D2E3FC;\n",
              "    }\n",
              "\n",
              "    [theme=dark] .colab-df-convert:hover {\n",
              "      background-color: #434B5C;\n",
              "      box-shadow: 0px 1px 3px 1px rgba(0, 0, 0, 0.15);\n",
              "      filter: drop-shadow(0px 1px 2px rgba(0, 0, 0, 0.3));\n",
              "      fill: #FFFFFF;\n",
              "    }\n",
              "  </style>\n",
              "\n",
              "    <script>\n",
              "      const buttonEl =\n",
              "        document.querySelector('#df-a489e999-2403-4c0e-bbfa-fa089f3e8434 button.colab-df-convert');\n",
              "      buttonEl.style.display =\n",
              "        google.colab.kernel.accessAllowed ? 'block' : 'none';\n",
              "\n",
              "      async function convertToInteractive(key) {\n",
              "        const element = document.querySelector('#df-a489e999-2403-4c0e-bbfa-fa089f3e8434');\n",
              "        const dataTable =\n",
              "          await google.colab.kernel.invokeFunction('convertToInteractive',\n",
              "                                                    [key], {});\n",
              "        if (!dataTable) return;\n",
              "\n",
              "        const docLinkHtml = 'Like what you see? Visit the ' +\n",
              "          '<a target=\"_blank\" href=https://colab.research.google.com/notebooks/data_table.ipynb>data table notebook</a>'\n",
              "          + ' to learn more about interactive tables.';\n",
              "        element.innerHTML = '';\n",
              "        dataTable['output_type'] = 'display_data';\n",
              "        await google.colab.output.renderOutput(dataTable, element);\n",
              "        const docLink = document.createElement('div');\n",
              "        docLink.innerHTML = docLinkHtml;\n",
              "        element.appendChild(docLink);\n",
              "      }\n",
              "    </script>\n",
              "  </div>\n",
              "\n",
              "\n",
              "<div id=\"df-b0fdf31c-e7a1-4165-82b7-62fd42b0a878\">\n",
              "  <button class=\"colab-df-quickchart\" onclick=\"quickchart('df-b0fdf31c-e7a1-4165-82b7-62fd42b0a878')\"\n",
              "            title=\"Suggest charts\"\n",
              "            style=\"display:none;\">\n",
              "\n",
              "<svg xmlns=\"http://www.w3.org/2000/svg\" height=\"24px\"viewBox=\"0 0 24 24\"\n",
              "     width=\"24px\">\n",
              "    <g>\n",
              "        <path d=\"M19 3H5c-1.1 0-2 .9-2 2v14c0 1.1.9 2 2 2h14c1.1 0 2-.9 2-2V5c0-1.1-.9-2-2-2zM9 17H7v-7h2v7zm4 0h-2V7h2v10zm4 0h-2v-4h2v4z\"/>\n",
              "    </g>\n",
              "</svg>\n",
              "  </button>\n",
              "\n",
              "<style>\n",
              "  .colab-df-quickchart {\n",
              "      --bg-color: #E8F0FE;\n",
              "      --fill-color: #1967D2;\n",
              "      --hover-bg-color: #E2EBFA;\n",
              "      --hover-fill-color: #174EA6;\n",
              "      --disabled-fill-color: #AAA;\n",
              "      --disabled-bg-color: #DDD;\n",
              "  }\n",
              "\n",
              "  [theme=dark] .colab-df-quickchart {\n",
              "      --bg-color: #3B4455;\n",
              "      --fill-color: #D2E3FC;\n",
              "      --hover-bg-color: #434B5C;\n",
              "      --hover-fill-color: #FFFFFF;\n",
              "      --disabled-bg-color: #3B4455;\n",
              "      --disabled-fill-color: #666;\n",
              "  }\n",
              "\n",
              "  .colab-df-quickchart {\n",
              "    background-color: var(--bg-color);\n",
              "    border: none;\n",
              "    border-radius: 50%;\n",
              "    cursor: pointer;\n",
              "    display: none;\n",
              "    fill: var(--fill-color);\n",
              "    height: 32px;\n",
              "    padding: 0;\n",
              "    width: 32px;\n",
              "  }\n",
              "\n",
              "  .colab-df-quickchart:hover {\n",
              "    background-color: var(--hover-bg-color);\n",
              "    box-shadow: 0 1px 2px rgba(60, 64, 67, 0.3), 0 1px 3px 1px rgba(60, 64, 67, 0.15);\n",
              "    fill: var(--button-hover-fill-color);\n",
              "  }\n",
              "\n",
              "  .colab-df-quickchart-complete:disabled,\n",
              "  .colab-df-quickchart-complete:disabled:hover {\n",
              "    background-color: var(--disabled-bg-color);\n",
              "    fill: var(--disabled-fill-color);\n",
              "    box-shadow: none;\n",
              "  }\n",
              "\n",
              "  .colab-df-spinner {\n",
              "    border: 2px solid var(--fill-color);\n",
              "    border-color: transparent;\n",
              "    border-bottom-color: var(--fill-color);\n",
              "    animation:\n",
              "      spin 1s steps(1) infinite;\n",
              "  }\n",
              "\n",
              "  @keyframes spin {\n",
              "    0% {\n",
              "      border-color: transparent;\n",
              "      border-bottom-color: var(--fill-color);\n",
              "      border-left-color: var(--fill-color);\n",
              "    }\n",
              "    20% {\n",
              "      border-color: transparent;\n",
              "      border-left-color: var(--fill-color);\n",
              "      border-top-color: var(--fill-color);\n",
              "    }\n",
              "    30% {\n",
              "      border-color: transparent;\n",
              "      border-left-color: var(--fill-color);\n",
              "      border-top-color: var(--fill-color);\n",
              "      border-right-color: var(--fill-color);\n",
              "    }\n",
              "    40% {\n",
              "      border-color: transparent;\n",
              "      border-right-color: var(--fill-color);\n",
              "      border-top-color: var(--fill-color);\n",
              "    }\n",
              "    60% {\n",
              "      border-color: transparent;\n",
              "      border-right-color: var(--fill-color);\n",
              "    }\n",
              "    80% {\n",
              "      border-color: transparent;\n",
              "      border-right-color: var(--fill-color);\n",
              "      border-bottom-color: var(--fill-color);\n",
              "    }\n",
              "    90% {\n",
              "      border-color: transparent;\n",
              "      border-bottom-color: var(--fill-color);\n",
              "    }\n",
              "  }\n",
              "</style>\n",
              "\n",
              "  <script>\n",
              "    async function quickchart(key) {\n",
              "      const quickchartButtonEl =\n",
              "        document.querySelector('#' + key + ' button');\n",
              "      quickchartButtonEl.disabled = true;  // To prevent multiple clicks.\n",
              "      quickchartButtonEl.classList.add('colab-df-spinner');\n",
              "      try {\n",
              "        const charts = await google.colab.kernel.invokeFunction(\n",
              "            'suggestCharts', [key], {});\n",
              "      } catch (error) {\n",
              "        console.error('Error during call to suggestCharts:', error);\n",
              "      }\n",
              "      quickchartButtonEl.classList.remove('colab-df-spinner');\n",
              "      quickchartButtonEl.classList.add('colab-df-quickchart-complete');\n",
              "    }\n",
              "    (() => {\n",
              "      let quickchartButtonEl =\n",
              "        document.querySelector('#df-b0fdf31c-e7a1-4165-82b7-62fd42b0a878 button');\n",
              "      quickchartButtonEl.style.display =\n",
              "        google.colab.kernel.accessAllowed ? 'block' : 'none';\n",
              "    })();\n",
              "  </script>\n",
              "</div>\n",
              "    </div>\n",
              "  </div>\n"
            ]
          },
          "metadata": {},
          "execution_count": 12
        }
      ]
    },
    {
      "cell_type": "code",
      "source": [
        "series = pd.Series(qrels['query_id'])\n",
        "print(series.searchsorted(2))\n",
        "print(series.searchsorted(3))\n",
        "# it seems the qrels data provides 15 best documents for each query"
      ],
      "metadata": {
        "colab": {
          "base_uri": "https://localhost:8080/"
        },
        "id": "RXvv7EmpRMnM",
        "outputId": "eb61bddd-e060-4296-cb3b-1773f8440d2a"
      },
      "execution_count": 13,
      "outputs": [
        {
          "output_type": "stream",
          "name": "stdout",
          "text": [
            "15\n",
            "30\n"
          ]
        }
      ]
    },
    {
      "cell_type": "code",
      "source": [
        "doc_id_to_index = {}\n",
        "for i, doc_id in enumerate(docs['doc_id']):\n",
        "  doc_id_to_index[doc_id] = i\n",
        "\n",
        "def doc_index(doc_id):\n",
        "  return doc_id_to_index[doc_id]"
      ],
      "metadata": {
        "id": "fW664THAyi6P"
      },
      "execution_count": 14,
      "outputs": []
    },
    {
      "cell_type": "code",
      "source": [
        "def gold_related_docs(qid):\n",
        "  '''\n",
        "  qid: query id\n",
        "  '''\n",
        "  related_ids = qrels['doc_id'][qid*15:(qid+1)*15]\n",
        "  return np.array([doc_index(id) for id in related_ids])\n",
        "\n",
        "gold_best = np.zeros((len(queries), 15)).astype(int)\n",
        "for q in range(len(queries)):\n",
        "  gold_best[q, :] = gold_related_docs(q)\n",
        "\n"
      ],
      "metadata": {
        "colab": {
          "base_uri": "https://localhost:8080/"
        },
        "id": "gzOtjLxwfogI",
        "outputId": "ecf77bb8-1804-4b93-a398-03326c1aa6ee"
      },
      "execution_count": 15,
      "outputs": [
        {
          "output_type": "execute_result",
          "data": {
            "text/plain": [
              "array([[502, 736,  20, 255, 748, 199, 597, 609, 490, 425, 742, 396, 512,\n",
              "        286, 634],\n",
              "       [531, 602, 285, 264, 221, 717, 139, 702, 150, 495, 261, 642, 576,\n",
              "        592, 601],\n",
              "       [586, 579, 136, 510, 126, 514, 485, 172,  75, 239, 693, 134, 699,\n",
              "        732, 603]])"
            ]
          },
          "metadata": {},
          "execution_count": 15
        }
      ]
    },
    {
      "cell_type": "code",
      "source": [
        "gold_best[0:3]"
      ],
      "metadata": {
        "colab": {
          "base_uri": "https://localhost:8080/"
        },
        "id": "2YEkPKJIkx70",
        "outputId": "18fb4e9d-e9a0-49eb-e408-61fdf6c19cb4"
      },
      "execution_count": 182,
      "outputs": [
        {
          "output_type": "execute_result",
          "data": {
            "text/plain": [
              "array([[502, 736,  20, 255, 748, 199, 597, 609, 490, 425, 742, 396, 512,\n",
              "        286, 634],\n",
              "       [531, 602, 285, 264, 221, 717, 139, 702, 150, 495, 261, 642, 576,\n",
              "        592, 601],\n",
              "       [586, 579, 136, 510, 126, 514, 485, 172,  75, 239, 693, 134, 699,\n",
              "        732, 603]])"
            ]
          },
          "metadata": {},
          "execution_count": 182
        }
      ]
    },
    {
      "cell_type": "code",
      "source": [
        "best[0:3]"
      ],
      "metadata": {
        "colab": {
          "base_uri": "https://localhost:8080/"
        },
        "id": "9tgZ56389WmE",
        "outputId": "6958518c-b72f-43f4-841d-646f5a70e01a"
      },
      "execution_count": 16,
      "outputs": [
        {
          "output_type": "execute_result",
          "data": {
            "text/plain": [
              "array([[396, 748, 609, 435, 637, 389, 742, 557, 668, 425],\n",
              "       [104, 556, 168, 384, 701, 264, 642, 601,  70, 139],\n",
              "       [667, 485, 253, 172,  14, 281, 235, 586, 297,  38]])"
            ]
          },
          "metadata": {},
          "execution_count": 16
        }
      ]
    },
    {
      "cell_type": "markdown",
      "source": [
        "#### Check correctness of results"
      ],
      "metadata": {
        "id": "tqwNTNwi3nQb"
      }
    },
    {
      "cell_type": "code",
      "source": [
        "result = np.ones_like(best)\n",
        "for q in range(len(queries)):\n",
        "  wrong_idx = np.setdiff1d(best[q, :], gold_related_docs(q))\n",
        "  result[q, :] = np.where(np.isin(best[q], wrong_idx), 0, result[q])\n",
        "\n",
        "tf_idf_result = np.array(result)\n",
        "result[0:3]"
      ],
      "metadata": {
        "colab": {
          "base_uri": "https://localhost:8080/"
        },
        "id": "pZkZWZGo4YBQ",
        "outputId": "337c08ca-4bc8-4d2a-bdf5-82821a656315"
      },
      "execution_count": 17,
      "outputs": [
        {
          "output_type": "execute_result",
          "data": {
            "text/plain": [
              "array([[1, 1, 1, 0, 0, 0, 1, 0, 0, 1],\n",
              "       [0, 0, 0, 0, 0, 1, 1, 1, 0, 1],\n",
              "       [0, 1, 0, 1, 0, 0, 0, 1, 0, 0]])"
            ]
          },
          "metadata": {},
          "execution_count": 17
        }
      ]
    },
    {
      "cell_type": "markdown",
      "source": [
        "## BIM"
      ],
      "metadata": {
        "id": "sRs5LIUmMxdo"
      }
    },
    {
      "cell_type": "code",
      "source": [
        "# perpare data\n",
        "\n",
        "from sklearn.feature_extraction.text import CountVectorizer\n",
        "\n",
        "vectorizer = CountVectorizer(binary=True, token_pattern='\\w*[a-z]+\\w*', min_df=3, max_df=0.8)\n",
        "\n",
        "D = vectorizer.fit_transform(docs['processed_doc'])\n",
        "Q = vectorizer.transform(queries['processed_query'])\n",
        "\n",
        "vocab = vectorizer.get_feature_names_out()\n",
        "vocab_size = len(vocab)"
      ],
      "metadata": {
        "id": "pc_idoZy7mS-"
      },
      "execution_count": 18,
      "outputs": []
    },
    {
      "cell_type": "code",
      "source": [
        "# df_t: the number of dumments that contain term t\n",
        "dft = D.sum(axis=0)[0]\n",
        "\n",
        "N = D.shape[1]\n",
        "ut = dft/N\n",
        "\n",
        "iut = 1/ut"
      ],
      "metadata": {
        "id": "de2aHJ2o_5NO"
      },
      "execution_count": 19,
      "outputs": []
    },
    {
      "cell_type": "markdown",
      "source": [
        "We have RSV_d = sum_{t: x_t = q_t = 1} log([p_t/(1-p_t)] * [(1-u_t)/u_t]) = sum log([X] * [iut]) = sum log (r)\n",
        "\n",
        "Notice that (1-ut)/ut = (N - df)/df ~ N/df = 1/ut = iut"
      ],
      "metadata": {
        "id": "UgjkQBqEWoLk"
      }
    },
    {
      "cell_type": "markdown",
      "source": [
        "NOTE: since we KNOW that we are going to redo some calculations between queries, I'm going to aggregate the vocab of all queries first to do some optimization and calculate pt/(1-pt) for the needed terms"
      ],
      "metadata": {
        "id": "2LcejWQQbg30"
      }
    },
    {
      "cell_type": "code",
      "source": [
        "# the terms that appear in queries\n",
        "t = Q.sum(axis=0) > 0"
      ],
      "metadata": {
        "id": "vXgM-VK3dIiQ"
      },
      "execution_count": 20,
      "outputs": []
    },
    {
      "cell_type": "code",
      "source": [
        "def top10matrix(score_matrix):\n",
        "  '''\n",
        "  score_matrix: Q -> D\n",
        "  top 10 document for each query\n",
        "  '''\n",
        "\n",
        "  return np.argpartition(score_matrix, -10, axis=1)[:, -10:]\n",
        "\n",
        "\n",
        "def correctness_matrix(best):\n",
        "  '''\n",
        "  reports correctness of the 'best' matrix with a matrix of zeros and ones of the same size\n",
        "  '''\n",
        "\n",
        "  result = np.ones_like(best)\n",
        "\n",
        "  # number of queries\n",
        "  nQ = best.shape[0]\n",
        "\n",
        "  for q in range(nQ):\n",
        "    wrong_idx = np.setdiff1d(best[q, :], gold_related_docs(q))\n",
        "    result[q, :] = np.where(np.isin(best[q], wrong_idx), 0, result[q])\n",
        "\n",
        "  return np.array(result)\n",
        "\n",
        "\n",
        "def cmap(scores):\n",
        "  '''\n",
        "  scores -> correctness matrix of the best scores\n",
        "  '''\n",
        "\n",
        "  return correctness_matrix(top10matrix(scores))"
      ],
      "metadata": {
        "id": "m-dhBBHIbFoR"
      },
      "execution_count": 148,
      "outputs": []
    },
    {
      "cell_type": "code",
      "source": [
        "def calc_X(p):\n",
        "  return np.ones((1,vocab_size)) * p/(1-p)\n",
        "\n",
        "def f(p):\n",
        "  X = calc_X(p)\n",
        "  return np.where(t, np.log(np.multiply(X, iut)), 0)[0]\n",
        "\n",
        "Da = D.toarray()\n",
        "Qa = Q.toarray()\n",
        "\n",
        "# BIM_results = {}\n",
        "BIM_scores = {}\n",
        "\n",
        "for p in [0.3, 0.5, 0.7]:\n",
        "  r = f(p)\n",
        "\n",
        "  scores = np.zeros((Q.shape[0], D.shape[0]))\n",
        "  # todo: optimize\n",
        "  for d in range(D.shape[0]):\n",
        "    for q in range(Q.shape[0]):\n",
        "      scores[q,d] = r[(Da[d] > 0) & (Qa[q] > 0)].sum()\n",
        "\n",
        "  # BIM_results[p] = correctness_matrix(top10matrix(scores))\n",
        "  BIM_scores[p] = scores"
      ],
      "metadata": {
        "id": "1wigpb-hgyl4"
      },
      "execution_count": 180,
      "outputs": []
    },
    {
      "cell_type": "code",
      "source": [
        "# BIM_results[0.5][0:3]"
      ],
      "metadata": {
        "id": "Nf8lg-ATLG5C"
      },
      "execution_count": 181,
      "outputs": []
    },
    {
      "cell_type": "markdown",
      "source": [
        "## BM25"
      ],
      "metadata": {
        "id": "ZW39qVMrLxwS"
      }
    },
    {
      "cell_type": "code",
      "source": [
        "vectorizer = CountVectorizer(binary=False, token_pattern='\\w*[a-z]+\\w*', min_df=3, max_df=0.8)\n",
        "\n",
        "D = vectorizer.fit_transform(docs['processed_doc'])\n",
        "Q = vectorizer.transform(queries['processed_query'])"
      ],
      "metadata": {
        "id": "g4bW0v_MX2z-"
      },
      "execution_count": 38,
      "outputs": []
    },
    {
      "cell_type": "code",
      "source": [
        "# convert sparse matrices to term existence masks\n",
        "Qt = Q.toarray() > 0\n",
        "\n",
        "Da = D.toarray()"
      ],
      "metadata": {
        "id": "gnS37auIx222"
      },
      "execution_count": 126,
      "outputs": []
    },
    {
      "cell_type": "markdown",
      "source": [
        "Document Score:\n",
        "∑_{t∈q} log (N/dft) (k1+1)tf / [k1((1-b)+b(Ld/Lave))+tf]\n",
        "\n",
        "∑log iut A / B"
      ],
      "metadata": {
        "id": "4I3hyro52C6u"
      }
    },
    {
      "cell_type": "code",
      "source": [
        "def bm25(D, Q, Da, Qt, k, b):\n",
        "  # document length\n",
        "  Ld = D.sum(axis=1)\n",
        "  # average document length\n",
        "  Lave = Ld.mean()\n",
        "\n",
        "  L = Ld/Lave\n",
        "\n",
        "  nQ = Q.shape[0]\n",
        "  nD = D.shape[0]\n",
        "  scores = np.zeros((nQ, nD))\n",
        "\n",
        "  for q in range(nQ):\n",
        "    for d in range(nD):\n",
        "\n",
        "      # mask\n",
        "      m = Qt[q]\n",
        "\n",
        "      logiut = np.array(np.log(iut[0,m]).T)[:, 0]\n",
        "\n",
        "      # term frequencies in the document\n",
        "      tf = Da[d, m]\n",
        "\n",
        "\n",
        "      A = (k+1) * tf\n",
        "      B = tf + k*(1 - b + b * L[d,0])\n",
        "\n",
        "      scores[q,d] = (logiut * A/B).sum()\n",
        "\n",
        "  return scores"
      ],
      "metadata": {
        "id": "4W8hGUe03box"
      },
      "execution_count": 133,
      "outputs": []
    },
    {
      "cell_type": "markdown",
      "source": [
        "#### Hyperparameters\n",
        "Now lets choose best hyperparameters k and b"
      ],
      "metadata": {
        "id": "MbRxnhdTRMQN"
      }
    },
    {
      "cell_type": "code",
      "source": [
        "K = np.linspace(0.6, 2.4, num=10)\n",
        "B = np.linspace(0.3, 1.5, num=9)\n",
        "\n",
        "# use number of correct retrievals as the evaluation metric of score matrix\n",
        "sc = lambda scores: scores.sum(axis=None)\n",
        "\n",
        "# to find the best hyperparameters, we only use a subset of our data\n",
        "D_dev = D[0:150]\n",
        "Da_dev = Da[0:150]\n",
        "Q_dev = Q[0:15]\n",
        "Qt_dev = Qt[0:15]\n",
        "\n",
        "kb_sc = np.zeros(shape=(K.shape[0], B.shape[0]), dtype=int)\n",
        "for i,k in enumerate(K):\n",
        "  for j,b in enumerate(B):\n",
        "    scores = cmap(bm25(D_dev, Q_dev, Da_dev, Qt_dev, k, b))\n",
        "    kb_sc[i,j] = sc(scores)\n",
        "\n",
        "kb_sc"
      ],
      "metadata": {
        "colab": {
          "base_uri": "https://localhost:8080/"
        },
        "id": "A5O7b2_oJULE",
        "outputId": "d1b9808e-6322-4afc-ae06-88e41efe33cf"
      },
      "execution_count": 164,
      "outputs": [
        {
          "output_type": "execute_result",
          "data": {
            "text/plain": [
              "array([[25, 25, 25, 25, 24, 25, 24, 24, 24],\n",
              "       [25, 25, 25, 25, 25, 24, 24, 24, 24],\n",
              "       [25, 25, 26, 25, 25, 24, 24, 24, 22],\n",
              "       [25, 26, 26, 25, 25, 25, 24, 23, 22],\n",
              "       [26, 26, 26, 26, 25, 24, 24, 24, 22],\n",
              "       [26, 27, 27, 26, 25, 25, 25, 23, 22],\n",
              "       [26, 26, 27, 26, 25, 25, 24, 23, 22],\n",
              "       [26, 27, 27, 25, 25, 25, 24, 22, 22],\n",
              "       [26, 27, 27, 25, 25, 25, 24, 22, 20],\n",
              "       [25, 27, 26, 25, 25, 25, 24, 23, 20]])"
            ]
          },
          "metadata": {},
          "execution_count": 164
        }
      ]
    },
    {
      "cell_type": "code",
      "source": [
        "import matplotlib.pyplot as plt\n",
        "\n",
        "data = kb_sc\n",
        "\n",
        "plt.imshow(data, cmap='hot', interpolation='nearest')\n",
        "\n",
        "plt.colorbar()\n",
        "plt.title('')\n",
        "\n",
        "plt.xlabel('k')\n",
        "plt.ylabel('b')\n",
        "\n",
        "Klabels = ['']\n",
        "\n",
        "plt.xticks(range(len(K)), [f'{k:.1f}' for k in K])\n",
        "plt.yticks(range(len(B)), [f'{b:.1f}' for b in B])\n",
        "\n",
        "# display the heatmap\n",
        "plt.show()"
      ],
      "metadata": {
        "colab": {
          "base_uri": "https://localhost:8080/",
          "height": 454
        },
        "id": "hHtMmqMoJWzK",
        "outputId": "1cc7ba2b-1f0c-4b24-8d3b-cb45a1df0d7a"
      },
      "execution_count": 165,
      "outputs": [
        {
          "output_type": "display_data",
          "data": {
            "text/plain": [
              "<Figure size 640x480 with 2 Axes>"
            ],
            "image/png": "[encoded data removed]"
          },
          "metadata": {}
        }
      ]
    },
    {
      "cell_type": "markdown",
      "source": [
        "Here we have plotted corresponding scores different ks and bs"
      ],
      "metadata": {
        "id": "UD-B5iTbRXyj"
      }
    },
    {
      "cell_type": "code",
      "source": [
        "i = np.argmax(kb_sc)\n",
        "k = K[i % len(B)]\n",
        "b = B[i // len(B)]\n",
        "k,b"
      ],
      "metadata": {
        "colab": {
          "base_uri": "https://localhost:8080/"
        },
        "id": "ySpyYRdhPIkr",
        "outputId": "6fd72914-a394-4014-abda-8085f9f03a27"
      },
      "execution_count": 172,
      "outputs": [
        {
          "output_type": "execute_result",
          "data": {
            "text/plain": [
              "(0.7999999999999999, 1.05)"
            ]
          },
          "metadata": {},
          "execution_count": 172
        }
      ]
    },
    {
      "cell_type": "markdown",
      "source": [
        "#### Results"
      ],
      "metadata": {
        "id": "72KLsEH6SFVT"
      }
    },
    {
      "cell_type": "code",
      "source": [
        "bm25_scores = bm25(D, Q, Da, Qt, k, b)\n",
        "# bm25_results = cmap(bm25_scores)\n",
        "# bm25_results[0:3]"
      ],
      "metadata": {
        "id": "8x2SzvJhR9g5"
      },
      "execution_count": 179,
      "outputs": []
    },
    {
      "cell_type": "markdown",
      "source": [
        "## Evaluation"
      ],
      "metadata": {
        "id": "ZGQ6crZrSvvn"
      }
    },
    {
      "cell_type": "code",
      "source": [
        "tfidf_scores"
      ],
      "metadata": {
        "colab": {
          "base_uri": "https://localhost:8080/",
          "height": 169
        },
        "id": "EkCoyE-5SuDd",
        "outputId": "e210d715-5eb2-4a96-dd62-7dc7244479df"
      },
      "execution_count": 176,
      "outputs": [
        {
          "output_type": "error",
          "ename": "NameError",
          "evalue": "ignored",
          "traceback": [
            "\u001b[0;31m---------------------------------------------------------------------------\u001b[0m",
            "\u001b[0;31mNameError\u001b[0m                                 Traceback (most recent call last)",
            "\u001b[0;32m<ipython-input-176-177bfe5e407a>\u001b[0m in \u001b[0;36m<cell line: 1>\u001b[0;34m()\u001b[0m\n\u001b[0;32m----> 1\u001b[0;31m \u001b[0mtfidf_scores\u001b[0m\u001b[0;34m\u001b[0m\u001b[0;34m\u001b[0m\u001b[0m\n\u001b[0m",
            "\u001b[0;31mNameError\u001b[0m: name 'tfidf_scores' is not defined"
          ]
        }
      ]
    },
    {
      "cell_type": "code",
      "source": [
        "bm25_scores"
      ],
      "metadata": {
        "colab": {
          "base_uri": "https://localhost:8080/",
          "height": 169
        },
        "id": "AH6B7t0KiQKH",
        "outputId": "5f4ec31c-d0e0-4a55-f7ee-10dd9a5f5918"
      },
      "execution_count": 177,
      "outputs": [
        {
          "output_type": "error",
          "ename": "NameError",
          "evalue": "ignored",
          "traceback": [
            "\u001b[0;31m---------------------------------------------------------------------------\u001b[0m",
            "\u001b[0;31mNameError\u001b[0m                                 Traceback (most recent call last)",
            "\u001b[0;32m<ipython-input-177-412d9a740484>\u001b[0m in \u001b[0;36m<cell line: 1>\u001b[0;34m()\u001b[0m\n\u001b[0;32m----> 1\u001b[0;31m \u001b[0mbm25_scores\u001b[0m\u001b[0;34m\u001b[0m\u001b[0;34m\u001b[0m\u001b[0m\n\u001b[0m",
            "\u001b[0;31mNameError\u001b[0m: name 'bm25_scores' is not defined"
          ]
        }
      ]
    },
    {
      "cell_type": "code",
      "source": [],
      "metadata": {
        "id": "19j5vVg3iTfT"
      },
      "execution_count": null,
      "outputs": []
    }
  ],
  "metadata": {
    "colab": {
      "provenance": [],
      "collapsed_sections": [
        "MbRxnhdTRMQN"
      ],
      "mount_file_id": "15ot9NTHF9mYvMJ1a9f7y7HbHmQ6_JWGj",
      "authorship_tag": "ABX9TyOakwNqybKY2yzPqj7FIAq9",
      "include_colab_link": true
    },
    "kernelspec": {
      "display_name": "Python 3",
      "name": "python3"
    },
    "language_info": {
      "name": "python"
    }
  },
  "nbformat": 4,
  "nbformat_minor": 0
}