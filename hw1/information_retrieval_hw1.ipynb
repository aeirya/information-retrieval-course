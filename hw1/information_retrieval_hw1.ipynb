{
  "cells": [
    {
      "cell_type": "markdown",
      "metadata": {
        "id": "kMs_az9wpTF-"
      },
      "source": [
        "# Information Retrieval Assignment 1\n",
        "\n",
        "Author: Aeirya Mohammadi\n",
        "\n",
        "aeirya@gmail.com"
      ]
    },
    {
      "cell_type": "markdown",
      "metadata": {},
      "source": [
        "## Preparation"
      ]
    },
    {
      "cell_type": "code",
      "execution_count": 3,
      "metadata": {
        "colab": {
          "base_uri": "https://localhost:8080/"
        },
        "id": "BgJ-rwtaqHBh",
        "outputId": "84fa5cfc-47dc-48a2-849c-01683894ae8f"
      },
      "outputs": [
        {
          "name": "stdout",
          "output_type": "stream",
          "text": [
            "Mounted at /content/drive/\n"
          ]
        }
      ],
      "source": [
        "# setup colab drive\n",
        "from google.colab import drive\n",
        "drive.mount('/content/drive/')\n",
        "\n",
        "dir = '/content/drive/MyDrive/Assignment/InformationRetrieval/hw1/dataset/'"
      ]
    },
    {
      "cell_type": "code",
      "execution_count": 4,
      "metadata": {
        "id": "KBtlFJwe5eeX"
      },
      "outputs": [],
      "source": [
        "# let's import needed libraries\n",
        "import spacy\n",
        "import pandas as pd\n",
        "import numpy as np\n",
        "from numpy.linalg import norm"
      ]
    },
    {
      "cell_type": "code",
      "execution_count": 5,
      "metadata": {
        "id": "uULIe5Ju149a"
      },
      "outputs": [],
      "source": [
        "# read csv files\n",
        "def read_file(filename):\n",
        "  return pd.read_csv(dir + filename)\n",
        "\n",
        "docs = read_file('hw1_docs.csv')\n",
        "queries = read_file('hw1_queries.csv')\n",
        "qrels = read_file('hw1_qrels.csv')"
      ]
    },
    {
      "cell_type": "code",
      "execution_count": 6,
      "metadata": {
        "id": "KzWVSivlRfVg"
      },
      "outputs": [],
      "source": [
        "# text preprocessing\n",
        "nlp = spacy.load('en_core_web_sm')\n",
        "\n",
        "def preprocess(text):\n",
        "    doc = nlp(text)\n",
        "    # dropping stop words and punctuations\n",
        "    return ' '.join([token.lemma_ for token in doc if not token.is_stop and not token.is_punct])"
      ]
    },
    {
      "cell_type": "code",
      "execution_count": 7,
      "metadata": {
        "id": "9MvW9OSyR0J9"
      },
      "outputs": [],
      "source": [
        "docs['processed_doc'] = docs['document'].apply(preprocess)"
      ]
    },
    {
      "cell_type": "code",
      "execution_count": 8,
      "metadata": {
        "id": "TW1HgwNHSMUz"
      },
      "outputs": [],
      "source": [
        "queries['processed_query'] = queries['query'].apply(preprocess)"
      ]
    },
    {
      "cell_type": "markdown",
      "metadata": {
        "id": "gpfC9Blokj1m"
      },
      "source": [
        "### Getting Familiar with the data"
      ]
    },
    {
      "cell_type": "code",
      "execution_count": 9,
      "metadata": {
        "colab": {
          "base_uri": "https://localhost:8080/",
          "height": 204
        },
        "id": "Iac4PZDOoIv4",
        "outputId": "09d93701-ed96-4eca-96f7-4a010c8fa0aa"
      },
      "outputs": [
        {
          "data": {
            "text/html": [
              "\n",
              "  <div id=\"df-5f55dec8-e847-468d-92b7-e7de669b4523\" class=\"colab-df-container\">\n",
              "    <div>\n",
              "<style scoped>\n",
              "    .dataframe tbody tr th:only-of-type {\n",
              "        vertical-align: middle;\n",
              "    }\n",
              "\n",
              "    .dataframe tbody tr th {\n",
              "        vertical-align: top;\n",
              "    }\n",
              "\n",
              "    .dataframe thead th {\n",
              "        text-align: right;\n",
              "    }\n",
              "</style>\n",
              "<table border=\"1\" class=\"dataframe\">\n",
              "  <thead>\n",
              "    <tr style=\"text-align: right;\">\n",
              "      <th></th>\n",
              "      <th>query_id</th>\n",
              "      <th>doc_id</th>\n",
              "    </tr>\n",
              "  </thead>\n",
              "  <tbody>\n",
              "    <tr>\n",
              "      <th>0</th>\n",
              "      <td>1</td>\n",
              "      <td>005b2j4b</td>\n",
              "    </tr>\n",
              "    <tr>\n",
              "      <th>1</th>\n",
              "      <td>1</td>\n",
              "      <td>0chuwvg6</td>\n",
              "    </tr>\n",
              "    <tr>\n",
              "      <th>2</th>\n",
              "      <td>1</td>\n",
              "      <td>0t2a5500</td>\n",
              "    </tr>\n",
              "    <tr>\n",
              "      <th>3</th>\n",
              "      <td>1</td>\n",
              "      <td>0y34yxlb</td>\n",
              "    </tr>\n",
              "    <tr>\n",
              "      <th>4</th>\n",
              "      <td>1</td>\n",
              "      <td>105q161g</td>\n",
              "    </tr>\n",
              "  </tbody>\n",
              "</table>\n",
              "</div>\n",
              "    <div class=\"colab-df-buttons\">\n",
              "\n",
              "  <div class=\"colab-df-container\">\n",
              "    <button class=\"colab-df-convert\" onclick=\"convertToInteractive('df-5f55dec8-e847-468d-92b7-e7de669b4523')\"\n",
              "            title=\"Convert this dataframe to an interactive table.\"\n",
              "            style=\"display:none;\">\n",
              "\n",
              "  <svg xmlns=\"http://www.w3.org/2000/svg\" height=\"24px\" viewBox=\"0 -960 960 960\">\n",
              "    <path d=\"M120-120v-720h720v720H120Zm60-500h600v-160H180v160Zm220 220h160v-160H400v160Zm0 220h160v-160H400v160ZM180-400h160v-160H180v160Zm440 0h160v-160H620v160ZM180-180h160v-160H180v160Zm440 0h160v-160H620v160Z\"/>\n",
              "  </svg>\n",
              "    </button>\n",
              "\n",
              "  <style>\n",
              "    .colab-df-container {\n",
              "      display:flex;\n",
              "      gap: 12px;\n",
              "    }\n",
              "\n",
              "    .colab-df-convert {\n",
              "      background-color: #E8F0FE;\n",
              "      border: none;\n",
              "      border-radius: 50%;\n",
              "      cursor: pointer;\n",
              "      display: none;\n",
              "      fill: #1967D2;\n",
              "      height: 32px;\n",
              "      padding: 0 0 0 0;\n",
              "      width: 32px;\n",
              "    }\n",
              "\n",
              "    .colab-df-convert:hover {\n",
              "      background-color: #E2EBFA;\n",
              "      box-shadow: 0px 1px 2px rgba(60, 64, 67, 0.3), 0px 1px 3px 1px rgba(60, 64, 67, 0.15);\n",
              "      fill: #174EA6;\n",
              "    }\n",
              "\n",
              "    .colab-df-buttons div {\n",
              "      margin-bottom: 4px;\n",
              "    }\n",
              "\n",
              "    [theme=dark] .colab-df-convert {\n",
              "      background-color: #3B4455;\n",
              "      fill: #D2E3FC;\n",
              "    }\n",
              "\n",
              "    [theme=dark] .colab-df-convert:hover {\n",
              "      background-color: #434B5C;\n",
              "      box-shadow: 0px 1px 3px 1px rgba(0, 0, 0, 0.15);\n",
              "      filter: drop-shadow(0px 1px 2px rgba(0, 0, 0, 0.3));\n",
              "      fill: #FFFFFF;\n",
              "    }\n",
              "  </style>\n",
              "\n",
              "    <script>\n",
              "      const buttonEl =\n",
              "        document.querySelector('#df-5f55dec8-e847-468d-92b7-e7de669b4523 button.colab-df-convert');\n",
              "      buttonEl.style.display =\n",
              "        google.colab.kernel.accessAllowed ? 'block' : 'none';\n",
              "\n",
              "      async function convertToInteractive(key) {\n",
              "        const element = document.querySelector('#df-5f55dec8-e847-468d-92b7-e7de669b4523');\n",
              "        const dataTable =\n",
              "          await google.colab.kernel.invokeFunction('convertToInteractive',\n",
              "                                                    [key], {});\n",
              "        if (!dataTable) return;\n",
              "\n",
              "        const docLinkHtml = 'Like what you see? Visit the ' +\n",
              "          '<a target=\"_blank\" href=https://colab.research.google.com/notebooks/data_table.ipynb>data table notebook</a>'\n",
              "          + ' to learn more about interactive tables.';\n",
              "        element.innerHTML = '';\n",
              "        dataTable['output_type'] = 'display_data';\n",
              "        await google.colab.output.renderOutput(dataTable, element);\n",
              "        const docLink = document.createElement('div');\n",
              "        docLink.innerHTML = docLinkHtml;\n",
              "        element.appendChild(docLink);\n",
              "      }\n",
              "    </script>\n",
              "  </div>\n",
              "\n",
              "\n",
              "<div id=\"df-55a45523-48e5-4792-bbeb-2823dbd24247\">\n",
              "  <button class=\"colab-df-quickchart\" onclick=\"quickchart('df-55a45523-48e5-4792-bbeb-2823dbd24247')\"\n",
              "            title=\"Suggest charts\"\n",
              "            style=\"display:none;\">\n",
              "\n",
              "<svg xmlns=\"http://www.w3.org/2000/svg\" height=\"24px\"viewBox=\"0 0 24 24\"\n",
              "     width=\"24px\">\n",
              "    <g>\n",
              "        <path d=\"M19 3H5c-1.1 0-2 .9-2 2v14c0 1.1.9 2 2 2h14c1.1 0 2-.9 2-2V5c0-1.1-.9-2-2-2zM9 17H7v-7h2v7zm4 0h-2V7h2v10zm4 0h-2v-4h2v4z\"/>\n",
              "    </g>\n",
              "</svg>\n",
              "  </button>\n",
              "\n",
              "<style>\n",
              "  .colab-df-quickchart {\n",
              "      --bg-color: #E8F0FE;\n",
              "      --fill-color: #1967D2;\n",
              "      --hover-bg-color: #E2EBFA;\n",
              "      --hover-fill-color: #174EA6;\n",
              "      --disabled-fill-color: #AAA;\n",
              "      --disabled-bg-color: #DDD;\n",
              "  }\n",
              "\n",
              "  [theme=dark] .colab-df-quickchart {\n",
              "      --bg-color: #3B4455;\n",
              "      --fill-color: #D2E3FC;\n",
              "      --hover-bg-color: #434B5C;\n",
              "      --hover-fill-color: #FFFFFF;\n",
              "      --disabled-bg-color: #3B4455;\n",
              "      --disabled-fill-color: #666;\n",
              "  }\n",
              "\n",
              "  .colab-df-quickchart {\n",
              "    background-color: var(--bg-color);\n",
              "    border: none;\n",
              "    border-radius: 50%;\n",
              "    cursor: pointer;\n",
              "    display: none;\n",
              "    fill: var(--fill-color);\n",
              "    height: 32px;\n",
              "    padding: 0;\n",
              "    width: 32px;\n",
              "  }\n",
              "\n",
              "  .colab-df-quickchart:hover {\n",
              "    background-color: var(--hover-bg-color);\n",
              "    box-shadow: 0 1px 2px rgba(60, 64, 67, 0.3), 0 1px 3px 1px rgba(60, 64, 67, 0.15);\n",
              "    fill: var(--button-hover-fill-color);\n",
              "  }\n",
              "\n",
              "  .colab-df-quickchart-complete:disabled,\n",
              "  .colab-df-quickchart-complete:disabled:hover {\n",
              "    background-color: var(--disabled-bg-color);\n",
              "    fill: var(--disabled-fill-color);\n",
              "    box-shadow: none;\n",
              "  }\n",
              "\n",
              "  .colab-df-spinner {\n",
              "    border: 2px solid var(--fill-color);\n",
              "    border-color: transparent;\n",
              "    border-bottom-color: var(--fill-color);\n",
              "    animation:\n",
              "      spin 1s steps(1) infinite;\n",
              "  }\n",
              "\n",
              "  @keyframes spin {\n",
              "    0% {\n",
              "      border-color: transparent;\n",
              "      border-bottom-color: var(--fill-color);\n",
              "      border-left-color: var(--fill-color);\n",
              "    }\n",
              "    20% {\n",
              "      border-color: transparent;\n",
              "      border-left-color: var(--fill-color);\n",
              "      border-top-color: var(--fill-color);\n",
              "    }\n",
              "    30% {\n",
              "      border-color: transparent;\n",
              "      border-left-color: var(--fill-color);\n",
              "      border-top-color: var(--fill-color);\n",
              "      border-right-color: var(--fill-color);\n",
              "    }\n",
              "    40% {\n",
              "      border-color: transparent;\n",
              "      border-right-color: var(--fill-color);\n",
              "      border-top-color: var(--fill-color);\n",
              "    }\n",
              "    60% {\n",
              "      border-color: transparent;\n",
              "      border-right-color: var(--fill-color);\n",
              "    }\n",
              "    80% {\n",
              "      border-color: transparent;\n",
              "      border-right-color: var(--fill-color);\n",
              "      border-bottom-color: var(--fill-color);\n",
              "    }\n",
              "    90% {\n",
              "      border-color: transparent;\n",
              "      border-bottom-color: var(--fill-color);\n",
              "    }\n",
              "  }\n",
              "</style>\n",
              "\n",
              "  <script>\n",
              "    async function quickchart(key) {\n",
              "      const quickchartButtonEl =\n",
              "        document.querySelector('#' + key + ' button');\n",
              "      quickchartButtonEl.disabled = true;  // To prevent multiple clicks.\n",
              "      quickchartButtonEl.classList.add('colab-df-spinner');\n",
              "      try {\n",
              "        const charts = await google.colab.kernel.invokeFunction(\n",
              "            'suggestCharts', [key], {});\n",
              "      } catch (error) {\n",
              "        console.error('Error during call to suggestCharts:', error);\n",
              "      }\n",
              "      quickchartButtonEl.classList.remove('colab-df-spinner');\n",
              "      quickchartButtonEl.classList.add('colab-df-quickchart-complete');\n",
              "    }\n",
              "    (() => {\n",
              "      let quickchartButtonEl =\n",
              "        document.querySelector('#df-55a45523-48e5-4792-bbeb-2823dbd24247 button');\n",
              "      quickchartButtonEl.style.display =\n",
              "        google.colab.kernel.accessAllowed ? 'block' : 'none';\n",
              "    })();\n",
              "  </script>\n",
              "</div>\n",
              "    </div>\n",
              "  </div>\n"
            ],
            "text/plain": [
              "   query_id    doc_id\n",
              "0         1  005b2j4b\n",
              "1         1  0chuwvg6\n",
              "2         1  0t2a5500\n",
              "3         1  0y34yxlb\n",
              "4         1  105q161g"
            ]
          },
          "execution_count": 9,
          "metadata": {},
          "output_type": "execute_result"
        }
      ],
      "source": [
        "qrels.head()"
      ]
    },
    {
      "cell_type": "code",
      "execution_count": 10,
      "metadata": {
        "colab": {
          "base_uri": "https://localhost:8080/",
          "height": 204
        },
        "id": "Y9JjzXv7pgX7",
        "outputId": "6ba2c26b-6aea-40a2-9d61-3e979fae3e1b"
      },
      "outputs": [
        {
          "data": {
            "text/html": [
              "\n",
              "  <div id=\"df-c9b240a9-baf7-4318-9852-e134e93de872\" class=\"colab-df-container\">\n",
              "    <div>\n",
              "<style scoped>\n",
              "    .dataframe tbody tr th:only-of-type {\n",
              "        vertical-align: middle;\n",
              "    }\n",
              "\n",
              "    .dataframe tbody tr th {\n",
              "        vertical-align: top;\n",
              "    }\n",
              "\n",
              "    .dataframe thead th {\n",
              "        text-align: right;\n",
              "    }\n",
              "</style>\n",
              "<table border=\"1\" class=\"dataframe\">\n",
              "  <thead>\n",
              "    <tr style=\"text-align: right;\">\n",
              "      <th></th>\n",
              "      <th>doc_id</th>\n",
              "      <th>document</th>\n",
              "      <th>processed_doc</th>\n",
              "    </tr>\n",
              "  </thead>\n",
              "  <tbody>\n",
              "    <tr>\n",
              "      <th>0</th>\n",
              "      <td>2p7qrgx0</td>\n",
              "      <td>Since 2007, many cases of fever, thrombocytope...</td>\n",
              "      <td>2007 case fever thrombocytopenia leukopenia sy...</td>\n",
              "    </tr>\n",
              "    <tr>\n",
              "      <th>1</th>\n",
              "      <td>25dcnext</td>\n",
              "      <td>BACKGROUND: Respiratory viral (RV) outbreaks i...</td>\n",
              "      <td>BACKGROUND respiratory viral RV outbreak rehab...</td>\n",
              "    </tr>\n",
              "    <tr>\n",
              "      <th>2</th>\n",
              "      <td>2jq626ye</td>\n",
              "      <td>A novel coronavirus (2019-nCoV) originating in...</td>\n",
              "      <td>novel coronavirus 2019 nCoV originate Wuhan Ch...</td>\n",
              "    </tr>\n",
              "    <tr>\n",
              "      <th>3</th>\n",
              "      <td>270msv5l</td>\n",
              "      <td>• Several studies suggested Baricitinib as a p...</td>\n",
              "      <td>study suggest Baricitinib potential drug manag...</td>\n",
              "    </tr>\n",
              "    <tr>\n",
              "      <th>4</th>\n",
              "      <td>14x4uqq7</td>\n",
              "      <td>Evidence from the 2003 SARS epidemic and 2009 ...</td>\n",
              "      <td>evidence 2003 SARS epidemic 2009 H1N1 pandemic...</td>\n",
              "    </tr>\n",
              "  </tbody>\n",
              "</table>\n",
              "</div>\n",
              "    <div class=\"colab-df-buttons\">\n",
              "\n",
              "  <div class=\"colab-df-container\">\n",
              "    <button class=\"colab-df-convert\" onclick=\"convertToInteractive('df-c9b240a9-baf7-4318-9852-e134e93de872')\"\n",
              "            title=\"Convert this dataframe to an interactive table.\"\n",
              "            style=\"display:none;\">\n",
              "\n",
              "  <svg xmlns=\"http://www.w3.org/2000/svg\" height=\"24px\" viewBox=\"0 -960 960 960\">\n",
              "    <path d=\"M120-120v-720h720v720H120Zm60-500h600v-160H180v160Zm220 220h160v-160H400v160Zm0 220h160v-160H400v160ZM180-400h160v-160H180v160Zm440 0h160v-160H620v160ZM180-180h160v-160H180v160Zm440 0h160v-160H620v160Z\"/>\n",
              "  </svg>\n",
              "    </button>\n",
              "\n",
              "  <style>\n",
              "    .colab-df-container {\n",
              "      display:flex;\n",
              "      gap: 12px;\n",
              "    }\n",
              "\n",
              "    .colab-df-convert {\n",
              "      background-color: #E8F0FE;\n",
              "      border: none;\n",
              "      border-radius: 50%;\n",
              "      cursor: pointer;\n",
              "      display: none;\n",
              "      fill: #1967D2;\n",
              "      height: 32px;\n",
              "      padding: 0 0 0 0;\n",
              "      width: 32px;\n",
              "    }\n",
              "\n",
              "    .colab-df-convert:hover {\n",
              "      background-color: #E2EBFA;\n",
              "      box-shadow: 0px 1px 2px rgba(60, 64, 67, 0.3), 0px 1px 3px 1px rgba(60, 64, 67, 0.15);\n",
              "      fill: #174EA6;\n",
              "    }\n",
              "\n",
              "    .colab-df-buttons div {\n",
              "      margin-bottom: 4px;\n",
              "    }\n",
              "\n",
              "    [theme=dark] .colab-df-convert {\n",
              "      background-color: #3B4455;\n",
              "      fill: #D2E3FC;\n",
              "    }\n",
              "\n",
              "    [theme=dark] .colab-df-convert:hover {\n",
              "      background-color: #434B5C;\n",
              "      box-shadow: 0px 1px 3px 1px rgba(0, 0, 0, 0.15);\n",
              "      filter: drop-shadow(0px 1px 2px rgba(0, 0, 0, 0.3));\n",
              "      fill: #FFFFFF;\n",
              "    }\n",
              "  </style>\n",
              "\n",
              "    <script>\n",
              "      const buttonEl =\n",
              "        document.querySelector('#df-c9b240a9-baf7-4318-9852-e134e93de872 button.colab-df-convert');\n",
              "      buttonEl.style.display =\n",
              "        google.colab.kernel.accessAllowed ? 'block' : 'none';\n",
              "\n",
              "      async function convertToInteractive(key) {\n",
              "        const element = document.querySelector('#df-c9b240a9-baf7-4318-9852-e134e93de872');\n",
              "        const dataTable =\n",
              "          await google.colab.kernel.invokeFunction('convertToInteractive',\n",
              "                                                    [key], {});\n",
              "        if (!dataTable) return;\n",
              "\n",
              "        const docLinkHtml = 'Like what you see? Visit the ' +\n",
              "          '<a target=\"_blank\" href=https://colab.research.google.com/notebooks/data_table.ipynb>data table notebook</a>'\n",
              "          + ' to learn more about interactive tables.';\n",
              "        element.innerHTML = '';\n",
              "        dataTable['output_type'] = 'display_data';\n",
              "        await google.colab.output.renderOutput(dataTable, element);\n",
              "        const docLink = document.createElement('div');\n",
              "        docLink.innerHTML = docLinkHtml;\n",
              "        element.appendChild(docLink);\n",
              "      }\n",
              "    </script>\n",
              "  </div>\n",
              "\n",
              "\n",
              "<div id=\"df-1e33b0b8-38a5-4c27-af57-c6c44dfc52a9\">\n",
              "  <button class=\"colab-df-quickchart\" onclick=\"quickchart('df-1e33b0b8-38a5-4c27-af57-c6c44dfc52a9')\"\n",
              "            title=\"Suggest charts\"\n",
              "            style=\"display:none;\">\n",
              "\n",
              "<svg xmlns=\"http://www.w3.org/2000/svg\" height=\"24px\"viewBox=\"0 0 24 24\"\n",
              "     width=\"24px\">\n",
              "    <g>\n",
              "        <path d=\"M19 3H5c-1.1 0-2 .9-2 2v14c0 1.1.9 2 2 2h14c1.1 0 2-.9 2-2V5c0-1.1-.9-2-2-2zM9 17H7v-7h2v7zm4 0h-2V7h2v10zm4 0h-2v-4h2v4z\"/>\n",
              "    </g>\n",
              "</svg>\n",
              "  </button>\n",
              "\n",
              "<style>\n",
              "  .colab-df-quickchart {\n",
              "      --bg-color: #E8F0FE;\n",
              "      --fill-color: #1967D2;\n",
              "      --hover-bg-color: #E2EBFA;\n",
              "      --hover-fill-color: #174EA6;\n",
              "      --disabled-fill-color: #AAA;\n",
              "      --disabled-bg-color: #DDD;\n",
              "  }\n",
              "\n",
              "  [theme=dark] .colab-df-quickchart {\n",
              "      --bg-color: #3B4455;\n",
              "      --fill-color: #D2E3FC;\n",
              "      --hover-bg-color: #434B5C;\n",
              "      --hover-fill-color: #FFFFFF;\n",
              "      --disabled-bg-color: #3B4455;\n",
              "      --disabled-fill-color: #666;\n",
              "  }\n",
              "\n",
              "  .colab-df-quickchart {\n",
              "    background-color: var(--bg-color);\n",
              "    border: none;\n",
              "    border-radius: 50%;\n",
              "    cursor: pointer;\n",
              "    display: none;\n",
              "    fill: var(--fill-color);\n",
              "    height: 32px;\n",
              "    padding: 0;\n",
              "    width: 32px;\n",
              "  }\n",
              "\n",
              "  .colab-df-quickchart:hover {\n",
              "    background-color: var(--hover-bg-color);\n",
              "    box-shadow: 0 1px 2px rgba(60, 64, 67, 0.3), 0 1px 3px 1px rgba(60, 64, 67, 0.15);\n",
              "    fill: var(--button-hover-fill-color);\n",
              "  }\n",
              "\n",
              "  .colab-df-quickchart-complete:disabled,\n",
              "  .colab-df-quickchart-complete:disabled:hover {\n",
              "    background-color: var(--disabled-bg-color);\n",
              "    fill: var(--disabled-fill-color);\n",
              "    box-shadow: none;\n",
              "  }\n",
              "\n",
              "  .colab-df-spinner {\n",
              "    border: 2px solid var(--fill-color);\n",
              "    border-color: transparent;\n",
              "    border-bottom-color: var(--fill-color);\n",
              "    animation:\n",
              "      spin 1s steps(1) infinite;\n",
              "  }\n",
              "\n",
              "  @keyframes spin {\n",
              "    0% {\n",
              "      border-color: transparent;\n",
              "      border-bottom-color: var(--fill-color);\n",
              "      border-left-color: var(--fill-color);\n",
              "    }\n",
              "    20% {\n",
              "      border-color: transparent;\n",
              "      border-left-color: var(--fill-color);\n",
              "      border-top-color: var(--fill-color);\n",
              "    }\n",
              "    30% {\n",
              "      border-color: transparent;\n",
              "      border-left-color: var(--fill-color);\n",
              "      border-top-color: var(--fill-color);\n",
              "      border-right-color: var(--fill-color);\n",
              "    }\n",
              "    40% {\n",
              "      border-color: transparent;\n",
              "      border-right-color: var(--fill-color);\n",
              "      border-top-color: var(--fill-color);\n",
              "    }\n",
              "    60% {\n",
              "      border-color: transparent;\n",
              "      border-right-color: var(--fill-color);\n",
              "    }\n",
              "    80% {\n",
              "      border-color: transparent;\n",
              "      border-right-color: var(--fill-color);\n",
              "      border-bottom-color: var(--fill-color);\n",
              "    }\n",
              "    90% {\n",
              "      border-color: transparent;\n",
              "      border-bottom-color: var(--fill-color);\n",
              "    }\n",
              "  }\n",
              "</style>\n",
              "\n",
              "  <script>\n",
              "    async function quickchart(key) {\n",
              "      const quickchartButtonEl =\n",
              "        document.querySelector('#' + key + ' button');\n",
              "      quickchartButtonEl.disabled = true;  // To prevent multiple clicks.\n",
              "      quickchartButtonEl.classList.add('colab-df-spinner');\n",
              "      try {\n",
              "        const charts = await google.colab.kernel.invokeFunction(\n",
              "            'suggestCharts', [key], {});\n",
              "      } catch (error) {\n",
              "        console.error('Error during call to suggestCharts:', error);\n",
              "      }\n",
              "      quickchartButtonEl.classList.remove('colab-df-spinner');\n",
              "      quickchartButtonEl.classList.add('colab-df-quickchart-complete');\n",
              "    }\n",
              "    (() => {\n",
              "      let quickchartButtonEl =\n",
              "        document.querySelector('#df-1e33b0b8-38a5-4c27-af57-c6c44dfc52a9 button');\n",
              "      quickchartButtonEl.style.display =\n",
              "        google.colab.kernel.accessAllowed ? 'block' : 'none';\n",
              "    })();\n",
              "  </script>\n",
              "</div>\n",
              "    </div>\n",
              "  </div>\n"
            ],
            "text/plain": [
              "     doc_id                                           document  \\\n",
              "0  2p7qrgx0  Since 2007, many cases of fever, thrombocytope...   \n",
              "1  25dcnext  BACKGROUND: Respiratory viral (RV) outbreaks i...   \n",
              "2  2jq626ye  A novel coronavirus (2019-nCoV) originating in...   \n",
              "3  270msv5l  • Several studies suggested Baricitinib as a p...   \n",
              "4  14x4uqq7  Evidence from the 2003 SARS epidemic and 2009 ...   \n",
              "\n",
              "                                       processed_doc  \n",
              "0  2007 case fever thrombocytopenia leukopenia sy...  \n",
              "1  BACKGROUND respiratory viral RV outbreak rehab...  \n",
              "2  novel coronavirus 2019 nCoV originate Wuhan Ch...  \n",
              "3  study suggest Baricitinib potential drug manag...  \n",
              "4  evidence 2003 SARS epidemic 2009 H1N1 pandemic...  "
            ]
          },
          "execution_count": 10,
          "metadata": {},
          "output_type": "execute_result"
        }
      ],
      "source": [
        "docs.head()"
      ]
    },
    {
      "cell_type": "code",
      "execution_count": 11,
      "metadata": {
        "colab": {
          "base_uri": "https://localhost:8080/",
          "height": 204
        },
        "id": "XmfVyJMKqGgy",
        "outputId": "e8f7a273-0695-4391-95df-b85035a7eb1c"
      },
      "outputs": [
        {
          "data": {
            "text/html": [
              "\n",
              "  <div id=\"df-e02a7677-a008-4dd2-92ca-5362891b30a2\" class=\"colab-df-container\">\n",
              "    <div>\n",
              "<style scoped>\n",
              "    .dataframe tbody tr th:only-of-type {\n",
              "        vertical-align: middle;\n",
              "    }\n",
              "\n",
              "    .dataframe tbody tr th {\n",
              "        vertical-align: top;\n",
              "    }\n",
              "\n",
              "    .dataframe thead th {\n",
              "        text-align: right;\n",
              "    }\n",
              "</style>\n",
              "<table border=\"1\" class=\"dataframe\">\n",
              "  <thead>\n",
              "    <tr style=\"text-align: right;\">\n",
              "      <th></th>\n",
              "      <th>query_id</th>\n",
              "      <th>query</th>\n",
              "      <th>processed_query</th>\n",
              "    </tr>\n",
              "  </thead>\n",
              "  <tbody>\n",
              "    <tr>\n",
              "      <th>0</th>\n",
              "      <td>1</td>\n",
              "      <td>what is the origin of COVID-19</td>\n",
              "      <td>origin COVID-19</td>\n",
              "    </tr>\n",
              "    <tr>\n",
              "      <th>1</th>\n",
              "      <td>2</td>\n",
              "      <td>how does the coronavirus respond to changes in...</td>\n",
              "      <td>coronavirus respond change weather</td>\n",
              "    </tr>\n",
              "    <tr>\n",
              "      <th>2</th>\n",
              "      <td>3</td>\n",
              "      <td>will SARS-CoV2 infected people develop immunit...</td>\n",
              "      <td>SARS CoV2 infect people develop immunity cross...</td>\n",
              "    </tr>\n",
              "    <tr>\n",
              "      <th>3</th>\n",
              "      <td>4</td>\n",
              "      <td>what causes death from Covid-19?</td>\n",
              "      <td>cause death Covid-19</td>\n",
              "    </tr>\n",
              "    <tr>\n",
              "      <th>4</th>\n",
              "      <td>5</td>\n",
              "      <td>what drugs have been active against SARS-CoV o...</td>\n",
              "      <td>drug active SARS CoV SARS CoV-2 animal study</td>\n",
              "    </tr>\n",
              "  </tbody>\n",
              "</table>\n",
              "</div>\n",
              "    <div class=\"colab-df-buttons\">\n",
              "\n",
              "  <div class=\"colab-df-container\">\n",
              "    <button class=\"colab-df-convert\" onclick=\"convertToInteractive('df-e02a7677-a008-4dd2-92ca-5362891b30a2')\"\n",
              "            title=\"Convert this dataframe to an interactive table.\"\n",
              "            style=\"display:none;\">\n",
              "\n",
              "  <svg xmlns=\"http://www.w3.org/2000/svg\" height=\"24px\" viewBox=\"0 -960 960 960\">\n",
              "    <path d=\"M120-120v-720h720v720H120Zm60-500h600v-160H180v160Zm220 220h160v-160H400v160Zm0 220h160v-160H400v160ZM180-400h160v-160H180v160Zm440 0h160v-160H620v160ZM180-180h160v-160H180v160Zm440 0h160v-160H620v160Z\"/>\n",
              "  </svg>\n",
              "    </button>\n",
              "\n",
              "  <style>\n",
              "    .colab-df-container {\n",
              "      display:flex;\n",
              "      gap: 12px;\n",
              "    }\n",
              "\n",
              "    .colab-df-convert {\n",
              "      background-color: #E8F0FE;\n",
              "      border: none;\n",
              "      border-radius: 50%;\n",
              "      cursor: pointer;\n",
              "      display: none;\n",
              "      fill: #1967D2;\n",
              "      height: 32px;\n",
              "      padding: 0 0 0 0;\n",
              "      width: 32px;\n",
              "    }\n",
              "\n",
              "    .colab-df-convert:hover {\n",
              "      background-color: #E2EBFA;\n",
              "      box-shadow: 0px 1px 2px rgba(60, 64, 67, 0.3), 0px 1px 3px 1px rgba(60, 64, 67, 0.15);\n",
              "      fill: #174EA6;\n",
              "    }\n",
              "\n",
              "    .colab-df-buttons div {\n",
              "      margin-bottom: 4px;\n",
              "    }\n",
              "\n",
              "    [theme=dark] .colab-df-convert {\n",
              "      background-color: #3B4455;\n",
              "      fill: #D2E3FC;\n",
              "    }\n",
              "\n",
              "    [theme=dark] .colab-df-convert:hover {\n",
              "      background-color: #434B5C;\n",
              "      box-shadow: 0px 1px 3px 1px rgba(0, 0, 0, 0.15);\n",
              "      filter: drop-shadow(0px 1px 2px rgba(0, 0, 0, 0.3));\n",
              "      fill: #FFFFFF;\n",
              "    }\n",
              "  </style>\n",
              "\n",
              "    <script>\n",
              "      const buttonEl =\n",
              "        document.querySelector('#df-e02a7677-a008-4dd2-92ca-5362891b30a2 button.colab-df-convert');\n",
              "      buttonEl.style.display =\n",
              "        google.colab.kernel.accessAllowed ? 'block' : 'none';\n",
              "\n",
              "      async function convertToInteractive(key) {\n",
              "        const element = document.querySelector('#df-e02a7677-a008-4dd2-92ca-5362891b30a2');\n",
              "        const dataTable =\n",
              "          await google.colab.kernel.invokeFunction('convertToInteractive',\n",
              "                                                    [key], {});\n",
              "        if (!dataTable) return;\n",
              "\n",
              "        const docLinkHtml = 'Like what you see? Visit the ' +\n",
              "          '<a target=\"_blank\" href=https://colab.research.google.com/notebooks/data_table.ipynb>data table notebook</a>'\n",
              "          + ' to learn more about interactive tables.';\n",
              "        element.innerHTML = '';\n",
              "        dataTable['output_type'] = 'display_data';\n",
              "        await google.colab.output.renderOutput(dataTable, element);\n",
              "        const docLink = document.createElement('div');\n",
              "        docLink.innerHTML = docLinkHtml;\n",
              "        element.appendChild(docLink);\n",
              "      }\n",
              "    </script>\n",
              "  </div>\n",
              "\n",
              "\n",
              "<div id=\"df-7982f92d-d36f-4776-90ba-39560fd9f5ea\">\n",
              "  <button class=\"colab-df-quickchart\" onclick=\"quickchart('df-7982f92d-d36f-4776-90ba-39560fd9f5ea')\"\n",
              "            title=\"Suggest charts\"\n",
              "            style=\"display:none;\">\n",
              "\n",
              "<svg xmlns=\"http://www.w3.org/2000/svg\" height=\"24px\"viewBox=\"0 0 24 24\"\n",
              "     width=\"24px\">\n",
              "    <g>\n",
              "        <path d=\"M19 3H5c-1.1 0-2 .9-2 2v14c0 1.1.9 2 2 2h14c1.1 0 2-.9 2-2V5c0-1.1-.9-2-2-2zM9 17H7v-7h2v7zm4 0h-2V7h2v10zm4 0h-2v-4h2v4z\"/>\n",
              "    </g>\n",
              "</svg>\n",
              "  </button>\n",
              "\n",
              "<style>\n",
              "  .colab-df-quickchart {\n",
              "      --bg-color: #E8F0FE;\n",
              "      --fill-color: #1967D2;\n",
              "      --hover-bg-color: #E2EBFA;\n",
              "      --hover-fill-color: #174EA6;\n",
              "      --disabled-fill-color: #AAA;\n",
              "      --disabled-bg-color: #DDD;\n",
              "  }\n",
              "\n",
              "  [theme=dark] .colab-df-quickchart {\n",
              "      --bg-color: #3B4455;\n",
              "      --fill-color: #D2E3FC;\n",
              "      --hover-bg-color: #434B5C;\n",
              "      --hover-fill-color: #FFFFFF;\n",
              "      --disabled-bg-color: #3B4455;\n",
              "      --disabled-fill-color: #666;\n",
              "  }\n",
              "\n",
              "  .colab-df-quickchart {\n",
              "    background-color: var(--bg-color);\n",
              "    border: none;\n",
              "    border-radius: 50%;\n",
              "    cursor: pointer;\n",
              "    display: none;\n",
              "    fill: var(--fill-color);\n",
              "    height: 32px;\n",
              "    padding: 0;\n",
              "    width: 32px;\n",
              "  }\n",
              "\n",
              "  .colab-df-quickchart:hover {\n",
              "    background-color: var(--hover-bg-color);\n",
              "    box-shadow: 0 1px 2px rgba(60, 64, 67, 0.3), 0 1px 3px 1px rgba(60, 64, 67, 0.15);\n",
              "    fill: var(--button-hover-fill-color);\n",
              "  }\n",
              "\n",
              "  .colab-df-quickchart-complete:disabled,\n",
              "  .colab-df-quickchart-complete:disabled:hover {\n",
              "    background-color: var(--disabled-bg-color);\n",
              "    fill: var(--disabled-fill-color);\n",
              "    box-shadow: none;\n",
              "  }\n",
              "\n",
              "  .colab-df-spinner {\n",
              "    border: 2px solid var(--fill-color);\n",
              "    border-color: transparent;\n",
              "    border-bottom-color: var(--fill-color);\n",
              "    animation:\n",
              "      spin 1s steps(1) infinite;\n",
              "  }\n",
              "\n",
              "  @keyframes spin {\n",
              "    0% {\n",
              "      border-color: transparent;\n",
              "      border-bottom-color: var(--fill-color);\n",
              "      border-left-color: var(--fill-color);\n",
              "    }\n",
              "    20% {\n",
              "      border-color: transparent;\n",
              "      border-left-color: var(--fill-color);\n",
              "      border-top-color: var(--fill-color);\n",
              "    }\n",
              "    30% {\n",
              "      border-color: transparent;\n",
              "      border-left-color: var(--fill-color);\n",
              "      border-top-color: var(--fill-color);\n",
              "      border-right-color: var(--fill-color);\n",
              "    }\n",
              "    40% {\n",
              "      border-color: transparent;\n",
              "      border-right-color: var(--fill-color);\n",
              "      border-top-color: var(--fill-color);\n",
              "    }\n",
              "    60% {\n",
              "      border-color: transparent;\n",
              "      border-right-color: var(--fill-color);\n",
              "    }\n",
              "    80% {\n",
              "      border-color: transparent;\n",
              "      border-right-color: var(--fill-color);\n",
              "      border-bottom-color: var(--fill-color);\n",
              "    }\n",
              "    90% {\n",
              "      border-color: transparent;\n",
              "      border-bottom-color: var(--fill-color);\n",
              "    }\n",
              "  }\n",
              "</style>\n",
              "\n",
              "  <script>\n",
              "    async function quickchart(key) {\n",
              "      const quickchartButtonEl =\n",
              "        document.querySelector('#' + key + ' button');\n",
              "      quickchartButtonEl.disabled = true;  // To prevent multiple clicks.\n",
              "      quickchartButtonEl.classList.add('colab-df-spinner');\n",
              "      try {\n",
              "        const charts = await google.colab.kernel.invokeFunction(\n",
              "            'suggestCharts', [key], {});\n",
              "      } catch (error) {\n",
              "        console.error('Error during call to suggestCharts:', error);\n",
              "      }\n",
              "      quickchartButtonEl.classList.remove('colab-df-spinner');\n",
              "      quickchartButtonEl.classList.add('colab-df-quickchart-complete');\n",
              "    }\n",
              "    (() => {\n",
              "      let quickchartButtonEl =\n",
              "        document.querySelector('#df-7982f92d-d36f-4776-90ba-39560fd9f5ea button');\n",
              "      quickchartButtonEl.style.display =\n",
              "        google.colab.kernel.accessAllowed ? 'block' : 'none';\n",
              "    })();\n",
              "  </script>\n",
              "</div>\n",
              "    </div>\n",
              "  </div>\n"
            ],
            "text/plain": [
              "   query_id                                              query  \\\n",
              "0         1                     what is the origin of COVID-19   \n",
              "1         2  how does the coronavirus respond to changes in...   \n",
              "2         3  will SARS-CoV2 infected people develop immunit...   \n",
              "3         4                   what causes death from Covid-19?   \n",
              "4         5  what drugs have been active against SARS-CoV o...   \n",
              "\n",
              "                                     processed_query  \n",
              "0                                    origin COVID-19  \n",
              "1                 coronavirus respond change weather  \n",
              "2  SARS CoV2 infect people develop immunity cross...  \n",
              "3                               cause death Covid-19  \n",
              "4       drug active SARS CoV SARS CoV-2 animal study  "
            ]
          },
          "execution_count": 11,
          "metadata": {},
          "output_type": "execute_result"
        }
      ],
      "source": [
        "queries.head()"
      ]
    },
    {
      "cell_type": "code",
      "execution_count": 12,
      "metadata": {
        "colab": {
          "base_uri": "https://localhost:8080/"
        },
        "id": "RXvv7EmpRMnM",
        "outputId": "ff033ba4-d9e8-4ecc-c908-8b5b90c9c174"
      },
      "outputs": [
        {
          "name": "stdout",
          "output_type": "stream",
          "text": [
            "15\n",
            "30\n"
          ]
        }
      ],
      "source": [
        "series = pd.Series(qrels['query_id'])\n",
        "print(series.searchsorted(2))\n",
        "print(series.searchsorted(3))\n",
        "# it seems the qrels data provides 15 best documents for each query"
      ]
    },
    {
      "cell_type": "code",
      "execution_count": 13,
      "metadata": {
        "colab": {
          "base_uri": "https://localhost:8080/"
        },
        "id": "NJDODmSOki_a",
        "outputId": "a62fee92-0d50-465f-d953-f2657061e487"
      },
      "outputs": [
        {
          "name": "stdout",
          "output_type": "stream",
          "text": [
            "query 10: has social distancing had an impact on slowing the spread of COVID-19?\n",
            "more relevant: Objective: In absence of any vaccine, the Corona Virus Disease 2019 (COVID-19) pandemic is being contained through a non-pharmaceutical measure termed Social Distancing (SD). However, whether SD alone is enough to flatten the epidemic curve is debatable. Using a Stochastic Computational Simulation Model, we investigated the impact of increasing SD, hospital beds and COVID-19 detection rates in preventing COVID-19 cases and fatalities. Research Design and Methods: The Stochastic Simulation Model was built using the EpiModel package in R. As a proof of concept study, we ran the simulation on Kasaragod, the most affected district in Kerala. We added 3 compartments to the SEIR model to obtain a SEIQHRF (Susceptible-Exposed-Infectious-Quarantined-Hospitalised-Recovered-Fatal) model. Results: Implementing SD only delayed the appearance of peak prevalence of COVID-19 cases. Doubling of hospital beds could not reduce the fatal cases probably due to its overwhelming number compared to the hospital beds. Increasing detection rates could significantly flatten the curve and reduce the peak prevalence of cases (increasing detection rate by 5 times could reduce case number to half). Conclusions: An effective strategy to contain the epidemic spread of COVID-19 in India is to increase detection rates in combination with SD measures and increase in hospital beds.\n",
            "less relevant: This work examines the impact of various non-pharmaceutical control measures (government and personal) on the population dynamics of the novel coronavirus disease 2019 (COVID-19) in Lagos, Nigeria, using an appropriately formulated mathematical model. Using the available data, since its first reported case on 16 March 2020, we seek to develop a predicative tool for the cumulative number of reported cases and the number of active cases in Lagos; we also estimate the basic reproduction number of the disease outbreak in the aforementioned State in Nigeria. Using numerical simulations, we show the effect of control measures, specifically the common social distancing, use of face mask and case detection (via contact tracing and subsequent testings) on the dynamics of COVID-19. We also provide forecasts for the cumulative number of reported cases and active cases for different levels of the control measures being implemented. Numerical simulations of the model show that if at least 55% of the population comply with the social distancing regulation with about 55% of the population effectively making use of face masks while in public, the disease will eventually die out in the population and that, if we can step up the case detection rate for symptomatic individuals to about 0.8 per day, with about 55% of the population complying with the social distancing regulations, it will lead to a great decrease in the incidence (and prevalence) of COVID-19.\n"
          ]
        }
      ],
      "source": [
        "# checking data and trying to see if qrels is sorted by relevance\n",
        "\n",
        "print(\"query 10: \" + queries['query'][9])\n",
        "\n",
        "best_relevant = qrels['doc_id'][9*15]\n",
        "worst_relevant = qrels['doc_id'][9*15+14]\n",
        "table = docs[docs['doc_id'].isin([best_relevant, worst_relevant])]\n",
        "\n",
        "print('more relevant:', table.iloc[0]['document'])\n",
        "print('less relevant:', table.iloc[1]['document'])\n",
        "\n",
        "# and the answer is probably yes!"
      ]
    },
    {
      "cell_type": "markdown",
      "metadata": {
        "id": "wOtyhMmD2Gd_"
      },
      "source": [
        "#### Gold related documents"
      ]
    },
    {
      "cell_type": "code",
      "execution_count": 14,
      "metadata": {
        "id": "fW664THAyi6P"
      },
      "outputs": [],
      "source": [
        "doc_id_to_index = {}\n",
        "for i, doc_id in enumerate(docs['doc_id']):\n",
        "  doc_id_to_index[doc_id] = i\n",
        "\n",
        "def doc_index(doc_id):\n",
        "  return doc_id_to_index[doc_id]"
      ]
    },
    {
      "cell_type": "code",
      "execution_count": 15,
      "metadata": {
        "id": "gzOtjLxwfogI"
      },
      "outputs": [],
      "source": [
        "def gold_related_docs(qid):\n",
        "  '''\n",
        "  qid: query id\n",
        "  '''\n",
        "  related_ids = qrels['doc_id'][qid*15:(qid+1)*15]\n",
        "  return np.array([doc_index(id) for id in related_ids])\n",
        "\n",
        "gold_best = np.zeros((len(queries), 15)).astype(int)\n",
        "for q in range(len(queries)):\n",
        "  gold_best[q, :] = gold_related_docs(q)"
      ]
    },
    {
      "cell_type": "markdown",
      "metadata": {
        "id": "XvsdXDZrgKXy"
      },
      "source": [
        "## TF-IDF"
      ]
    },
    {
      "cell_type": "markdown",
      "metadata": {
        "id": "-qApqGlvooSx"
      },
      "source": []
    },
    {
      "cell_type": "code",
      "execution_count": 71,
      "metadata": {
        "colab": {
          "base_uri": "https://localhost:8080/"
        },
        "id": "_4Myjm0WO4Yb",
        "outputId": "12972582-7327-4e58-e552-c1f81a516424"
      },
      "outputs": [
        {
          "data": {
            "text/plain": [
              "(750, 3030)"
            ]
          },
          "execution_count": 71,
          "metadata": {},
          "output_type": "execute_result"
        }
      ],
      "source": [
        "from sklearn.feature_extraction.text import TfidfVectorizer\n",
        "\n",
        "# NOTE: here I prefered using nonbinary vectorizer to get better results\n",
        "vectorizer = TfidfVectorizer(min_df=3, ngram_range=(1,1), max_df=0.8, token_pattern='\\w*[a-z]+\\w*')\n",
        "\n",
        "# now lets fetch embed documents and queries\n",
        "\n",
        "# documents tfidf matrix\n",
        "D = vectorizer.fit_transform(docs['processed_doc'])\n",
        "\n",
        "# queries' tfidf matrix\n",
        "Q = vectorizer.transform(queries['processed_query'])\n",
        "\n",
        "D.shape\n",
        "# you could see the vector size is bigger than 1000"
      ]
    },
    {
      "cell_type": "code",
      "execution_count": 17,
      "metadata": {
        "colab": {
          "base_uri": "https://localhost:8080/"
        },
        "id": "KJkuxKZggRGD",
        "outputId": "c92920ab-44d0-4e3e-a7f6-acd7e26a193b"
      },
      "outputs": [
        {
          "data": {
            "text/plain": [
              "array(['11th', '15th', '1st', ..., 'zoonotic', 'µm', 'μg'], dtype=object)"
            ]
          },
          "execution_count": 17,
          "metadata": {},
          "output_type": "execute_result"
        }
      ],
      "source": [
        "vocab = vectorizer.get_feature_names_out()\n",
        "vocab"
      ]
    },
    {
      "cell_type": "code",
      "execution_count": 18,
      "metadata": {
        "colab": {
          "base_uri": "https://localhost:8080/"
        },
        "id": "VW9JgIbnkkmU",
        "outputId": "752ac075-2fd3-498f-e3d3-08d4d88f0d73"
      },
      "outputs": [
        {
          "data": {
            "text/plain": [
              "array([1., 1., 1., 1., 1.])"
            ]
          },
          "execution_count": 18,
          "metadata": {},
          "output_type": "execute_result"
        }
      ],
      "source": [
        "# since we're just ranking similarities, the size of a query vector is not needed, then we're not gonna use this function here\n",
        "def cosine_sim(v1, v2):\n",
        "  return np.dot(v1, v2) / (np.linalg.norm(v1) * np.linalg.norm(v2))\n",
        "\n",
        "norm = np.linalg.norm(D.toarray(), ord=2, axis=1)\n",
        "norm[0:5]\n",
        "# it also seems the document embedding vectors are already normal so no need to normalize here"
      ]
    },
    {
      "cell_type": "code",
      "execution_count": 19,
      "metadata": {
        "colab": {
          "base_uri": "https://localhost:8080/"
        },
        "id": "FYrBRuVCmj6X",
        "outputId": "0ea19d35-9060-41fa-ec54-9f78eb0870cc"
      },
      "outputs": [
        {
          "data": {
            "text/plain": [
              "(50, 750)"
            ]
          },
          "execution_count": 19,
          "metadata": {},
          "output_type": "execute_result"
        }
      ],
      "source": [
        "# similarity matrix of querries to documents\n",
        "sim_matrix = Q @ D.T\n",
        "sim_matrix.shape"
      ]
    },
    {
      "cell_type": "code",
      "execution_count": 20,
      "metadata": {
        "colab": {
          "base_uri": "https://localhost:8080/"
        },
        "id": "TgC5lMsgnfP-",
        "outputId": "8c5a875e-6655-48ec-cf92-e1a6da49088c"
      },
      "outputs": [
        {
          "data": {
            "text/plain": [
              "(50, 10)"
            ]
          },
          "execution_count": 20,
          "metadata": {},
          "output_type": "execute_result"
        }
      ],
      "source": [
        "# top 10 for each query\n",
        "best = np.argpartition(sim_matrix.toarray(), -10, axis=1)[:, -10:]\n",
        "best.shape"
      ]
    },
    {
      "cell_type": "code",
      "execution_count": 21,
      "metadata": {
        "id": "ITzk8p0CzVjQ"
      },
      "outputs": [],
      "source": [
        "tfidf_scores = sim_matrix.toarray()"
      ]
    },
    {
      "cell_type": "markdown",
      "metadata": {
        "id": "tqwNTNwi3nQb"
      },
      "source": [
        "#### Check correctness of results"
      ]
    },
    {
      "cell_type": "code",
      "execution_count": 22,
      "metadata": {
        "colab": {
          "base_uri": "https://localhost:8080/"
        },
        "id": "9tgZ56389WmE",
        "outputId": "afbeb405-77ff-45c2-c6f4-b05e0a675a13"
      },
      "outputs": [
        {
          "data": {
            "text/plain": [
              "array([[396, 748, 609, 435, 637, 389, 742, 557, 668, 425],\n",
              "       [104, 556, 168, 384, 701, 264, 642, 601,  70, 139],\n",
              "       [667, 485, 253, 172,  14, 281, 235, 586, 297,  38]])"
            ]
          },
          "execution_count": 22,
          "metadata": {},
          "output_type": "execute_result"
        }
      ],
      "source": [
        "best[0:3]"
      ]
    },
    {
      "cell_type": "code",
      "execution_count": 23,
      "metadata": {
        "colab": {
          "base_uri": "https://localhost:8080/"
        },
        "id": "2YEkPKJIkx70",
        "outputId": "a20029b5-1939-4200-b5c2-405e8d73ad41"
      },
      "outputs": [
        {
          "data": {
            "text/plain": [
              "array([[502, 736,  20, 255, 748, 199, 597, 609, 490, 425, 742, 396, 512,\n",
              "        286, 634],\n",
              "       [531, 602, 285, 264, 221, 717, 139, 702, 150, 495, 261, 642, 576,\n",
              "        592, 601],\n",
              "       [586, 579, 136, 510, 126, 514, 485, 172,  75, 239, 693, 134, 699,\n",
              "        732, 603]])"
            ]
          },
          "execution_count": 23,
          "metadata": {},
          "output_type": "execute_result"
        }
      ],
      "source": [
        "gold_best[0:3]"
      ]
    },
    {
      "cell_type": "code",
      "execution_count": 24,
      "metadata": {
        "colab": {
          "base_uri": "https://localhost:8080/"
        },
        "id": "pZkZWZGo4YBQ",
        "outputId": "22df590e-fcd3-4feb-b5a6-5ce4ac35afd4"
      },
      "outputs": [
        {
          "data": {
            "text/plain": [
              "array([[1, 1, 1, 0, 0, 0, 1, 0, 0, 1],\n",
              "       [0, 0, 0, 0, 0, 1, 1, 1, 0, 1],\n",
              "       [0, 1, 0, 1, 0, 0, 0, 1, 0, 0]])"
            ]
          },
          "execution_count": 24,
          "metadata": {},
          "output_type": "execute_result"
        }
      ],
      "source": [
        "result = np.ones_like(best)\n",
        "for q in range(len(queries)):\n",
        "  wrong_idx = np.setdiff1d(best[q, :], gold_related_docs(q))\n",
        "  result[q, :] = np.where(np.isin(best[q], wrong_idx), 0, result[q])\n",
        "\n",
        "tf_idf_result = np.array(result)\n",
        "result[0:3]"
      ]
    },
    {
      "cell_type": "code",
      "execution_count": 25,
      "metadata": {
        "colab": {
          "base_uri": "https://localhost:8080/"
        },
        "id": "5MwozBVQwJ8r",
        "outputId": "25fbcf9d-5597-412d-9bd1-752c1c486e56"
      },
      "outputs": [
        {
          "data": {
            "text/plain": [
              "array([[0.13610416, 0.15588963, 0.13793573, 0.14600265, 0.16434055,\n",
              "        0.16516415, 0.16807466, 0.24941631, 0.16516415, 0.1894379 ]])"
            ]
          },
          "execution_count": 25,
          "metadata": {},
          "output_type": "execute_result"
        }
      ],
      "source": [
        "sim_matrix[0, best[0]].toarray()\n",
        "# we can see the best matrix isn't sorted so we'll have do it for evaluation"
      ]
    },
    {
      "cell_type": "markdown",
      "metadata": {
        "id": "sRs5LIUmMxdo"
      },
      "source": [
        "## BIM"
      ]
    },
    {
      "cell_type": "code",
      "execution_count": 26,
      "metadata": {
        "id": "pc_idoZy7mS-"
      },
      "outputs": [],
      "source": [
        "# perpare data\n",
        "\n",
        "from sklearn.feature_extraction.text import CountVectorizer\n",
        "\n",
        "vectorizer = CountVectorizer(binary=True, token_pattern='\\w*[a-z]+\\w*', min_df=3, max_df=0.8)\n",
        "\n",
        "D = vectorizer.fit_transform(docs['processed_doc'])\n",
        "Q = vectorizer.transform(queries['processed_query'])\n",
        "\n",
        "vocab = vectorizer.get_feature_names_out()\n",
        "vocab_size = len(vocab)"
      ]
    },
    {
      "cell_type": "code",
      "execution_count": 27,
      "metadata": {
        "id": "de2aHJ2o_5NO"
      },
      "outputs": [],
      "source": [
        "# df_t: the number of dumments that contain term t\n",
        "dft = D.sum(axis=0)[0]\n",
        "\n",
        "N = D.shape[1]\n",
        "ut = dft/N\n",
        "\n",
        "iut = 1/ut"
      ]
    },
    {
      "cell_type": "markdown",
      "metadata": {
        "id": "UgjkQBqEWoLk"
      },
      "source": [
        "We have RSV_d = sum_{t: x_t = q_t = 1} log([p_t/(1-p_t)] * [(1-u_t)/u_t]) = sum log([X] * [iut]) = sum log (r)\n",
        "\n",
        "Notice that (1-ut)/ut = (N - df)/df ~ N/df = 1/ut = iut"
      ]
    },
    {
      "cell_type": "markdown",
      "metadata": {
        "id": "2LcejWQQbg30"
      },
      "source": [
        "NOTE: since we KNOW that we are going to redo some calculations between queries, I'm going to aggregate the vocab of all queries first to do some optimization and calculate pt/(1-pt) for the needed terms"
      ]
    },
    {
      "cell_type": "code",
      "execution_count": 28,
      "metadata": {
        "id": "vXgM-VK3dIiQ"
      },
      "outputs": [],
      "source": [
        "# the terms that appear in queries\n",
        "t = Q.sum(axis=0) > 0"
      ]
    },
    {
      "cell_type": "code",
      "execution_count": 29,
      "metadata": {
        "id": "1wigpb-hgyl4"
      },
      "outputs": [],
      "source": [
        "def calc_X(p):\n",
        "  return np.ones((1,vocab_size)) * p/(1-p)\n",
        "\n",
        "def f(p):\n",
        "  X = calc_X(p)\n",
        "  return np.where(t, np.log(np.multiply(X, iut)), 0)[0]\n",
        "\n",
        "Da = D.toarray()\n",
        "Qa = Q.toarray()\n",
        "\n",
        "# BIM_results = {}\n",
        "BIM_scores = {}\n",
        "\n",
        "for p in [0.3, 0.5, 0.7]:\n",
        "  r = f(p)\n",
        "\n",
        "  scores = np.zeros((Q.shape[0], D.shape[0]))\n",
        "  # todo: optimize\n",
        "  for d in range(D.shape[0]):\n",
        "    for q in range(Q.shape[0]):\n",
        "      scores[q,d] = r[(Da[d] > 0) & (Qa[q] > 0)].sum()\n",
        "\n",
        "  # BIM_results[p] = correctness_matrix(top10matrix(scores))\n",
        "  BIM_scores[p] = scores"
      ]
    },
    {
      "cell_type": "code",
      "execution_count": 30,
      "metadata": {
        "id": "Nf8lg-ATLG5C"
      },
      "outputs": [],
      "source": [
        "# BIM_results[0.5][0:3]"
      ]
    },
    {
      "cell_type": "markdown",
      "metadata": {
        "id": "ZW39qVMrLxwS"
      },
      "source": [
        "## BM25"
      ]
    },
    {
      "cell_type": "code",
      "execution_count": 31,
      "metadata": {
        "id": "g4bW0v_MX2z-"
      },
      "outputs": [],
      "source": [
        "vectorizer = CountVectorizer(binary=False, token_pattern='\\w*[a-z]+\\w*', min_df=3, max_df=0.8)\n",
        "\n",
        "D = vectorizer.fit_transform(docs['processed_doc'])\n",
        "Q = vectorizer.transform(queries['processed_query'])"
      ]
    },
    {
      "cell_type": "code",
      "execution_count": 32,
      "metadata": {
        "id": "gnS37auIx222"
      },
      "outputs": [],
      "source": [
        "# convert sparse matrices to term existence masks\n",
        "Qt = Q.toarray() > 0\n",
        "\n",
        "Da = D.toarray()"
      ]
    },
    {
      "cell_type": "markdown",
      "metadata": {
        "id": "4I3hyro52C6u"
      },
      "source": [
        "Document Score:\n",
        "∑_{t∈q} log (N/dft) (k1+1)tf / [k1((1-b)+b(Ld/Lave))+tf]\n",
        "\n",
        "∑log iut A / B"
      ]
    },
    {
      "cell_type": "code",
      "execution_count": 33,
      "metadata": {
        "id": "4W8hGUe03box"
      },
      "outputs": [],
      "source": [
        "def bm25(D, Q, Da, Qt, k, b):\n",
        "  # document length\n",
        "  Ld = D.sum(axis=1)\n",
        "  # average document length\n",
        "  Lave = Ld.mean()\n",
        "\n",
        "  L = Ld/Lave\n",
        "\n",
        "  nQ = Q.shape[0]\n",
        "  nD = D.shape[0]\n",
        "  scores = np.zeros((nQ, nD))\n",
        "\n",
        "  for q in range(nQ):\n",
        "    for d in range(nD):\n",
        "\n",
        "      # mask\n",
        "      m = Qt[q]\n",
        "\n",
        "      logiut = np.array(np.log(iut[0,m]).T)[:, 0]\n",
        "\n",
        "      # term frequencies in the document\n",
        "      tf = Da[d, m]\n",
        "\n",
        "\n",
        "      A = (k+1) * tf\n",
        "      B = tf + k*(1 - b + b * L[d,0])\n",
        "\n",
        "      scores[q,d] = (logiut * A/B).sum()\n",
        "\n",
        "  return scores"
      ]
    },
    {
      "cell_type": "markdown",
      "metadata": {
        "id": "7_aNcfHptVDm"
      },
      "source": [
        "### Find Top 10\n",
        "this code was moved here because I needed a function"
      ]
    },
    {
      "cell_type": "code",
      "execution_count": 53,
      "metadata": {
        "id": "KeU9GAbQtUE5"
      },
      "outputs": [],
      "source": [
        "def top10_unsorted_matrix(score_matrix):\n",
        "  '''\n",
        "  score_matrix: Q -> D\n",
        "  top 10 document for each query\n",
        "  '''\n",
        "\n",
        "  return np.argpartition(score_matrix, -10, axis=1)[:, -10:]\n",
        "\n",
        "\n",
        "def correctness_matrix(best):\n",
        "  '''\n",
        "  reports correctness of the 'best' matrix with a matrix of zeros and ones of the same size\n",
        "  '''\n",
        "\n",
        "  result = np.ones_like(best)\n",
        "\n",
        "  # number of queries\n",
        "  nQ = best.shape[0]\n",
        "\n",
        "  for q in range(nQ):\n",
        "    wrong_idx = np.setdiff1d(best[q, :], gold_related_docs(q))\n",
        "    result[q, :] = np.where(np.isin(best[q], wrong_idx), 0, result[q])\n",
        "\n",
        "  return np.array(result)\n",
        "\n",
        "\n",
        "def sorted_best(scores):\n",
        "  best = top10_unsorted_matrix(scores)\n",
        "\n",
        "  for i in range(Q.shape[0]):\n",
        "    sorted_idx = scores[i, best[i]].argsort()[-1::-1]\n",
        "    best[i,:] = best[i,sorted_idx]\n",
        "\n",
        "  iscorrect = correctness_matrix(best)\n",
        "\n",
        "  return best, iscorrect\n",
        "\n",
        "# top 10 correctness map matrix\n",
        "def cmap(scores):\n",
        "  '''\n",
        "  scores -> top 10 best scores and its correctness matrix\n",
        "  '''\n",
        "\n",
        "  _, incorrect = sorted_best(scores)\n",
        "  return incorrect"
      ]
    },
    {
      "cell_type": "markdown",
      "metadata": {
        "id": "MbRxnhdTRMQN"
      },
      "source": [
        "#### Hyperparameters\n",
        "Now lets choose best hyperparameters k and b"
      ]
    },
    {
      "cell_type": "code",
      "execution_count": 37,
      "metadata": {
        "colab": {
          "base_uri": "https://localhost:8080/"
        },
        "id": "A5O7b2_oJULE",
        "outputId": "b59aa497-d028-4fe0-c5a6-f79454de4b84"
      },
      "outputs": [
        {
          "data": {
            "text/plain": [
              "array([[25, 25, 25, 25, 24, 25, 24, 24, 24],\n",
              "       [25, 25, 25, 25, 25, 24, 24, 24, 24],\n",
              "       [25, 25, 26, 25, 25, 24, 24, 24, 22],\n",
              "       [25, 26, 26, 25, 25, 25, 24, 23, 22],\n",
              "       [26, 26, 26, 26, 25, 24, 24, 24, 22],\n",
              "       [26, 27, 27, 26, 25, 25, 25, 23, 22],\n",
              "       [26, 26, 27, 26, 25, 25, 24, 23, 22],\n",
              "       [26, 27, 27, 25, 25, 25, 24, 22, 22],\n",
              "       [26, 27, 27, 25, 25, 25, 24, 22, 20],\n",
              "       [25, 27, 26, 25, 25, 25, 24, 23, 20]])"
            ]
          },
          "execution_count": 37,
          "metadata": {},
          "output_type": "execute_result"
        }
      ],
      "source": [
        "K = np.linspace(0.6, 2.4, num=10)\n",
        "B = np.linspace(0.3, 1.5, num=9)\n",
        "\n",
        "# use number of correct retrievals as the evaluation metric of score matrix\n",
        "sc = lambda scores: scores.sum(axis=None)\n",
        "\n",
        "# to find the best hyperparameters, we only use a subset of our data\n",
        "D_dev = D[0:150]\n",
        "Da_dev = Da[0:150]\n",
        "Q_dev = Q[0:15]\n",
        "Qt_dev = Qt[0:15]\n",
        "\n",
        "kb_sc = np.zeros(shape=(K.shape[0], B.shape[0]), dtype=int)\n",
        "for i,k in enumerate(K):\n",
        "  for j,b in enumerate(B):\n",
        "    scores = correctness_matrix(top10_unsorted_matrix(bm25(D_dev, Q_dev, Da_dev, Qt_dev, k, b)))\n",
        "    kb_sc[i,j] = sc(scores)\n",
        "\n",
        "kb_sc"
      ]
    },
    {
      "cell_type": "code",
      "execution_count": 38,
      "metadata": {
        "colab": {
          "base_uri": "https://localhost:8080/",
          "height": 455
        },
        "id": "hHtMmqMoJWzK",
        "outputId": "573550db-79d1-491c-e22d-7b5effc09983"
      },
      "outputs": [
        {
          "data": {
            "image/png": "[encoded data removed]",
            "text/plain": [
              "<Figure size 640x480 with 2 Axes>"
            ]
          },
          "metadata": {},
          "output_type": "display_data"
        }
      ],
      "source": [
        "import matplotlib.pyplot as plt\n",
        "\n",
        "data = kb_sc\n",
        "\n",
        "plt.imshow(data, cmap='hot', interpolation='nearest')\n",
        "\n",
        "plt.colorbar()\n",
        "plt.title('')\n",
        "\n",
        "plt.xlabel('k')\n",
        "plt.ylabel('b')\n",
        "\n",
        "Klabels = ['']\n",
        "\n",
        "plt.xticks(range(len(K)), [f'{k:.1f}' for k in K])\n",
        "plt.yticks(range(len(B)), [f'{b:.1f}' for b in B])\n",
        "\n",
        "# display the heatmap\n",
        "plt.show()"
      ]
    },
    {
      "cell_type": "markdown",
      "metadata": {
        "id": "UD-B5iTbRXyj"
      },
      "source": [
        "Here we have plotted corresponding scores different ks and bs"
      ]
    },
    {
      "cell_type": "code",
      "execution_count": 39,
      "metadata": {
        "colab": {
          "base_uri": "https://localhost:8080/"
        },
        "id": "ySpyYRdhPIkr",
        "outputId": "4ee213ef-cac6-44e3-8da2-ae862a8a1005"
      },
      "outputs": [
        {
          "data": {
            "text/plain": [
              "(0.7999999999999999, 1.05)"
            ]
          },
          "execution_count": 39,
          "metadata": {},
          "output_type": "execute_result"
        }
      ],
      "source": [
        "i = np.argmax(kb_sc)\n",
        "k = K[i % len(B)]\n",
        "b = B[i // len(B)]\n",
        "k,b"
      ]
    },
    {
      "cell_type": "markdown",
      "metadata": {
        "id": "72KLsEH6SFVT"
      },
      "source": [
        "### Results"
      ]
    },
    {
      "cell_type": "code",
      "execution_count": 40,
      "metadata": {
        "id": "8x2SzvJhR9g5"
      },
      "outputs": [],
      "source": [
        "bm25_scores = bm25(D, Q, Da, Qt, k, b)"
      ]
    },
    {
      "cell_type": "markdown",
      "metadata": {
        "id": "ZGQ6crZrSvvn"
      },
      "source": [
        "## Evaluation"
      ]
    },
    {
      "cell_type": "markdown",
      "metadata": {
        "id": "Yln5U-RxrQhb"
      },
      "source": [
        "### MAP"
      ]
    },
    {
      "cell_type": "code",
      "execution_count": 56,
      "metadata": {
        "id": "lC1nbFHkD2j4"
      },
      "outputs": [],
      "source": [
        "# this is the previous implementation, which was replaced by a faster one\n",
        "def _for_average_precision(r):\n",
        "  '''\n",
        "  r: correctness matrix row, consisting of ones and zeros\n",
        "  one stands for correct retrieved document\n",
        "  '''\n",
        "\n",
        "  n = r.shape[1]\n",
        "\n",
        "  # since we only have top 10 documents, i'll suppose the 5 rest documents are irrelevant\n",
        "  z = np.zeros(15)\n",
        "  z[:n] = r[0,:]\n",
        "\n",
        "  r = z\n",
        "  n = 15\n",
        "\n",
        "  num = r.cumsum() * r\n",
        "  denom = np.arange(n) + 1\n",
        "\n",
        "  # for i in range(n):\n",
        "  #   print(f'{num[i]} / {denom[i]}')\n",
        "\n",
        "  return (num / denom).mean()\n",
        "\n",
        "def _for_mean_average_precision(cm):\n",
        "  n = cm.shape[0]\n",
        "  ap = np.zeros(n)\n",
        "  for i in range(n):\n",
        "    ap[i] = _for_average_precision(cm[i])\n",
        "\n",
        "  return ap.mean()\n",
        "\n",
        "def MAP(cm):\n",
        "  n, m = cm.shape\n",
        "  z = np.zeros((n, 15))\n",
        "  z[:, :m] = cm\n",
        "\n",
        "  num = z.cumsum(axis=1) * z\n",
        "  denom = np.repeat([np.arange(15)], n, axis=0) + 1\n",
        "\n",
        "  return (num / denom).mean(axis=None)"
      ]
    },
    {
      "cell_type": "markdown",
      "metadata": {
        "id": "TtYnTpbDrQhc"
      },
      "source": [
        "### P@K"
      ]
    },
    {
      "cell_type": "code",
      "execution_count": 42,
      "metadata": {
        "id": "SwlYXajErQhc"
      },
      "outputs": [],
      "source": [
        "def PAt(k, cm):\n",
        "    return cm[:,:k].mean(axis=1).mean()"
      ]
    },
    {
      "cell_type": "markdown",
      "metadata": {
        "id": "8q8vOUJqrQhd"
      },
      "source": [
        "### Reciprocal Rank"
      ]
    },
    {
      "cell_type": "code",
      "execution_count": 43,
      "metadata": {
        "id": "ALm6hVXzrQhd"
      },
      "outputs": [],
      "source": [
        "def MRR(cm):\n",
        "    return (1 / (cm.argmax(axis=1) + 1)).mean()"
      ]
    },
    {
      "cell_type": "markdown",
      "metadata": {
        "id": "UDsEGmK8roMt"
      },
      "source": [
        "### Calculate & Plot"
      ]
    },
    {
      "cell_type": "code",
      "execution_count": 54,
      "metadata": {
        "id": "_PgYlB6XrQhg"
      },
      "outputs": [],
      "source": [
        "# score matrix for each algorithm\n",
        "scores_m = {\n",
        "    'TFIDF': tfidf_scores,\n",
        "    'BIM 0.3': BIM_scores[0.3],\n",
        "    'BIM 0.5': BIM_scores[0.5],\n",
        "    'BIM 0.7': BIM_scores[0.7],\n",
        "    'BM25': bm25_scores\n",
        "}\n",
        "\n",
        "scores_cmap = { key: cmap(val) for key,val in scores_m.items() }"
      ]
    },
    {
      "cell_type": "code",
      "execution_count": 58,
      "metadata": {
        "colab": {
          "base_uri": "https://localhost:8080/"
        },
        "id": "vZUSSKQirnHf",
        "outputId": "483bb703-98ca-47e5-def9-b3192e205ec2"
      },
      "outputs": [
        {
          "data": {
            "text/plain": [
              "array([[0.33616243, 0.696     , 0.576     , 0.91122222],\n",
              "       [0.22118519, 0.512     , 0.444     , 0.77130159],\n",
              "       [0.20893175, 0.48      , 0.434     , 0.7309127 ],\n",
              "       [0.20203175, 0.452     , 0.426     , 0.73119048],\n",
              "       [0.26654762, 0.592     , 0.508     , 0.80719048]])"
            ]
          },
          "execution_count": 58,
          "metadata": {},
          "output_type": "execute_result"
        }
      ],
      "source": [
        "scores = np.zeros((5,4))\n",
        "\n",
        "for i,m in enumerate(scores_cmap.values()):\n",
        "  scores[i, 0] = MAP(m)\n",
        "  scores[i, 1] = PAt(5, m)\n",
        "  scores[i, 2] = PAt(10, m)\n",
        "  scores[i, 3] = MRR(m)\n",
        "\n",
        "scores"
      ]
    },
    {
      "cell_type": "code",
      "execution_count": 70,
      "metadata": {
        "colab": {
          "base_uri": "https://localhost:8080/",
          "height": 489
        },
        "id": "21ZgM8CXvNzC",
        "outputId": "317a2007-c266-4543-e083-5d844801c16d"
      },
      "outputs": [
        {
          "data": {
            "text/plain": [
              "Text(0.5, 1.0, 'Scores')"
            ]
          },
          "execution_count": 70,
          "metadata": {},
          "output_type": "execute_result"
        },
        {
          "data": {
            "image/png": "[encoded data removed]",
            "text/plain": [
              "<Figure size 640x480 with 2 Axes>"
            ]
          },
          "metadata": {},
          "output_type": "display_data"
        }
      ],
      "source": [
        "plt.imshow(scores, cmap='viridis')\n",
        "\n",
        "plt.ylabel('Algorithms')\n",
        "plt.xlabel('Evaluation Metrics')\n",
        "\n",
        "plt.colorbar()\n",
        "\n",
        "plt.xticks(range(4), ['MAP', 'P@5', 'P@10', 'MRR'])\n",
        "plt.yticks(range(len(scores)), list(scores_cmap.keys()))\n",
        "plt.title('Scores')"
      ]
    },
    {
      "cell_type": "code",
      "execution_count": null,
      "metadata": {
        "id": "2Y1PEQI9xDnj"
      },
      "outputs": [],
      "source": []
    }
  ],
  "metadata": {
    "colab": {
      "collapsed_sections": [
        "tqwNTNwi3nQb"
      ],
      "provenance": []
    },
    "kernelspec": {
      "display_name": "Python 3",
      "name": "python3"
    },
    "language_info": {
      "codemirror_mode": {
        "name": "ipython",
        "version": 3
      },
      "file_extension": ".py",
      "mimetype": "text/x-python",
      "name": "python",
      "nbconvert_exporter": "python",
      "pygments_lexer": "ipython3",
      "version": "3.12.0"
    }
  },
  "nbformat": 4,
  "nbformat_minor": 0
}
