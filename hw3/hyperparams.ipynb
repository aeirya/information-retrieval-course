{
 "cells": [
  {
   "cell_type": "code",
   "execution_count": 1,
   "metadata": {},
   "outputs": [
    {
     "name": "stdout",
     "output_type": "stream",
     "text": [
      "\n",
      "                        ep: batch 0, single 500\n",
      "                        sample size: batch 0.00e+00 single 1.78e-02\n",
      "                        lr: single 1.58e-02\n",
      "                        \n"
     ]
    },
    {
     "name": "stderr",
     "output_type": "stream",
     "text": [
      "256it [00:06, 40.93it/s]"
     ]
    },
    {
     "name": "stdout",
     "output_type": "stream",
     "text": [
      "err: 1.85e+04, lr: 0.0158489 "
     ]
    },
    {
     "name": "stderr",
     "output_type": "stream",
     "text": [
      "500it [00:11, 41.81it/s]\n"
     ]
    },
    {
     "name": "stdout",
     "output_type": "stream",
     "text": [
      "best error: 8.38e+03\n",
      "\n",
      "                        ep: batch 0, single 500\n",
      "                        sample size: batch 0.00e+00 single 3.16e-01\n",
      "                        lr: single 5.41e-03\n",
      "                        \n"
     ]
    },
    {
     "name": "stderr",
     "output_type": "stream",
     "text": [
      "253it [00:27, 10.23it/s]"
     ]
    },
    {
     "name": "stdout",
     "output_type": "stream",
     "text": [
      "err: 3.34e+02, lr: 0.0054116 "
     ]
    },
    {
     "name": "stderr",
     "output_type": "stream",
     "text": [
      "500it [00:57,  8.64it/s]\n"
     ]
    },
    {
     "name": "stdout",
     "output_type": "stream",
     "text": [
      "best error: 1.59e+02\n",
      "\n",
      "                        ep: batch 0, single 500\n",
      "                        sample size: batch 0.00e+00 single 1.78e-02\n",
      "                        lr: single 5.41e-03\n",
      "                        \n"
     ]
    },
    {
     "name": "stderr",
     "output_type": "stream",
     "text": [
      "256it [00:06, 40.11it/s]"
     ]
    },
    {
     "name": "stdout",
     "output_type": "stream",
     "text": [
      "err: 2.21e+04, lr: 0.0054116 "
     ]
    },
    {
     "name": "stderr",
     "output_type": "stream",
     "text": [
      "500it [00:14, 35.05it/s]\n"
     ]
    },
    {
     "name": "stdout",
     "output_type": "stream",
     "text": [
      "best error: 2.08e+04\n",
      "\n",
      "                        ep: batch 0, single 500\n",
      "                        sample size: batch 0.00e+00 single 1.00e-03\n",
      "                        lr: single 5.41e-03\n",
      "                        \n"
     ]
    },
    {
     "name": "stderr",
     "output_type": "stream",
     "text": [
      "256it [00:05, 48.38it/s]"
     ]
    },
    {
     "name": "stdout",
     "output_type": "stream",
     "text": [
      "err: 2.30e+04, lr: 0.0054116 "
     ]
    },
    {
     "name": "stderr",
     "output_type": "stream",
     "text": [
      "500it [00:09, 50.77it/s]\n"
     ]
    },
    {
     "name": "stdout",
     "output_type": "stream",
     "text": [
      "best error: 2.30e+04\n",
      "\n",
      "                        ep: batch 0, single 500\n",
      "                        sample size: batch 0.00e+00 single 3.16e-01\n",
      "                        lr: single 1.85e-03\n",
      "                        \n"
     ]
    },
    {
     "name": "stderr",
     "output_type": "stream",
     "text": [
      "252it [00:26,  9.66it/s]"
     ]
    },
    {
     "name": "stdout",
     "output_type": "stream",
     "text": [
      "err: 7.68e+03, lr: 0.0018478 "
     ]
    },
    {
     "name": "stderr",
     "output_type": "stream",
     "text": [
      "500it [00:55,  8.93it/s]\n"
     ]
    },
    {
     "name": "stdout",
     "output_type": "stream",
     "text": [
      "best error: 1.05e+03\n",
      "\n",
      "                        ep: batch 0, single 500\n",
      "                        sample size: batch 0.00e+00 single 1.78e-02\n",
      "                        lr: single 1.85e-03\n",
      "                        \n"
     ]
    },
    {
     "name": "stderr",
     "output_type": "stream",
     "text": [
      "257it [00:06, 38.44it/s]"
     ]
    },
    {
     "name": "stdout",
     "output_type": "stream",
     "text": [
      "err: 2.27e+04, lr: 0.0018478 "
     ]
    },
    {
     "name": "stderr",
     "output_type": "stream",
     "text": [
      "500it [00:12, 40.59it/s]\n"
     ]
    },
    {
     "name": "stdout",
     "output_type": "stream",
     "text": [
      "best error: 2.23e+04\n",
      "\n",
      "                        ep: batch 0, single 500\n",
      "                        sample size: batch 0.00e+00 single 3.16e-01\n",
      "                        lr: single 6.31e-04\n",
      "                        \n"
     ]
    },
    {
     "name": "stderr",
     "output_type": "stream",
     "text": [
      "252it [00:29,  9.87it/s]"
     ]
    },
    {
     "name": "stdout",
     "output_type": "stream",
     "text": [
      "err: 2.06e+04, lr: 0.0006309 "
     ]
    },
    {
     "name": "stderr",
     "output_type": "stream",
     "text": [
      "500it [00:56,  8.79it/s]\n"
     ]
    },
    {
     "name": "stdout",
     "output_type": "stream",
     "text": [
      "best error: 1.42e+04\n",
      "\n",
      "                        ep: batch 0, single 500\n",
      "                        sample size: batch 0.00e+00 single 1.78e-02\n",
      "                        lr: single 6.31e-04\n",
      "                        \n"
     ]
    },
    {
     "name": "stderr",
     "output_type": "stream",
     "text": [
      "253it [00:06, 33.25it/s]"
     ]
    },
    {
     "name": "stdout",
     "output_type": "stream",
     "text": [
      "err: 2.30e+04, lr: 0.0006309 "
     ]
    },
    {
     "name": "stderr",
     "output_type": "stream",
     "text": [
      "500it [00:13, 37.52it/s]\n"
     ]
    },
    {
     "name": "stdout",
     "output_type": "stream",
     "text": [
      "best error: 2.29e+04\n",
      "\n",
      "                        ep: batch 0, single 850\n",
      "                        sample size: batch 0.00e+00 single 1.00e-03\n",
      "                        lr: single 5.41e-03\n",
      "                        \n"
     ]
    },
    {
     "name": "stderr",
     "output_type": "stream",
     "text": [
      "433it [00:09, 46.06it/s]"
     ]
    },
    {
     "name": "stdout",
     "output_type": "stream",
     "text": [
      "err: 2.30e+04, lr: 0.0054116 "
     ]
    },
    {
     "name": "stderr",
     "output_type": "stream",
     "text": [
      "850it [00:18, 45.29it/s]\n"
     ]
    },
    {
     "name": "stdout",
     "output_type": "stream",
     "text": [
      "best error: 2.29e+04\n",
      "\n",
      "                        ep: batch 0, single 850\n",
      "                        sample size: batch 0.00e+00 single 3.16e-01\n",
      "                        lr: single 1.85e-03\n",
      "                        \n"
     ]
    },
    {
     "name": "stderr",
     "output_type": "stream",
     "text": [
      "427it [00:49,  8.34it/s]"
     ]
    },
    {
     "name": "stdout",
     "output_type": "stream",
     "text": [
      "err: 1.69e+03, lr: 0.0018478 "
     ]
    },
    {
     "name": "stderr",
     "output_type": "stream",
     "text": [
      "850it [01:38,  8.63it/s]\n"
     ]
    },
    {
     "name": "stdout",
     "output_type": "stream",
     "text": [
      "best error: 2.92e+02\n",
      "\n",
      "                        ep: batch 0, single 850\n",
      "                        sample size: batch 0.00e+00 single 1.00e-03\n",
      "                        lr: single 1.85e-03\n",
      "                        \n"
     ]
    },
    {
     "name": "stderr",
     "output_type": "stream",
     "text": [
      "437it [00:08, 58.59it/s]"
     ]
    },
    {
     "name": "stdout",
     "output_type": "stream",
     "text": [
      "err: 2.30e+04, lr: 0.0018478 "
     ]
    },
    {
     "name": "stderr",
     "output_type": "stream",
     "text": [
      "850it [00:16, 52.19it/s]\n"
     ]
    },
    {
     "name": "stdout",
     "output_type": "stream",
     "text": [
      "best error: 2.30e+04\n",
      "\n",
      "                        ep: batch 0, single 1200\n",
      "                        sample size: batch 0.00e+00 single 3.16e-01\n",
      "                        lr: single 1.58e-02\n",
      "                        \n"
     ]
    },
    {
     "name": "stderr",
     "output_type": "stream",
     "text": [
      "602it [01:10,  7.46it/s]"
     ]
    },
    {
     "name": "stdout",
     "output_type": "stream",
     "text": [
      "err: 1.06e+02, lr: 0.0158489 "
     ]
    },
    {
     "name": "stderr",
     "output_type": "stream",
     "text": [
      "1200it [02:19,  8.59it/s]\n"
     ]
    },
    {
     "name": "stdout",
     "output_type": "stream",
     "text": [
      "best error: 9.63e+01\n",
      "\n",
      "                        ep: batch 0, single 1200\n",
      "                        sample size: batch 0.00e+00 single 1.00e-03\n",
      "                        lr: single 1.58e-02\n",
      "                        \n"
     ]
    },
    {
     "name": "stderr",
     "output_type": "stream",
     "text": [
      "611it [00:11, 55.09it/s]"
     ]
    },
    {
     "name": "stdout",
     "output_type": "stream",
     "text": [
      "err: 2.27e+04, lr: 0.0158489 "
     ]
    },
    {
     "name": "stderr",
     "output_type": "stream",
     "text": [
      "1200it [00:22, 53.73it/s]\n"
     ]
    },
    {
     "name": "stdout",
     "output_type": "stream",
     "text": [
      "best error: 2.23e+04\n",
      "\n",
      "                        ep: batch 0, single 1200\n",
      "                        sample size: batch 0.00e+00 single 1.78e-02\n",
      "                        lr: single 5.41e-03\n",
      "                        \n"
     ]
    },
    {
     "name": "stderr",
     "output_type": "stream",
     "text": [
      "610it [00:14, 46.10it/s]"
     ]
    },
    {
     "name": "stdout",
     "output_type": "stream",
     "text": [
      "err: 1.94e+04, lr: 0.0054116 "
     ]
    },
    {
     "name": "stderr",
     "output_type": "stream",
     "text": [
      "1200it [00:28, 41.62it/s]\n"
     ]
    },
    {
     "name": "stdout",
     "output_type": "stream",
     "text": [
      "best error: 1.06e+04\n",
      "\n",
      "                        ep: batch 0, single 1200\n",
      "                        sample size: batch 0.00e+00 single 1.00e-03\n",
      "                        lr: single 5.41e-03\n",
      "                        \n"
     ]
    },
    {
     "name": "stderr",
     "output_type": "stream",
     "text": [
      "610it [00:11, 54.10it/s]"
     ]
    },
    {
     "name": "stdout",
     "output_type": "stream",
     "text": [
      "err: 2.29e+04, lr: 0.0054116 "
     ]
    },
    {
     "name": "stderr",
     "output_type": "stream",
     "text": [
      "1200it [00:22, 53.87it/s]\n"
     ]
    },
    {
     "name": "stdout",
     "output_type": "stream",
     "text": [
      "best error: 2.28e+04\n",
      "\n",
      "                        ep: batch 0, single 1200\n",
      "                        sample size: batch 0.00e+00 single 1.78e-02\n",
      "                        lr: single 1.85e-03\n",
      "                        \n"
     ]
    },
    {
     "name": "stderr",
     "output_type": "stream",
     "text": [
      "610it [00:13, 44.05it/s]"
     ]
    },
    {
     "name": "stdout",
     "output_type": "stream",
     "text": [
      "err: 2.22e+04, lr: 0.0018478 "
     ]
    },
    {
     "name": "stderr",
     "output_type": "stream",
     "text": [
      "1200it [00:27, 43.87it/s]\n"
     ]
    },
    {
     "name": "stdout",
     "output_type": "stream",
     "text": [
      "best error: 2.13e+04\n",
      "\n",
      "                        ep: batch 0, single 1200\n",
      "                        sample size: batch 0.00e+00 single 1.78e-02\n",
      "                        lr: single 6.31e-04\n",
      "                        \n"
     ]
    },
    {
     "name": "stderr",
     "output_type": "stream",
     "text": [
      "609it [00:14, 47.30it/s]"
     ]
    },
    {
     "name": "stdout",
     "output_type": "stream",
     "text": [
      "err: 2.28e+04, lr: 0.0006309 "
     ]
    },
    {
     "name": "stderr",
     "output_type": "stream",
     "text": [
      "1200it [00:28, 42.85it/s]\n"
     ]
    },
    {
     "name": "stdout",
     "output_type": "stream",
     "text": [
      "best error: 2.25e+04\n"
     ]
    }
   ],
   "source": [
    "import numpy as np\n",
    "from mfactorization import mf\n",
    "from util.data_reader import read_interaction_matrix\n",
    "from util import easy_eval, heatmaps\n",
    "\n",
    "rand = np.random.default_rng(1234)\n",
    "\n",
    "R = read_interaction_matrix()\n",
    "\n",
    "single_eps = np.linspace(500, 1200, 3, True).astype(int)\n",
    "batch_ep = [0]\n",
    "# batch_ep = np.linspace(0, 200, 4).astype(int)\n",
    "# single_lr = [0.02]\n",
    "single_lr = 0.1 ** (np.linspace(1.8,3.2,4, True))\n",
    "batch_sam = [0]\n",
    "# batch_sam = 0.1 ** (np.linspace(1,4,4, True))\n",
    "single_sample_size = 0.1 ** (np.linspace(0.5, 3, 3, True))\n",
    "\n",
    "scores = np.zeros([len(x) for x in [single_eps, batch_ep, single_lr, batch_sam, single_sample_size]])\n",
    "\n",
    "for i, s_ep in enumerate(single_eps):\n",
    "    for j, b_ep in enumerate(batch_ep):\n",
    "        for k, sin_lr in enumerate(single_lr):\n",
    "            for l, bat_s in enumerate(batch_sam):\n",
    "                for m, sin_s in enumerate(single_sample_size):\n",
    "                    if s_ep == 0 and b_ep == 0:\n",
    "                        continue\n",
    "\n",
    "                    r = rand.random()\n",
    "                    if r > 0.5:\n",
    "                        continue\n",
    "\n",
    "                    # try:\n",
    "                    print(f'''\n",
    "                        ep: batch {b_ep}, single {s_ep}\n",
    "                        sample size: batch {bat_s:.2e} single {sin_s:.2e}\n",
    "                        lr: single {sin_lr:.2e}\n",
    "                        ''')\n",
    "                    \n",
    "                    q,p = mf(\n",
    "                        R, \n",
    "                        n_epochs=s_ep + b_ep, \n",
    "                        n_latent=16, \n",
    "                        batch_sample_s=bat_s, \n",
    "                        sample_s=sin_s,\n",
    "                        single_epochs=s_ep, \n",
    "                        single_lr=sin_lr,\n",
    "                        print_step=2\n",
    "                        )\n",
    "                    \n",
    "                    S =q@p.T\n",
    "                    scores[i,j,k,l,m] = easy_eval(S)\n",
    "                    \n",
    "                    # heatmaps([S[0:10, 0:10]])\n",
    "                    # print()\n",
    "                        \n",
    "                    # except:\n",
    "                    #     pass"
   ]
  },
  {
   "cell_type": "code",
   "execution_count": 2,
   "metadata": {},
   "outputs": [
    {
     "data": {
      "image/png": "[encoded data removed]",
      "text/plain": [
       "<Figure size 640x480 with 1 Axes>"
      ]
     },
     "metadata": {},
     "output_type": "display_data"
    },
    {
     "data": {
      "text/plain": [
       "array([[0.  , 1.27, 0.  ],\n",
       "       [0.94, 0.51, 0.5 ],\n",
       "       [0.97, 0.37, 0.  ],\n",
       "       [0.78, 0.49, 0.  ],\n",
       "       [0.  , 0.  , 0.  ],\n",
       "       [0.  , 0.  , 0.44],\n",
       "       [0.73, 0.  , 0.58],\n",
       "       [0.  , 0.  , 0.  ],\n",
       "       [0.68, 0.  , 0.48],\n",
       "       [0.  , 1.06, 0.74],\n",
       "       [0.  , 0.58, 0.  ],\n",
       "       [0.  , 0.48, 0.  ]])"
      ]
     },
     "execution_count": 2,
     "metadata": {},
     "output_type": "execute_result"
    }
   ],
   "source": [
    "sc2d = scores.reshape((-1, 3))\n",
    "heatmaps([sc2d])\n",
    "sc2d"
   ]
  },
  {
   "cell_type": "code",
   "execution_count": 13,
   "metadata": {},
   "outputs": [
    {
     "data": {
      "text/plain": [
       "1.27"
      ]
     },
     "execution_count": 13,
     "metadata": {},
     "output_type": "execute_result"
    }
   ],
   "source": [
    "i = np.unravel_index(sc2d.argmax(), scores.shape)\n",
    "scores[i]"
   ]
  },
  {
   "cell_type": "code",
   "execution_count": 14,
   "metadata": {},
   "outputs": [
    {
     "data": {
      "text/plain": [
       "((0, 0, 0, 0, 1), 500, 0.015848931924611134)"
      ]
     },
     "execution_count": 14,
     "metadata": {},
     "output_type": "execute_result"
    }
   ],
   "source": [
    "sep, slr = single_eps[i[0]], single_lr[i[2]]\n",
    "i, sep, slr"
   ]
  },
  {
   "cell_type": "code",
   "execution_count": 15,
   "metadata": {},
   "outputs": [
    {
     "data": {
      "text/plain": [
       "<matplotlib.collections.PathCollection at 0x12f2d7c70>"
      ]
     },
     "execution_count": 15,
     "metadata": {},
     "output_type": "execute_result"
    },
    {
     "data": {
      "image/png": "[encoded data removed]",
      "text/plain": [
       "<Figure size 640x480 with 1 Axes>"
      ]
     },
     "metadata": {},
     "output_type": "display_data"
    }
   ],
   "source": [
    "import matplotlib.pyplot as plt\n",
    "\n",
    "# plt.plot(single_eps, single_lr)\n",
    "plt.scatter(sep, slr)"
   ]
  },
  {
   "cell_type": "code",
   "execution_count": 24,
   "metadata": {},
   "outputs": [
    {
     "data": {
      "image/png": "[encoded data removed]",
      "text/plain": [
       "<Figure size 640x480 with 1 Axes>"
      ]
     },
     "metadata": {},
     "output_type": "display_data"
    },
    {
     "data": {
      "image/png": "[encoded data removed]",
      "text/plain": [
       "<Figure size 640x480 with 1 Axes>"
      ]
     },
     "metadata": {},
     "output_type": "display_data"
    }
   ],
   "source": [
    "\n",
    "def twoDplot(ssd, l1, l2):\n",
    "    for i in range(ssd.shape[0]):\n",
    "        for j in range(ssd.shape[1]):\n",
    "            plt.scatter(l1[i], l2[j], (ssd[i,j]+ 0.1)*300)  \n",
    "    plt.show()\n",
    "\n",
    "ssd = scores[:,0,:,0,:]\n",
    "twoDplot(ssd[:, 0, :], single_eps, single_sample_size)\n",
    "twoDplot(ssd[0, :, :], single_lr, single_sample_size)\n",
    "twoDplot(ssd[:, :, 1], single_eps, single_lr)"
   ]
  },
  {
   "cell_type": "code",
   "execution_count": null,
   "metadata": {},
   "outputs": [],
   "source": [
    "plt.scatter(single_eps)"
   ]
  },
  {
   "cell_type": "code",
   "execution_count": null,
   "metadata": {},
   "outputs": [
    {
     "data": {
      "image/png": "[encoded data removed]",
      "text/plain": [
       "<Figure size 640x480 with 1 Axes>"
      ]
     },
     "metadata": {},
     "output_type": "display_data"
    }
   ],
   "source": [
    "heatmaps([(S * R * 10)[0:100, 0:100]]) "
   ]
  },
  {
   "cell_type": "code",
   "execution_count": null,
   "metadata": {},
   "outputs": [
    {
     "data": {
      "text/plain": [
       "0.0"
      ]
     },
     "execution_count": 8,
     "metadata": {},
     "output_type": "execute_result"
    }
   ],
   "source": [
    "scores[1, 0, 2, 0, 2]"
   ]
  },
  {
   "cell_type": "code",
   "execution_count": null,
   "metadata": {},
   "outputs": [
    {
     "data": {
      "text/plain": [
       "array([[0.  , 0.  , 0.54, 0.79],\n",
       "       [0.52, 0.53, 0.63, 0.52]])"
      ]
     },
     "execution_count": 3,
     "metadata": {},
     "output_type": "execute_result"
    }
   ],
   "source": [
    "scores.reshape((-1, 4))"
   ]
  },
  {
   "cell_type": "code",
   "execution_count": null,
   "metadata": {},
   "outputs": [],
   "source": []
  }
 ],
 "metadata": {
  "kernelspec": {
   "display_name": "Python 3",
   "language": "python",
   "name": "python3"
  },
  "language_info": {
   "codemirror_mode": {
    "name": "ipython",
    "version": 3
   },
   "file_extension": ".py",
   "mimetype": "text/x-python",
   "name": "python",
   "nbconvert_exporter": "python",
   "pygments_lexer": "ipython3",
   "version": "3.9.7"
  }
 },
 "nbformat": 4,
 "nbformat_minor": 2
}
