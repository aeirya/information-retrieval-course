{
 "cells": [
  {
   "cell_type": "code",
   "execution_count": 8,
   "metadata": {},
   "outputs": [
    {
     "name": "stdout",
     "output_type": "stream",
     "text": [
      "\n",
      "                        ep: batch 0, single 50\n",
      "                        sample size: batch 0.00e+00 single 5.00e-02\n",
      "                        lr: single 8.00e-03\n",
      "                        \n"
     ]
    },
    {
     "name": "stderr",
     "output_type": "stream",
     "text": [
      "28it [00:01, 22.58it/s]"
     ]
    },
    {
     "name": "stdout",
     "output_type": "stream",
     "text": [
      "err: 2.25e+04, lr: 0.008 "
     ]
    },
    {
     "name": "stderr",
     "output_type": "stream",
     "text": [
      "50it [00:02, 22.25it/s]\n"
     ]
    },
    {
     "name": "stdout",
     "output_type": "stream",
     "text": [
      "best error: 2.21e+04\n",
      "score: 0.49\n"
     ]
    },
    {
     "ename": "TypeError",
     "evalue": "'>=' not supported between instances of 'str' and 'int'",
     "output_type": "error",
     "traceback": [
      "\u001b[0;31m---------------------------------------------------------------------------\u001b[0m",
      "\u001b[0;31mTypeError\u001b[0m                                 Traceback (most recent call last)",
      "Cell \u001b[0;32mIn[8], line 61\u001b[0m\n\u001b[1;32m     57\u001b[0m scores[i,j,k,l,m] \u001b[38;5;241m=\u001b[39m score\n\u001b[1;32m     59\u001b[0m \u001b[38;5;28mprint\u001b[39m(\u001b[38;5;124mf\u001b[39m\u001b[38;5;124m'\u001b[39m\u001b[38;5;124mscore: \u001b[39m\u001b[38;5;132;01m{\u001b[39;00mscore\u001b[38;5;132;01m}\u001b[39;00m\u001b[38;5;124m'\u001b[39m)\n\u001b[0;32m---> 61\u001b[0m \u001b[38;5;28;01mif\u001b[39;00m \u001b[43mscore\u001b[49m\u001b[43m \u001b[49m\u001b[38;5;241;43m>\u001b[39;49m\u001b[38;5;241;43m=\u001b[39;49m\u001b[43m \u001b[49m\u001b[43mbest\u001b[49m:\n\u001b[1;32m     62\u001b[0m     best \u001b[38;5;241m=\u001b[39m score\n\u001b[1;32m     63\u001b[0m     \u001b[38;5;28mprint\u001b[39m(\u001b[38;5;124m\"\u001b[39m\u001b[38;5;124mBEST SO FAR\u001b[39m\u001b[38;5;124m\"\u001b[39m)\n",
      "\u001b[0;31mTypeError\u001b[0m: '>=' not supported between instances of 'str' and 'int'"
     ]
    }
   ],
   "source": [
    "import numpy as np\n",
    "from mfactorization import mf\n",
    "from util.data_reader import read_interaction_matrix\n",
    "from util import easy_eval, heatmaps\n",
    "\n",
    "rand = np.random.default_rng(1234)\n",
    "\n",
    "R = read_interaction_matrix()\n",
    "\n",
    "# single_eps = np.linspace(500, 1200, 3, True).astype(int)\n",
    "single_eps = [50, 150, 500, 1000]\n",
    "batch_ep = [0]\n",
    "# batch_ep = np.linspace(0, 200, 4).astype(int)\n",
    "single_lr = [0.008, 0.02]\n",
    "# single_lr = 0.1 ** (np.linspace(2.2,2.7,2, True))\n",
    "# single_lr = np.linspace((0.1, 0.6, 3, True))\n",
    "batch_sam = [0]\n",
    "# batch_sam = 0.1 ** (np.linspace(1,4,4, True))\n",
    "# single_sample_size = 0.1 ** (np.linspace(0.3, 0.7, 4, True))\n",
    "single_sample_size = [0.01, 0.05, 0.1]\n",
    "\n",
    "scores = np.zeros([len(x) for x in [single_eps, batch_ep, single_lr, batch_sam, single_sample_size]])\n",
    "best = 0\n",
    "\n",
    "for i, s_ep in enumerate(single_eps):\n",
    "    for j, b_ep in enumerate(batch_ep):\n",
    "        for k, sin_lr in enumerate(single_lr):\n",
    "            for l, bat_s in enumerate(batch_sam):\n",
    "                for m, sin_s in enumerate(single_sample_size):\n",
    "                    if s_ep == 0 and b_ep == 0:\n",
    "                        continue\n",
    "\n",
    "                    r = rand.random()\n",
    "                    if r > 0.5:\n",
    "                        continue\n",
    "\n",
    "                    # try:\n",
    "                    print(f'''\n",
    "                        ep: batch {b_ep}, single {s_ep}\n",
    "                        sample size: batch {bat_s:.2e} single {sin_s:.2e}\n",
    "                        lr: single {sin_lr:.2e}\n",
    "                        ''')\n",
    "                    \n",
    "                    q,p = mf(\n",
    "                        R, \n",
    "                        n_epochs=s_ep + b_ep, \n",
    "                        n_latent=16, \n",
    "                        batch_sample_s=bat_s, \n",
    "                        sample_s=sin_s,\n",
    "                        single_epochs=s_ep, \n",
    "                        single_lr=sin_lr,\n",
    "                        print_step=2\n",
    "                        )\n",
    "                    \n",
    "                    S =q@p.T\n",
    "                    score = float(easy_eval(S))\n",
    "                    scores[i,j,k,l,m] = score\n",
    "                        \n",
    "                    print(f'score: {score}')\n",
    "\n",
    "                    if score >= best:\n",
    "                        best = score\n",
    "                        print(\"BEST SO FAR\")\n",
    "\n",
    "                    # heatmaps([S[0:10, 0:10]])\n",
    "                    # print()\n",
    "                        \n",
    "                    # except:\n",
    "                    #     pass"
   ]
  },
  {
   "cell_type": "code",
   "execution_count": 7,
   "metadata": {},
   "outputs": [
    {
     "data": {
      "text/plain": [
       "0.63"
      ]
     },
     "execution_count": 7,
     "metadata": {},
     "output_type": "execute_result"
    }
   ],
   "source": [
    "scores.max()"
   ]
  },
  {
   "cell_type": "code",
   "execution_count": 2,
   "metadata": {},
   "outputs": [
    {
     "ename": "ValueError",
     "evalue": "cannot reshape array of size 4 into shape (3)",
     "output_type": "error",
     "traceback": [
      "\u001b[0;31m---------------------------------------------------------------------------\u001b[0m",
      "\u001b[0;31mValueError\u001b[0m                                Traceback (most recent call last)",
      "Cell \u001b[0;32mIn[2], line 1\u001b[0m\n\u001b[0;32m----> 1\u001b[0m sc2d \u001b[38;5;241m=\u001b[39m \u001b[43mscores\u001b[49m\u001b[38;5;241;43m.\u001b[39;49m\u001b[43mreshape\u001b[49m\u001b[43m(\u001b[49m\u001b[43m(\u001b[49m\u001b[38;5;241;43m-\u001b[39;49m\u001b[38;5;241;43m1\u001b[39;49m\u001b[43m,\u001b[49m\u001b[43m \u001b[49m\u001b[38;5;241;43m3\u001b[39;49m\u001b[43m)\u001b[49m\u001b[43m)\u001b[49m\n\u001b[1;32m      2\u001b[0m heatmaps([sc2d])\n\u001b[1;32m      3\u001b[0m sc2d\n",
      "\u001b[0;31mValueError\u001b[0m: cannot reshape array of size 4 into shape (3)"
     ]
    }
   ],
   "source": [
    "sc2d = scores.reshape((-1, 3))\n",
    "heatmaps([sc2d])\n",
    "sc2d"
   ]
  },
  {
   "cell_type": "code",
   "execution_count": null,
   "metadata": {},
   "outputs": [
    {
     "data": {
      "text/plain": [
       "0.99"
      ]
     },
     "execution_count": 3,
     "metadata": {},
     "output_type": "execute_result"
    }
   ],
   "source": [
    "i = np.unravel_index(sc2d.argmax(), scores.shape)\n",
    "scores[i]"
   ]
  },
  {
   "cell_type": "code",
   "execution_count": null,
   "metadata": {},
   "outputs": [
    {
     "data": {
      "text/plain": [
       "((0, 0, 1, 0, 1), 500, 0.001995262314968879)"
      ]
     },
     "execution_count": 4,
     "metadata": {},
     "output_type": "execute_result"
    }
   ],
   "source": [
    "sep, slr = single_eps[i[0]], single_lr[i[2]]\n",
    "i, sep, slr"
   ]
  },
  {
   "cell_type": "code",
   "execution_count": null,
   "metadata": {},
   "outputs": [
    {
     "data": {
      "text/plain": [
       "<matplotlib.collections.PathCollection at 0x12c997220>"
      ]
     },
     "execution_count": 5,
     "metadata": {},
     "output_type": "execute_result"
    },
    {
     "data": {
      "image/png": "[encoded data removed]",
      "text/plain": [
       "<Figure size 640x480 with 1 Axes>"
      ]
     },
     "metadata": {},
     "output_type": "display_data"
    }
   ],
   "source": [
    "import matplotlib.pyplot as plt\n",
    "\n",
    "# plt.plot(single_eps, single_lr)\n",
    "plt.scatter(sep, slr)"
   ]
  },
  {
   "cell_type": "code",
   "execution_count": null,
   "metadata": {},
   "outputs": [
    {
     "data": {
      "image/png": "[encoded data removed]",
      "text/plain": [
       "<Figure size 640x480 with 1 Axes>"
      ]
     },
     "metadata": {},
     "output_type": "display_data"
    },
    {
     "data": {
      "image/png": "[encoded data removed]",
      "text/plain": [
       "<Figure size 640x480 with 1 Axes>"
      ]
     },
     "metadata": {},
     "output_type": "display_data"
    },
    {
     "data": {
      "image/png": "[encoded data removed]",
      "text/plain": [
       "<Figure size 640x480 with 1 Axes>"
      ]
     },
     "metadata": {},
     "output_type": "display_data"
    }
   ],
   "source": [
    "\n",
    "def twoDplot(ssd, l1, l2):\n",
    "    for i in range(ssd.shape[0]):\n",
    "        for j in range(ssd.shape[1]):\n",
    "            plt.scatter(l1[i], l2[j], (ssd[i,j]+ 0.1)*300)  \n",
    "    plt.show()\n",
    "\n",
    "ssd = scores[:,0,:,0,:]\n",
    "twoDplot(ssd[:, 0, :], single_eps, single_sample_size)\n",
    "twoDplot(ssd[0, :, :], single_lr, single_sample_size)\n",
    "twoDplot(ssd[:, :, 1], single_eps, single_lr)"
   ]
  },
  {
   "cell_type": "code",
   "execution_count": null,
   "metadata": {},
   "outputs": [
    {
     "data": {
      "text/plain": [
       "(array([0. , 0.9]), array([0.00199526]))"
      ]
     },
     "execution_count": 7,
     "metadata": {},
     "output_type": "execute_result"
    }
   ],
   "source": [
    "ssd[0, :, 0], single_lr[1:3]"
   ]
  },
  {
   "cell_type": "code",
   "execution_count": null,
   "metadata": {},
   "outputs": [
    {
     "data": {
      "text/plain": [
       "(array([0.9 , 0.99, 0.62]), 0.5011872336272724)"
      ]
     },
     "execution_count": 8,
     "metadata": {},
     "output_type": "execute_result"
    }
   ],
   "source": [
    "ssd[0, 1, :], single_sample_size[0]"
   ]
  },
  {
   "cell_type": "code",
   "execution_count": null,
   "metadata": {},
   "outputs": [
    {
     "data": {
      "text/plain": [
       "(array([0.  , 0.96, 0.  ]), 0.07079457843841382)"
      ]
     },
     "execution_count": 9,
     "metadata": {},
     "output_type": "execute_result"
    }
   ],
   "source": [
    "ssd[0, 0, :], single_sample_size[1]"
   ]
  },
  {
   "cell_type": "code",
   "execution_count": null,
   "metadata": {},
   "outputs": [
    {
     "data": {
      "text/plain": [
       "(1, 2, 3)"
      ]
     },
     "execution_count": 10,
     "metadata": {},
     "output_type": "execute_result"
    }
   ],
   "source": [
    "ssd.shape"
   ]
  },
  {
   "cell_type": "code",
   "execution_count": null,
   "metadata": {},
   "outputs": [
    {
     "ename": "TypeError",
     "evalue": "scatter() missing 1 required positional argument: 'y'",
     "output_type": "error",
     "traceback": [
      "\u001b[0;31m---------------------------------------------------------------------------\u001b[0m",
      "\u001b[0;31mTypeError\u001b[0m                                 Traceback (most recent call last)",
      "Cell \u001b[0;32mIn[11], line 1\u001b[0m\n\u001b[0;32m----> 1\u001b[0m \u001b[43mplt\u001b[49m\u001b[38;5;241;43m.\u001b[39;49m\u001b[43mscatter\u001b[49m\u001b[43m(\u001b[49m\u001b[43msingle_eps\u001b[49m\u001b[43m)\u001b[49m\n",
      "\u001b[0;31mTypeError\u001b[0m: scatter() missing 1 required positional argument: 'y'"
     ]
    }
   ],
   "source": [
    "plt.scatter(single_eps)"
   ]
  },
  {
   "cell_type": "code",
   "execution_count": null,
   "metadata": {},
   "outputs": [
    {
     "data": {
      "image/png": "[encoded data removed]",
      "text/plain": [
       "<Figure size 640x480 with 1 Axes>"
      ]
     },
     "metadata": {},
     "output_type": "display_data"
    }
   ],
   "source": [
    "heatmaps([(S * R * 10)[0:100, 0:100]]) "
   ]
  },
  {
   "cell_type": "code",
   "execution_count": null,
   "metadata": {},
   "outputs": [
    {
     "data": {
      "text/plain": [
       "0.0"
      ]
     },
     "execution_count": 8,
     "metadata": {},
     "output_type": "execute_result"
    }
   ],
   "source": [
    "scores[1, 0, 2, 0, 2]"
   ]
  },
  {
   "cell_type": "code",
   "execution_count": null,
   "metadata": {},
   "outputs": [
    {
     "data": {
      "text/plain": [
       "array([[0.  , 0.  , 0.54, 0.79],\n",
       "       [0.52, 0.53, 0.63, 0.52]])"
      ]
     },
     "execution_count": 3,
     "metadata": {},
     "output_type": "execute_result"
    }
   ],
   "source": [
    "scores.reshape((-1, 4))"
   ]
  },
  {
   "cell_type": "code",
   "execution_count": null,
   "metadata": {},
   "outputs": [],
   "source": []
  }
 ],
 "metadata": {
  "kernelspec": {
   "display_name": "Python 3",
   "language": "python",
   "name": "python3"
  },
  "language_info": {
   "codemirror_mode": {
    "name": "ipython",
    "version": 3
   },
   "file_extension": ".py",
   "mimetype": "text/x-python",
   "name": "python",
   "nbconvert_exporter": "python",
   "pygments_lexer": "ipython3",
   "version": "3.9.7"
  }
 },
 "nbformat": 4,
 "nbformat_minor": 2
}
