{
 "cells": [
  {
   "cell_type": "code",
   "execution_count": 55,
   "metadata": {},
   "outputs": [],
   "source": [
    "import pandas as pd\n",
    "import numpy as np"
   ]
  },
  {
   "cell_type": "code",
   "execution_count": 56,
   "metadata": {},
   "outputs": [
    {
     "data": {
      "text/html": [
       "<div>\n",
       "<style scoped>\n",
       "    .dataframe tbody tr th:only-of-type {\n",
       "        vertical-align: middle;\n",
       "    }\n",
       "\n",
       "    .dataframe tbody tr th {\n",
       "        vertical-align: top;\n",
       "    }\n",
       "\n",
       "    .dataframe thead th {\n",
       "        text-align: right;\n",
       "    }\n",
       "</style>\n",
       "<table border=\"1\" class=\"dataframe\">\n",
       "  <thead>\n",
       "    <tr style=\"text-align: right;\">\n",
       "      <th></th>\n",
       "      <th>user_id</th>\n",
       "      <th>item_id</th>\n",
       "      <th>rate</th>\n",
       "      <th>review_text</th>\n",
       "    </tr>\n",
       "  </thead>\n",
       "  <tbody>\n",
       "    <tr>\n",
       "      <th>0</th>\n",
       "      <td>A2YKWYC3WQJX5J</td>\n",
       "      <td>B00106AC06</td>\n",
       "      <td>1</td>\n",
       "      <td>I usually love the Motions conditioners and ma...</td>\n",
       "    </tr>\n",
       "    <tr>\n",
       "      <th>1</th>\n",
       "      <td>A2LXC5ZHHP0WXP</td>\n",
       "      <td>B00AE07BMQ</td>\n",
       "      <td>1</td>\n",
       "      <td>Axe messy look styling gum is a product that w...</td>\n",
       "    </tr>\n",
       "    <tr>\n",
       "      <th>2</th>\n",
       "      <td>A3HLTHHLPKLRQA</td>\n",
       "      <td>B00AIQOKDY</td>\n",
       "      <td>1</td>\n",
       "      <td>I have always found liquid soap to be as much ...</td>\n",
       "    </tr>\n",
       "    <tr>\n",
       "      <th>3</th>\n",
       "      <td>A6N1DC5AMPLSK</td>\n",
       "      <td>B000F6RFX4</td>\n",
       "      <td>1</td>\n",
       "      <td>I've tried plenty of products that claim to he...</td>\n",
       "    </tr>\n",
       "    <tr>\n",
       "      <th>4</th>\n",
       "      <td>ALNFHVS3SC4FV</td>\n",
       "      <td>B0020122ZS</td>\n",
       "      <td>1</td>\n",
       "      <td>Suave Kids is one of my favorite brands of sha...</td>\n",
       "    </tr>\n",
       "  </tbody>\n",
       "</table>\n",
       "</div>"
      ],
      "text/plain": [
       "          user_id     item_id  rate  \\\n",
       "0  A2YKWYC3WQJX5J  B00106AC06     1   \n",
       "1  A2LXC5ZHHP0WXP  B00AE07BMQ     1   \n",
       "2  A3HLTHHLPKLRQA  B00AIQOKDY     1   \n",
       "3   A6N1DC5AMPLSK  B000F6RFX4     1   \n",
       "4   ALNFHVS3SC4FV  B0020122ZS     1   \n",
       "\n",
       "                                         review_text  \n",
       "0  I usually love the Motions conditioners and ma...  \n",
       "1  Axe messy look styling gum is a product that w...  \n",
       "2  I have always found liquid soap to be as much ...  \n",
       "3  I've tried plenty of products that claim to he...  \n",
       "4  Suave Kids is one of my favorite brands of sha...  "
      ]
     },
     "execution_count": 56,
     "metadata": {},
     "output_type": "execute_result"
    }
   ],
   "source": [
    "df = pd.read_csv('dataset/train_dataset.txt', delimiter='\\t')\n",
    "df.head()"
   ]
  },
  {
   "cell_type": "code",
   "execution_count": 57,
   "metadata": {},
   "outputs": [],
   "source": [
    "users = set(df['user_id'])\n",
    "items = set(df['item_id'])\n",
    "\n",
    "grouping = df.groupby(by=['user_id', 'item_id'])\n",
    "user_to_id = { x:i for i,x in enumerate(users) }\n",
    "item_to_id = { x:i for i,x in enumerate(items) }\n",
    "\n",
    "R = np.zeros((len(users), len(items)))\n",
    "\n",
    "for user, item in grouping.groups.keys():\n",
    "    user_id = user_to_id[user]\n",
    "    item_id = item_to_id[item]\n",
    "    R[user_id, item_id] = 1"
   ]
  },
  {
   "cell_type": "code",
   "execution_count": 58,
   "metadata": {},
   "outputs": [],
   "source": [
    "rng = np.random.default_rng(seed=1234)\n",
    "\n",
    "def choice(size, sample_size):\n",
    "    n, m = size, sample_size\n",
    "    return rng.choice(n, m, replace=False)\n",
    "\n",
    "def random_choice(x, y, n, n_sample):\n",
    "    i = choice(n, n_sample)\n",
    "    return x[i], y[i]\n",
    "\n",
    "def random_points(n, n_sample, m=-1):\n",
    "    I = choice(n, n_sample)\n",
    "    if m < 0:\n",
    "        m = n\n",
    "    J = choice(m, n_sample)\n",
    "    return I, J"
   ]
  },
  {
   "cell_type": "code",
   "execution_count": 200,
   "metadata": {},
   "outputs": [],
   "source": [
    "def error(R, Q, P, reg):\n",
    "    return (R - Q@P.T).sum() + reg * (Q@Q.T).sum() + (P@P.T).sum()"
   ]
  },
  {
   "cell_type": "code",
   "execution_count": 259,
   "metadata": {},
   "outputs": [],
   "source": [
    "# learning rate\n",
    "LR = 0.2\n",
    "END_LR = 0.01\n",
    "# regularization (lambda)\n",
    "r = 0.001\n",
    "\n",
    "# maximum iterations\n",
    "n_epochs = 100\n",
    "# n_epochs = 100\n",
    "\n",
    "n_latent = 64\n",
    "\n",
    "n_users = len(users)\n",
    "n_items = len(items)\n",
    "\n",
    "# error check steps\n",
    "erc_step = 100\n",
    "\n",
    "# min error threshold\n",
    "eth = 1e-4\n",
    "\n",
    "# sample size\n",
    "# s = min(n_users, n_items) // 3\n",
    "s = 1\n",
    "\n",
    "w = 1000\n",
    "\n",
    "def norm(M):\n",
    "    n = (M*M).sum(axis=1, keepdims=True)\n",
    "    return np.sqrt(n)\n",
    "\n",
    "def normalize(M):\n",
    "    nn = norm(M)\n",
    "    if nn.sum() > 0:\n",
    "        return M / nn\n",
    "    return M\n",
    "\n",
    "norm_step = 1\n",
    "\n",
    "Q0 = rng.random((n_users, n_latent))\n",
    "P0 = rng.random((n_items, n_latent))\n"
   ]
  },
  {
   "cell_type": "code",
   "execution_count": 264,
   "metadata": {},
   "outputs": [
    {
     "name": "stderr",
     "output_type": "stream",
     "text": [
      "/var/folders/yh/qdnh620s5k713znk3pgdt3cc0000gp/T/ipykernel_7301/1316694985.py:27: RuntimeWarning: overflow encountered in matmul\n",
      "  p = p - lr * (-e.T @ q + 2*r*p)\n",
      "/var/folders/yh/qdnh620s5k713znk3pgdt3cc0000gp/T/ipykernel_7301/1316694985.py:27: RuntimeWarning: invalid value encountered in add\n",
      "  p = p - lr * (-e.T @ q + 2*r*p)\n"
     ]
    }
   ],
   "source": [
    "\n",
    "Q = Q0[:,:]\n",
    "P = P0[:,:]\n",
    "Q = normalize(Q)\n",
    "P = normalize(P.T).T\n",
    "\n",
    "for epoch in range(n_epochs):\n",
    "    lr = LR - (LR-END_LR) * np.exp(0.01*(epoch - n_epochs)) \n",
    "\n",
    "    # I, J = \n",
    "    for i, j in zip(*random_points(n_users, s, n_items)):\n",
    "    # update P and Q\n",
    "        i0, i1 = max(0, i-w), min(i+w, n_users-1)\n",
    "        j0, j1 = max(0, i-w), min(j+w, n_items-1)\n",
    "\n",
    "        q = Q[i0:i1, :]\n",
    "        p = P[j0:j1, :]\n",
    "\n",
    "        qp = q @ p.T\n",
    "\n",
    "        e = R[i0:i1, j0:j1] - qp\n",
    "        \n",
    "        # print(f'i, j, e: {i} {j} {e}')\n",
    "\n",
    "        # print(\"updating Q with\", (-e * P[j, :] + 2*r*Q[i, :]))\n",
    "        \n",
    "        q = q - lr * (-e @ p + 2*r*q)\n",
    "        p = p - lr * (-e.T @ q + 2*r*p)\n",
    "\n",
    "        # q = np.where(q > 0, q, 0.)\n",
    "        # p = np.where(p > 0, p, 0.)\n",
    "        \n",
    "        if epoch % norm_step == 0:\n",
    "            q = normalize(q)\n",
    "            p = normalize(p)\n",
    "\n",
    "\n",
    "        Q[i0:i1, :] = q\n",
    "        P[j0:j1, :] = p\n",
    "\n",
    "    if epoch % erc_step == 0 and abs(error(R, Q, P, reg=r)) < eth:\n",
    "        print('breaking at', epoch)\n",
    "        break"
   ]
  },
  {
   "cell_type": "code",
   "execution_count": 265,
   "metadata": {},
   "outputs": [
    {
     "data": {
      "text/plain": [
       "nan"
      ]
     },
     "execution_count": 265,
     "metadata": {},
     "output_type": "execute_result"
    }
   ],
   "source": [
    "error(R, Q, P, reg=r)"
   ]
  },
  {
   "cell_type": "code",
   "execution_count": 262,
   "metadata": {},
   "outputs": [
    {
     "data": {
      "text/plain": [
       "493839.2221619478"
      ]
     },
     "execution_count": 262,
     "metadata": {},
     "output_type": "execute_result"
    }
   ],
   "source": [
    "P1, Q1 = P, Q\n",
    "(Q @ P.T - R).sum()"
   ]
  },
  {
   "cell_type": "code",
   "execution_count": 263,
   "metadata": {},
   "outputs": [
    {
     "data": {
      "text/plain": [
       "399515.9597256015"
      ]
     },
     "execution_count": 263,
     "metadata": {},
     "output_type": "execute_result"
    }
   ],
   "source": [
    "# learning rate\n",
    "LR = 0.2\n",
    "END_LR = 0.01\n",
    "# regularization (lambda)\n",
    "r = 0.001\n",
    "\n",
    "# maximum iterations\n",
    "n_epochs = 100\n",
    "# n_epochs = 100\n",
    "\n",
    "n_latent = 64\n",
    "\n",
    "n_users = len(users)\n",
    "n_items = len(items)\n",
    "\n",
    "# error check steps\n",
    "erc_step = 100\n",
    "\n",
    "# min error threshold\n",
    "eth = 1e-4\n",
    "\n",
    "\n",
    "def norm(M):\n",
    "    n = (M*M).sum(axis=1, keepdims=True)\n",
    "    return np.sqrt(n)\n",
    "\n",
    "def normalize(M):\n",
    "    nn = norm(M)\n",
    "    if nn.sum() > 0:\n",
    "        return M / nn\n",
    "    return M\n",
    "\n",
    "norm_step = 20\n",
    "\n",
    "n_cv_users = n_users // 10\n",
    "n_cv_items = n_items // 10\n",
    "\n",
    "def normal(v):\n",
    "    return v / np.sqrt(np.dot(v, v))\n",
    "\n",
    "\n",
    "def MF(R, Q, P, LR=LR, END_LR=END_LR, n_users=n_users, n_items=n_items):\n",
    "    # Q = rng.random((n_users, n_latent))\n",
    "    # P = rng.random((n_items, n_latent))\n",
    "    Q = normalize(Q)\n",
    "    P = normalize(P.T).T\n",
    "    R = R[:n_users, :n_items]\n",
    "\n",
    "    for epoch in range(n_epochs):\n",
    "        lr = LR - (LR-END_LR) * np.exp(0.01*(epoch - n_epochs)) \n",
    "\n",
    "        # I, J = \n",
    "        for i, j in zip(range(n_users), range(n_items)):\n",
    "        # update P and Q\n",
    "\n",
    "            q = Q[i, :]\n",
    "            p = P[j, :]\n",
    "\n",
    "            qp = q @ p.T\n",
    "            e = R[i, j] - qp\n",
    "            \n",
    "            q = q - lr * (-e * p + 2*r*q)\n",
    "            p = p - lr * (-e * q + 2*r*p)\n",
    "\n",
    "            # q = np.where(q > 0, q, 0.)\n",
    "            # p = np.where(p > 0, p, 0.)\n",
    "            \n",
    "            if epoch % norm_step == 0:\n",
    "                q = normal(q)\n",
    "                p = normal(p)\n",
    "                \n",
    "            Q[i, :] = q\n",
    "            P[j, :] = p\n",
    "\n",
    "        if epoch % erc_step == 0 and abs(error(R, Q, P, reg=r)) < eth:\n",
    "            print('breaking at', epoch)\n",
    "            break\n",
    "    \n",
    "    return error(R, Q, P, reg=r)\n",
    "\n",
    "# bLS, bLE = None, None\n",
    "# x = np.Inf\n",
    "# for LS in [0.1, 0.2, 0.4]:\n",
    "#     for LE in [0.1, 0.01, 0.001, 0.0001, 0.00001]:\n",
    "#         e = MF(R, LS, LE, n_cv_users, n_cv_items)\n",
    "#         if e < x:\n",
    "#             x = e\n",
    "#             bLS, bLE = LS, LE\n",
    "\n",
    "# print(\"best\")\n",
    "# bLS, bLE, x\n",
    "\n",
    "MF(R, Q, P)"
   ]
  },
  {
   "cell_type": "code",
   "execution_count": null,
   "metadata": {},
   "outputs": [],
   "source": []
  },
  {
   "cell_type": "code",
   "execution_count": 226,
   "metadata": {},
   "outputs": [
    {
     "name": "stdout",
     "output_type": "stream",
     "text": [
      "482682.05965397257\n",
      "\n",
      "[[-1.28926429e-17  3.53553695e-01  2.68799723e-01 ...  5.40656499e-01\n",
      "   4.07660150e-01  5.15921985e-01]\n",
      " [ 4.69270085e-01 -8.40094313e-18  4.12739258e-01 ...  5.52155389e-01\n",
      "   3.55100879e-01  4.44494085e-01]\n",
      " [ 4.68349786e-01  5.52842537e-01 -1.35026451e-17 ...  5.28878952e-01\n",
      "   5.16009532e-01  3.88881496e-01]\n",
      " ...\n",
      " [ 5.97290576e-01  5.39367267e-01  4.37187110e-01 ...  5.71218287e-01\n",
      "   5.69738935e-01  5.90248138e-01]\n",
      " [ 5.39938185e-01  5.25967362e-01  4.98240605e-01 ...  5.76094599e-01\n",
      "   5.94864364e-01  5.04644554e-01]\n",
      " [ 5.94038212e-01  5.53118957e-01  4.66514268e-01 ...  6.04724978e-01\n",
      "   6.11972999e-01  3.90003794e-01]]\n"
     ]
    }
   ],
   "source": [
    "print((Q@P.T).sum())\n",
    "print()\n",
    "print(Q @ P.T - R)"
   ]
  },
  {
   "cell_type": "code",
   "execution_count": 227,
   "metadata": {},
   "outputs": [
    {
     "data": {
      "text/plain": [
       "-131088.50507372533"
      ]
     },
     "execution_count": 227,
     "metadata": {},
     "output_type": "execute_result"
    }
   ],
   "source": [
    "error(R, Q, P, 0.1)"
   ]
  },
  {
   "cell_type": "code",
   "execution_count": 213,
   "metadata": {},
   "outputs": [
    {
     "data": {
      "text/plain": [
       "array([[0.12353138, 0.12353138, 0.12353138, ..., 0.12353138, 0.12353138,\n",
       "        0.05667184],\n",
       "       [0.12331475, 0.12331475, 0.12331475, ..., 0.12331475, 0.12331475,\n",
       "        0.04795947],\n",
       "       [0.12545248, 0.12545248, 0.12545248, ..., 0.12545248, 0.12545248,\n",
       "        0.02747783],\n",
       "       ...,\n",
       "       [0.12550174, 0.12550174, 0.12550174, ..., 0.12550174, 0.12550174,\n",
       "        0.04304229],\n",
       "       [0.12617285, 0.12617285, 0.12617285, ..., 0.12617285, 0.12617285,\n",
       "        0.01979859],\n",
       "       [0.1235909 , 0.1235909 , 0.1235909 , ..., 0.1235909 , 0.1235909 ,\n",
       "        0.04390774]])"
      ]
     },
     "execution_count": 213,
     "metadata": {},
     "output_type": "execute_result"
    }
   ],
   "source": [
    "P.T"
   ]
  },
  {
   "cell_type": "code",
   "execution_count": 179,
   "metadata": {},
   "outputs": [
    {
     "data": {
      "text/plain": [
       "array([1, 2, 0, 1])"
      ]
     },
     "execution_count": 179,
     "metadata": {},
     "output_type": "execute_result"
    }
   ],
   "source": [
    "a = np.array([1,2,-3,1])\n",
    "np.where(a > 0, a, 0)"
   ]
  },
  {
   "cell_type": "code",
   "execution_count": 114,
   "metadata": {},
   "outputs": [
    {
     "data": {
      "text/plain": [
       "array([[0.0396746 , 0.17673503, 0.11262975, ..., 0.09197452, 0.06747847,\n",
       "        0.0855569 ],\n",
       "       [0.0249935 , 0.05907143, 0.00788802, ..., 0.01138497, 0.1906193 ,\n",
       "        0.07765782],\n",
       "       [0.04108991, 0.0109894 , 0.19732257, ..., 0.13621631, 0.06658739,\n",
       "        0.08384918],\n",
       "       ...,\n",
       "       [0.17372221, 0.1506166 , 0.01665649, ..., 0.0259795 , 0.16754996,\n",
       "        0.13501963],\n",
       "       [0.13569126, 0.        , 0.00882256, ..., 0.20652043, 0.10464155,\n",
       "        0.05052449],\n",
       "       [0.12820072, 0.05514588, 0.01293362, ..., 0.00106556, 0.00702635,\n",
       "        0.18920364]])"
      ]
     },
     "execution_count": 114,
     "metadata": {},
     "output_type": "execute_result"
    }
   ],
   "source": [
    "Q"
   ]
  },
  {
   "cell_type": "code",
   "execution_count": 103,
   "metadata": {},
   "outputs": [
    {
     "data": {
      "text/plain": [
       "array([[0.01294956, 0.05354392, 0.01876144, ..., 0.0148397 , 0.03272223,\n",
       "        0.02203582],\n",
       "       [0.01193093, 0.04818973, 0.0191468 , ..., 0.01657741, 0.0275575 ,\n",
       "        0.01745377],\n",
       "       [0.01791556, 0.04142934, 0.01830682, ..., 0.01069668, 0.02790092,\n",
       "        0.01213667],\n",
       "       ...,\n",
       "       [0.01216479, 0.04362893, 0.02152118, ..., 0.02112804, 0.02141489,\n",
       "        0.01316631],\n",
       "       [0.01601868, 0.04488458, 0.01821144, ..., 0.01718663, 0.02761061,\n",
       "        0.01837809],\n",
       "       [0.0143585 , 0.04560999, 0.01746998, ..., 0.01508824, 0.02434002,\n",
       "        0.01615099]])"
      ]
     },
     "execution_count": 103,
     "metadata": {},
     "output_type": "execute_result"
    }
   ],
   "source": []
  },
  {
   "cell_type": "code",
   "execution_count": null,
   "metadata": {},
   "outputs": [],
   "source": []
  }
 ],
 "metadata": {
  "kernelspec": {
   "display_name": "Python 3",
   "language": "python",
   "name": "python3"
  },
  "language_info": {
   "codemirror_mode": {
    "name": "ipython",
    "version": 3
   },
   "file_extension": ".py",
   "mimetype": "text/x-python",
   "name": "python",
   "nbconvert_exporter": "python",
   "pygments_lexer": "ipython3",
   "version": "3.9.6"
  }
 },
 "nbformat": 4,
 "nbformat_minor": 2
}
