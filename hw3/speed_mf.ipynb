{
 "cells": [
  {
   "cell_type": "code",
   "execution_count": 4,
   "metadata": {},
   "outputs": [],
   "source": [
    "import pandas as pd\n",
    "import numpy as np\n",
    "import torch\n",
    "from data_reader import read_interaction_matrix\n",
    "R = read_interaction_matrix()\n",
    "from tqdm import tqdm\n",
    "\n",
    "n_users, n_items = R.shape\n",
    "n_latent = 64\n",
    "r = 0.001\n",
    "\n",
    "# learning rate\n",
    "INIT_LR = 0.05\n",
    "END_LR = 0.0001\n",
    "n_epochs = 750\n",
    "\n",
    "# error check steps\n",
    "erc_step = 100\n",
    "# min error threshold\n",
    "eth = 1e-4\n",
    "\n",
    "rng = np.random.default_rng(seed=1234)\n",
    "scale = 1./n_latent\n",
    "Q0 = rng.normal(scale=scale, size=(n_users, n_latent))\n",
    "P0 = rng.normal(scale=scale, size=(n_items, n_latent))\n",
    "\n",
    "def E(R, P, Q):\n",
    "    return np.abs(R - Q@P.T).sum() + r*((Q*Q).sum() + (P*P).sum())\n",
    "\n",
    "def LR(epoch, warmup):\n",
    "    s = warmup / n_epochs\n",
    "    x = (epoch - n_epochs)/n_epochs\n",
    "    \n",
    "    if epoch >= warmup:\n",
    "        x = x - s\n",
    "        y = ((1 + x))\n",
    "        \n",
    "        # y = (n_epochs*(s-1) + 1/(1 - s))*x + n_epochs*(1-s)\n",
    "        # y = y * n_epochs / (n_epochs - s*n_epochs)\n",
    "    else:\n",
    "        x += 1\n",
    "        y = (-2./s)*(x**2) + 2*s\n",
    "        \n",
    "    # f = lambda e : ((e/n_epochs)) * (((e/5 + (1-stop_warmup)*n_epochs)/n_epochs)**5)\n",
    "    # y = f(2/3*n_epochs + (-n_epochs + epoch)*3.)\n",
    "    # if epoch < stop_warmup:\n",
    "    #     x *= ((-epoch + stop_warmup//2)*3/n_epochs)**3\n",
    "    #     if epoch % 20 == 0:\n",
    "    #         print(\"warmup\")\n",
    "    # z = lambda x : (x - 1/3)**(0.3) * np.exp(-x**(0.8))\n",
    "    \n",
    "    lr = INIT_LR - (INIT_LR-END_LR) * y\n",
    "    return lr\n"
   ]
  },
  {
   "cell_type": "code",
   "execution_count": 15,
   "metadata": {},
   "outputs": [
    {
     "name": "stdout",
     "output_type": "stream",
     "text": [
      "0.01 0.0001\n"
     ]
    },
    {
     "name": "stderr",
     "output_type": "stream",
     "text": [
      "2it [00:00, 13.41it/s]"
     ]
    },
    {
     "name": "stdout",
     "output_type": "stream",
     "text": [
      "err: 2.30e+04, lr: 0.0010899\n"
     ]
    },
    {
     "name": "stderr",
     "output_type": "stream",
     "text": [
      "109it [00:02, 57.16it/s]"
     ]
    },
    {
     "name": "stdout",
     "output_type": "stream",
     "text": [
      "err: 1.76e+04, lr: 0.0097044\n"
     ]
    },
    {
     "name": "stderr",
     "output_type": "stream",
     "text": [
      "214it [00:04, 73.07it/s]"
     ]
    },
    {
     "name": "stdout",
     "output_type": "stream",
     "text": [
      "err: 1.76e+04, lr: 0.0091395\n"
     ]
    },
    {
     "name": "stderr",
     "output_type": "stream",
     "text": [
      "302it [00:05, 82.65it/s]"
     ]
    },
    {
     "name": "stdout",
     "output_type": "stream",
     "text": [
      "err: 1.75e+04, lr: 0.0086078\n"
     ]
    },
    {
     "name": "stderr",
     "output_type": "stream",
     "text": [
      "410it [00:07, 82.19it/s]"
     ]
    },
    {
     "name": "stdout",
     "output_type": "stream",
     "text": [
      "err: 1.75e+04, lr: 0.0081074\n"
     ]
    },
    {
     "name": "stderr",
     "output_type": "stream",
     "text": [
      "513it [00:08, 73.88it/s]"
     ]
    },
    {
     "name": "stdout",
     "output_type": "stream",
     "text": [
      "err: 1.75e+04, lr: 0.0076364\n"
     ]
    },
    {
     "name": "stderr",
     "output_type": "stream",
     "text": [
      "611it [00:10, 59.68it/s]"
     ]
    },
    {
     "name": "stdout",
     "output_type": "stream",
     "text": [
      "err: 1.75e+04, lr: 0.0071931\n"
     ]
    },
    {
     "name": "stderr",
     "output_type": "stream",
     "text": [
      "709it [00:11, 74.24it/s]"
     ]
    },
    {
     "name": "stdout",
     "output_type": "stream",
     "text": [
      "err: 1.75e+04, lr: 0.0067759\n"
     ]
    },
    {
     "name": "stderr",
     "output_type": "stream",
     "text": [
      "815it [00:13, 73.93it/s]"
     ]
    },
    {
     "name": "stdout",
     "output_type": "stream",
     "text": [
      "err: 1.75e+04, lr: 0.0063833\n"
     ]
    },
    {
     "name": "stderr",
     "output_type": "stream",
     "text": [
      "909it [00:14, 56.42it/s]"
     ]
    },
    {
     "name": "stdout",
     "output_type": "stream",
     "text": [
      "err: 1.75e+04, lr: 0.0060137\n"
     ]
    },
    {
     "name": "stderr",
     "output_type": "stream",
     "text": [
      "1016it [00:16, 56.62it/s]"
     ]
    },
    {
     "name": "stdout",
     "output_type": "stream",
     "text": [
      "err: 1.75e+04, lr: 0.0056659\n"
     ]
    },
    {
     "name": "stderr",
     "output_type": "stream",
     "text": [
      "1114it [00:18, 44.25it/s]"
     ]
    },
    {
     "name": "stdout",
     "output_type": "stream",
     "text": [
      "err: 1.75e+04, lr: 0.0053385\n"
     ]
    },
    {
     "name": "stderr",
     "output_type": "stream",
     "text": [
      "1181it [00:20, 59.01it/s]\n"
     ]
    },
    {
     "ename": "KeyboardInterrupt",
     "evalue": "",
     "output_type": "error",
     "traceback": [
      "\u001b[0;31m---------------------------------------------------------------------------\u001b[0m",
      "\u001b[0;31mKeyboardInterrupt\u001b[0m                         Traceback (most recent call last)",
      "Cell \u001b[0;32mIn[15], line 11\u001b[0m\n\u001b[1;32m      8\u001b[0m     errors \u001b[38;5;241m=\u001b[39m [log[\u001b[38;5;241m0\u001b[39m] \u001b[38;5;28;01mfor\u001b[39;00m log \u001b[38;5;129;01min\u001b[39;00m logs]\n\u001b[1;32m      9\u001b[0m     \u001b[38;5;28;01mreturn\u001b[39;00m errors\n\u001b[0;32m---> 11\u001b[0m q, p, err, logs \u001b[38;5;241m=\u001b[39m \u001b[43mmatrix_factorization\u001b[49m\u001b[43m(\u001b[49m\u001b[43mR\u001b[49m\u001b[43m,\u001b[49m\u001b[43m \u001b[49m\u001b[43mlr\u001b[49m\u001b[38;5;241;43m=\u001b[39;49m\u001b[43m(\u001b[49m\u001b[38;5;241;43m1e-2\u001b[39;49m\u001b[43m,\u001b[49m\u001b[38;5;241;43m1e-4\u001b[39;49m\u001b[43m)\u001b[49m\u001b[43m,\u001b[49m\u001b[43m \u001b[49m\u001b[43mn_epochs\u001b[49m\u001b[38;5;241;43m=\u001b[39;49m\u001b[38;5;241;43m5000\u001b[39;49m\u001b[43m,\u001b[49m\u001b[43m \u001b[49m\u001b[43mreg\u001b[49m\u001b[38;5;241;43m=\u001b[39;49m\u001b[38;5;241;43m0.001\u001b[39;49m\u001b[43m,\u001b[49m\u001b[43m \u001b[49m\u001b[43mn_latent\u001b[49m\u001b[38;5;241;43m=\u001b[39;49m\u001b[38;5;241;43m16\u001b[39;49m\u001b[43m)\u001b[49m\n\u001b[1;32m     12\u001b[0m errors \u001b[38;5;241m=\u001b[39m get_errors(logs)\n\u001b[1;32m     13\u001b[0m plt\u001b[38;5;241m.\u001b[39mplot(errors)\n",
      "File \u001b[0;32m~/Documents/ir/information-retrieval-course/hw3/mf.py:78\u001b[0m, in \u001b[0;36mmatrix_factorization\u001b[0;34m(r, lr, n_epochs, reg, n_latent, log_step, print_step, eth, qp)\u001b[0m\n\u001b[1;32m     75\u001b[0m logs \u001b[38;5;241m=\u001b[39m []\n\u001b[1;32m     77\u001b[0m \u001b[38;5;28;01mfor\u001b[39;00m epoch, lr \u001b[38;5;129;01min\u001b[39;00m tqdm(iterator):\n\u001b[0;32m---> 78\u001b[0m     q, p \u001b[38;5;241m=\u001b[39m \u001b[43mupdate_pq\u001b[49m\u001b[43m(\u001b[49m\u001b[43mr\u001b[49m\u001b[43m,\u001b[49m\u001b[43m \u001b[49m\u001b[43mq\u001b[49m\u001b[43m,\u001b[49m\u001b[43m \u001b[49m\u001b[43mp\u001b[49m\u001b[43m,\u001b[49m\u001b[43m \u001b[49m\u001b[43mreg\u001b[49m\u001b[43m,\u001b[49m\u001b[43m \u001b[49m\u001b[43mlr\u001b[49m\u001b[43m)\u001b[49m\n\u001b[1;32m     80\u001b[0m     \u001b[38;5;28;01mif\u001b[39;00m epoch \u001b[38;5;241m%\u001b[39m errc_step \u001b[38;5;241m==\u001b[39m \u001b[38;5;241m0\u001b[39m:\n\u001b[1;32m     81\u001b[0m         err \u001b[38;5;241m=\u001b[39m loss(r, q, p, reg)\n",
      "File \u001b[0;32m~/Documents/ir/information-retrieval-course/hw3/mf.py:36\u001b[0m, in \u001b[0;36mupdate_pq\u001b[0;34m(r, q, p, reg, lr)\u001b[0m\n\u001b[1;32m     33\u001b[0m clip(q, \u001b[38;5;241m2.5\u001b[39m)\n\u001b[1;32m     34\u001b[0m clip(p, \u001b[38;5;241m2.5\u001b[39m)\n\u001b[0;32m---> 36\u001b[0m e \u001b[38;5;241m=\u001b[39m (r \u001b[38;5;241m-\u001b[39m \u001b[43mq\u001b[49m\u001b[43m \u001b[49m\u001b[38;5;241;43m@\u001b[39;49m\u001b[43m \u001b[49m\u001b[43mp\u001b[49m\u001b[38;5;241;43m.\u001b[39;49m\u001b[43mT\u001b[49m)\n\u001b[1;32m     37\u001b[0m qq \u001b[38;5;241m=\u001b[39m q \u001b[38;5;241m+\u001b[39m lr \u001b[38;5;241m*\u001b[39m (\u001b[38;5;241m2\u001b[39m \u001b[38;5;241m*\u001b[39m e \u001b[38;5;241m@\u001b[39m p \u001b[38;5;241m-\u001b[39m reg\u001b[38;5;241m*\u001b[39mq)\n\u001b[1;32m     38\u001b[0m pp \u001b[38;5;241m=\u001b[39m p \u001b[38;5;241m+\u001b[39m lr \u001b[38;5;241m*\u001b[39m (\u001b[38;5;241m2\u001b[39m \u001b[38;5;241m*\u001b[39m e\u001b[38;5;241m.\u001b[39mT \u001b[38;5;241m@\u001b[39m q \u001b[38;5;241m-\u001b[39m reg\u001b[38;5;241m*\u001b[39mp)\n",
      "\u001b[0;31mKeyboardInterrupt\u001b[0m: "
     ]
    }
   ],
   "source": [
    "from data_reader import read_interaction_matrix\n",
    "R = read_interaction_matrix()\n",
    "\n",
    "from mf import matrix_factorization\n",
    "from matplotlib import pyplot as plt\n",
    "\n",
    "def get_errors(logs):\n",
    "    errors = [log[0] for log in logs]\n",
    "    return errors\n",
    "\n",
    "q, p, err, logs = matrix_factorization(R, lr=(1e-2,1e-4), n_epochs=500, reg=0.001, n_latent=64)\n",
    "errors = get_errors(logs)\n",
    "plt.plot(errors)"
   ]
  },
  {
   "cell_type": "code",
   "execution_count": 12,
   "metadata": {},
   "outputs": [
    {
     "data": {
      "text/plain": [
       "(22710.410707193598, 23038.0)"
      ]
     },
     "execution_count": 12,
     "metadata": {},
     "output_type": "execute_result"
    }
   ],
   "source": [
    "import numpy as np\n",
    "S = (q @ p.T)\n",
    "S.sum(), R.sum()"
   ]
  },
  {
   "cell_type": "code",
   "execution_count": 14,
   "metadata": {},
   "outputs": [
    {
     "data": {
      "text/plain": [
       "array([0.14531313, 0.25270802, 0.15089348, ..., 0.20097695, 0.13145251,\n",
       "       0.0401452 ])"
      ]
     },
     "execution_count": 14,
     "metadata": {},
     "output_type": "execute_result"
    }
   ],
   "source": [
    "S[R.nonzero()]"
   ]
  },
  {
   "cell_type": "code",
   "execution_count": 14,
   "metadata": {},
   "outputs": [
    {
     "name": "stdout",
     "output_type": "stream",
     "text": [
      "22985.33488759431\n"
     ]
    }
   ],
   "source": [
    "from mf import error\n",
    "\n",
    "print(error(R, q, p, 0.001))"
   ]
  },
  {
   "cell_type": "code",
   "execution_count": 7,
   "metadata": {},
   "outputs": [
    {
     "data": {
      "text/plain": [
       "['-0.013', '0.002', '0.023', '-0.492', '1.597']"
      ]
     },
     "execution_count": 7,
     "metadata": {},
     "output_type": "execute_result"
    }
   ],
   "source": [
    "S = (q@p.T)\n",
    "\n",
    "def f(f):\n",
    "    i = 5\n",
    "    i += 1 if f < 0 else 0\n",
    "    return str(f)[:i]\n",
    "\n",
    "[f(x) for x in [S[0,6], S[0,7], S.mean(), S.min(), S.max()]]"
   ]
  },
  {
   "cell_type": "code",
   "execution_count": 8,
   "metadata": {},
   "outputs": [
    {
     "data": {
      "text/plain": [
       "(0.4351097056356439, 0.012915999784935794)"
      ]
     },
     "execution_count": 8,
     "metadata": {},
     "output_type": "execute_result"
    }
   ],
   "source": [
    "S[R.nonzero()].mean(), (S - S * R).mean()"
   ]
  },
  {
   "cell_type": "code",
   "execution_count": 4,
   "metadata": {},
   "outputs": [],
   "source": [
    "from mf import init_pq\n",
    "\n",
    "q, p = init_pq(*R.shape, 64)"
   ]
  }
 ],
 "metadata": {
  "kernelspec": {
   "display_name": "Python 3",
   "language": "python",
   "name": "python3"
  },
  "language_info": {
   "codemirror_mode": {
    "name": "ipython",
    "version": 3
   },
   "file_extension": ".py",
   "mimetype": "text/x-python",
   "name": "python",
   "nbconvert_exporter": "python",
   "pygments_lexer": "ipython3",
   "version": "3.9.6"
  }
 },
 "nbformat": 4,
 "nbformat_minor": 2
}
