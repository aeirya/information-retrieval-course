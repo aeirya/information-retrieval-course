{
 "cells": [
  {
   "cell_type": "code",
   "execution_count": 4,
   "metadata": {},
   "outputs": [],
   "source": [
    "import pandas as pd\n",
    "import numpy as np\n",
    "import torch\n",
    "from data_reader import read_interaction_matrix\n",
    "R = read_interaction_matrix()\n",
    "from tqdm import tqdm\n",
    "\n",
    "n_users, n_items = R.shape\n",
    "n_latent = 64\n",
    "r = 0.001\n",
    "\n",
    "# learning rate\n",
    "INIT_LR = 0.05\n",
    "END_LR = 0.0001\n",
    "n_epochs = 750\n",
    "\n",
    "# error check steps\n",
    "erc_step = 100\n",
    "# min error threshold\n",
    "eth = 1e-4\n",
    "\n",
    "rng = np.random.default_rng(seed=1234)\n",
    "scale = 1./n_latent\n",
    "Q0 = rng.normal(scale=scale, size=(n_users, n_latent))\n",
    "P0 = rng.normal(scale=scale, size=(n_items, n_latent))\n",
    "\n",
    "def E(R, P, Q):\n",
    "    return np.abs(R - Q@P.T).sum() + r*((Q*Q).sum() + (P*P).sum())\n",
    "\n",
    "def LR(epoch, warmup):\n",
    "    s = warmup / n_epochs\n",
    "    x = (epoch - n_epochs)/n_epochs\n",
    "    \n",
    "    if epoch >= warmup:\n",
    "        x = x - s\n",
    "        y = ((1 + x))\n",
    "        \n",
    "        # y = (n_epochs*(s-1) + 1/(1 - s))*x + n_epochs*(1-s)\n",
    "        # y = y * n_epochs / (n_epochs - s*n_epochs)\n",
    "    else:\n",
    "        x += 1\n",
    "        y = (-2./s)*(x**2) + 2*s\n",
    "        \n",
    "    # f = lambda e : ((e/n_epochs)) * (((e/5 + (1-stop_warmup)*n_epochs)/n_epochs)**5)\n",
    "    # y = f(2/3*n_epochs + (-n_epochs + epoch)*3.)\n",
    "    # if epoch < stop_warmup:\n",
    "    #     x *= ((-epoch + stop_warmup//2)*3/n_epochs)**3\n",
    "    #     if epoch % 20 == 0:\n",
    "    #         print(\"warmup\")\n",
    "    # z = lambda x : (x - 1/3)**(0.3) * np.exp(-x**(0.8))\n",
    "    \n",
    "    lr = INIT_LR - (INIT_LR-END_LR) * y\n",
    "    return lr\n"
   ]
  },
  {
   "cell_type": "code",
   "execution_count": 1,
   "metadata": {},
   "outputs": [
    {
     "name": "stderr",
     "output_type": "stream",
     "text": [
      "5it [00:00, 20.20it/s]"
     ]
    },
    {
     "name": "stdout",
     "output_type": "stream",
     "text": [
      "err: 2.29e+04, lr: 0.0024500, last batch: None\n"
     ]
    },
    {
     "name": "stderr",
     "output_type": "stream",
     "text": [
      "365it [00:06, 96.70it/s]"
     ]
    },
    {
     "name": "stdout",
     "output_type": "stream",
     "text": [
      "err: 1.16e+04, lr: 0.0147665, last batch: 64\n"
     ]
    },
    {
     "name": "stderr",
     "output_type": "stream",
     "text": [
      "710it [00:11, 85.75it/s] "
     ]
    },
    {
     "name": "stdout",
     "output_type": "stream",
     "text": [
      "err: 9.26e+03, lr: 0.0105250, last batch: 16\n"
     ]
    },
    {
     "name": "stderr",
     "output_type": "stream",
     "text": [
      "1062it [00:15, 98.25it/s] "
     ]
    },
    {
     "name": "stdout",
     "output_type": "stream",
     "text": [
      "err: 8.41e+03, lr: 0.0075446, last batch: 16\n"
     ]
    },
    {
     "name": "stderr",
     "output_type": "stream",
     "text": [
      "1415it [00:19, 94.04it/s] "
     ]
    },
    {
     "name": "stdout",
     "output_type": "stream",
     "text": [
      "err: 8.20e+03, lr: 0.0054502, last batch: 16\n"
     ]
    },
    {
     "name": "stderr",
     "output_type": "stream",
     "text": [
      "1755it [00:24, 60.54it/s]"
     ]
    },
    {
     "name": "stdout",
     "output_type": "stream",
     "text": [
      "err: 4.84e+03, lr: 0.0039785, last batch: 4\n"
     ]
    },
    {
     "name": "stderr",
     "output_type": "stream",
     "text": [
      "2106it [00:30, 49.92it/s]"
     ]
    },
    {
     "name": "stdout",
     "output_type": "stream",
     "text": [
      "err: 4.11e+03, lr: 0.0029444, last batch: 4\n"
     ]
    },
    {
     "name": "stderr",
     "output_type": "stream",
     "text": [
      "2458it [00:36, 71.51it/s]"
     ]
    },
    {
     "name": "stdout",
     "output_type": "stream",
     "text": [
      "err: 3.68e+03, lr: 0.0022176, last batch: 1\n"
     ]
    },
    {
     "name": "stderr",
     "output_type": "stream",
     "text": [
      "2805it [00:42, 53.36it/s]"
     ]
    },
    {
     "name": "stdout",
     "output_type": "stream",
     "text": [
      "err: 3.25e+03, lr: 0.0017070, last batch: 1\n"
     ]
    },
    {
     "name": "stderr",
     "output_type": "stream",
     "text": [
      "3158it [00:46, 71.08it/s]"
     ]
    },
    {
     "name": "stdout",
     "output_type": "stream",
     "text": [
      "err: 2.95e+03, lr: 0.0013406, last batch: 1\n"
     ]
    },
    {
     "name": "stderr",
     "output_type": "stream",
     "text": [
      "3501it [00:51, 70.53it/s]"
     ]
    },
    {
     "name": "stdout",
     "output_type": "stream",
     "text": [
      "err: 2.76e+03, lr: 0.0009981, last batch: 1\n"
     ]
    },
    {
     "name": "stderr",
     "output_type": "stream",
     "text": [
      "3855it [00:57, 65.12it/s]"
     ]
    },
    {
     "name": "stdout",
     "output_type": "stream",
     "text": [
      "err: 2.63e+03, lr: 0.0006556, last batch: 1\n"
     ]
    },
    {
     "name": "stderr",
     "output_type": "stream",
     "text": [
      "4010it [01:00, 66.77it/s]"
     ]
    },
    {
     "name": "stdout",
     "output_type": "stream",
     "text": [
      "best error: 2.59e+03\n"
     ]
    },
    {
     "name": "stderr",
     "output_type": "stream",
     "text": [
      "\n"
     ]
    },
    {
     "data": {
      "text/plain": [
       "[<matplotlib.lines.Line2D at 0x148d75190>]"
      ]
     },
     "execution_count": 1,
     "metadata": {},
     "output_type": "execute_result"
    },
    {
     "data": {
      "image/png": "[encoded data removed]",
      "text/plain": [
       "<Figure size 640x480 with 1 Axes>"
      ]
     },
     "metadata": {},
     "output_type": "display_data"
    }
   ],
   "source": [
    "from data_reader import read_interaction_matrix\n",
    "R = read_interaction_matrix()\n",
    "\n",
    "from mf import matrix_factorization\n",
    "from matplotlib import pyplot as plt\n",
    "\n",
    "def get_errors(logs):\n",
    "    errors = [log[0] for log in logs]\n",
    "    return errors\n",
    "\n",
    "q, p, err, logs = matrix_factorization(\n",
    "    R, lr=(2e-2, 2e-3), n_epochs=3010, ff=0.05, reg=0.001, n_latent=64, log_step=50, print_step=350,\n",
    "    sample_s=0.005, batch_sample_s=0.05\n",
    "    )\n",
    "errors = get_errors(logs)\n",
    "\n",
    "print(f'best error: {err:.2e}')\n",
    "plt.plot(errors)"
   ]
  },
  {
   "cell_type": "code",
   "execution_count": 2,
   "metadata": {},
   "outputs": [
    {
     "data": {
      "text/plain": [
       "(185356.37639551942,\n",
       " 23038.0,\n",
       " array([1.03055607, 0.91485724, 1.10436426, ..., 0.88592223, 0.9158253 ,\n",
       "        0.94324758]))"
      ]
     },
     "execution_count": 2,
     "metadata": {},
     "output_type": "execute_result"
    }
   ],
   "source": [
    "import numpy as np\n",
    "S = (q @ p.T)\n",
    "S.sum(), R.sum(), S[R.nonzero()]"
   ]
  },
  {
   "cell_type": "code",
   "execution_count": 3,
   "metadata": {},
   "outputs": [
    {
     "name": "stdout",
     "output_type": "stream",
     "text": [
      "R stat\tmean: 0.023, min: 0.0, max: 1.0\n",
      "S stat\tmean: 0.188, min: -0.935, max: 1.491\n",
      "Positives stat\tmean: 0.979, min: 0.330, max: 1.491\n",
      "Others stat\tmean: 0.165, min: -0.935, max: 1.444\n"
     ]
    }
   ],
   "source": [
    "s = (q@p.T)\n",
    "\n",
    "def frmt(f):\n",
    "    i = 5\n",
    "    i += 1 if f < 0 else 0\n",
    "    return str(f)[:i]\n",
    "\n",
    "def describe(M, name=None):\n",
    "    print((f'{name}\\t' if name else '') + f'mean: {frmt(M.mean())}, min: {frmt(M.min())}, max: {frmt(M.max())}')\n",
    "\n",
    "describe(R, 'R stat')\n",
    "describe(S, 'S stat')\n",
    "describe(S[R.nonzero()], 'Positives stat')\n",
    "describe((S - S*R), 'Others stat')"
   ]
  },
  {
   "cell_type": "code",
   "execution_count": 4,
   "metadata": {},
   "outputs": [
    {
     "data": {
      "image/png": "[encoded data removed]",
      "text/plain": [
       "<Figure size 640x480 with 1 Axes>"
      ]
     },
     "metadata": {},
     "output_type": "display_data"
    }
   ],
   "source": [
    "from mf import heatmap\n",
    "import numpy as np\n",
    "\n",
    "S = q @ p.T\n",
    "\n",
    "FP = np.zeros_like(S)\n",
    "FP[S > S.max() * 0.5] = -1\n",
    "FP[R.nonzero()] = 1\n",
    "\n",
    "P = S * R\n",
    "Z = S - (S * R)\n",
    "\n",
    "D = np.zeros((P.shape[0], 1))\n",
    "D[:,0] = 0.5\n",
    "\n",
    "t = tuple(M[60:90, 0:10] for M in (R, D, S, D, P, D, FP))\n",
    "V = np.concatenate(t, axis=1)\n",
    "heatmap(V)"
   ]
  },
  {
   "cell_type": "code",
   "execution_count": null,
   "metadata": {},
   "outputs": [],
   "source": []
  },
  {
   "cell_type": "code",
   "execution_count": null,
   "metadata": {},
   "outputs": [],
   "source": []
  }
 ],
 "metadata": {
  "kernelspec": {
   "display_name": "Python 3",
   "language": "python",
   "name": "python3"
  },
  "language_info": {
   "codemirror_mode": {
    "name": "ipython",
    "version": 3
   },
   "file_extension": ".py",
   "mimetype": "text/x-python",
   "name": "python",
   "nbconvert_exporter": "python",
   "pygments_lexer": "ipython3",
   "version": "3.9.6"
  }
 },
 "nbformat": 4,
 "nbformat_minor": 2
}
