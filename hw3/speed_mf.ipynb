{
 "cells": [
  {
   "cell_type": "code",
   "execution_count": 4,
   "metadata": {},
   "outputs": [],
   "source": [
    "import pandas as pd\n",
    "import numpy as np\n",
    "import torch\n",
    "from data_reader import read_interaction_matrix\n",
    "R = read_interaction_matrix()\n",
    "from tqdm import tqdm\n",
    "\n",
    "n_users, n_items = R.shape\n",
    "n_latent = 64\n",
    "r = 0.001\n",
    "\n",
    "# learning rate\n",
    "INIT_LR = 0.05\n",
    "END_LR = 0.0001\n",
    "n_epochs = 750\n",
    "\n",
    "# error check steps\n",
    "erc_step = 100\n",
    "# min error threshold\n",
    "eth = 1e-4\n",
    "\n",
    "rng = np.random.default_rng(seed=1234)\n",
    "scale = 1./n_latent\n",
    "Q0 = rng.normal(scale=scale, size=(n_users, n_latent))\n",
    "P0 = rng.normal(scale=scale, size=(n_items, n_latent))\n",
    "\n",
    "def E(R, P, Q):\n",
    "    return np.abs(R - Q@P.T).sum() + r*((Q*Q).sum() + (P*P).sum())\n",
    "\n",
    "def LR(epoch, warmup):\n",
    "    s = warmup / n_epochs\n",
    "    x = (epoch - n_epochs)/n_epochs\n",
    "    \n",
    "    if epoch >= warmup:\n",
    "        x = x - s\n",
    "        y = ((1 + x))\n",
    "        \n",
    "        # y = (n_epochs*(s-1) + 1/(1 - s))*x + n_epochs*(1-s)\n",
    "        # y = y * n_epochs / (n_epochs - s*n_epochs)\n",
    "    else:\n",
    "        x += 1\n",
    "        y = (-2./s)*(x**2) + 2*s\n",
    "        \n",
    "    # f = lambda e : ((e/n_epochs)) * (((e/5 + (1-stop_warmup)*n_epochs)/n_epochs)**5)\n",
    "    # y = f(2/3*n_epochs + (-n_epochs + epoch)*3.)\n",
    "    # if epoch < stop_warmup:\n",
    "    #     x *= ((-epoch + stop_warmup//2)*3/n_epochs)**3\n",
    "    #     if epoch % 20 == 0:\n",
    "    #         print(\"warmup\")\n",
    "    # z = lambda x : (x - 1/3)**(0.3) * np.exp(-x**(0.8))\n",
    "    \n",
    "    lr = INIT_LR - (INIT_LR-END_LR) * y\n",
    "    return lr\n"
   ]
  },
  {
   "cell_type": "code",
   "execution_count": 3,
   "metadata": {},
   "outputs": [
    {
     "data": {
      "text/plain": [
       "array([[1., 1.],\n",
       "       [1., 1.],\n",
       "       [1., 1.],\n",
       "       [1., 1.],\n",
       "       [1., 1.],\n",
       "       [1., 1.],\n",
       "       [1., 1.],\n",
       "       [1., 1.],\n",
       "       [1., 1.],\n",
       "       [1., 1.]])"
      ]
     },
     "execution_count": 3,
     "metadata": {},
     "output_type": "execute_result"
    }
   ],
   "source": [
    "n_latent = 64\n",
    "import numpy as np\n",
    "\n",
    "a = np.ones((10, n_latent))\n",
    "b = np.ones((2, n_latent))\n",
    "c = a @ b.T\n",
    "c / n_latent\n"
   ]
  },
  {
   "cell_type": "code",
   "execution_count": 460,
   "metadata": {},
   "outputs": [
    {
     "name": "stderr",
     "output_type": "stream",
     "text": []
    },
    {
     "name": "stdout",
     "output_type": "stream",
     "text": [
      "err: 2.67e+04, lr: 0.08569545248443132\n"
     ]
    },
    {
     "name": "stderr",
     "output_type": "stream",
     "text": []
    },
    {
     "name": "stdout",
     "output_type": "stream",
     "text": [
      "err: 7.47e+09, lr: 0.08443639173143616\n"
     ]
    },
    {
     "name": "stderr",
     "output_type": "stream",
     "text": []
    },
    {
     "name": "stdout",
     "output_type": "stream",
     "text": [
      "err: 2.00e+31, lr: 0.08319125342521998\n"
     ]
    },
    {
     "name": "stderr",
     "output_type": "stream",
     "text": []
    },
    {
     "name": "stdout",
     "output_type": "stream",
     "text": [
      "err: 9.73e+52, lr: 0.08196041382553026\n"
     ]
    },
    {
     "name": "stderr",
     "output_type": "stream",
     "text": []
    },
    {
     "name": "stdout",
     "output_type": "stream",
     "text": [
      "err: 8.81e+74, lr: 0.08074425936068615\n"
     ]
    },
    {
     "name": "stderr",
     "output_type": "stream",
     "text": []
    },
    {
     "name": "stdout",
     "output_type": "stream",
     "text": [
      "err: 1.02e+98, lr: 0.0795431869023881\n"
     ]
    },
    {
     "name": "stderr",
     "output_type": "stream",
     "text": []
    },
    {
     "name": "stdout",
     "output_type": "stream",
     "text": [
      "err: 9.33e+120, lr: 0.07835760404795465\n"
     ]
    },
    {
     "name": "stderr",
     "output_type": "stream",
     "text": []
    },
    {
     "name": "stdout",
     "output_type": "stream",
     "text": [
      "err: 4.70e+143, lr: 0.0771879294101865\n"
     ]
    },
    {
     "name": "stderr",
     "output_type": "stream",
     "text": []
    },
    {
     "name": "stdout",
     "output_type": "stream",
     "text": [
      "err: 1.30e+166, lr: 0.07603459291506429\n"
     ]
    },
    {
     "name": "stderr",
     "output_type": "stream",
     "text": [
      " 23%|██▎       | 171/750 [00:05<00:17, 33.38it/s]\n"
     ]
    },
    {
     "ename": "KeyboardInterrupt",
     "evalue": "",
     "output_type": "error",
     "traceback": [
      "\u001b[0;31m---------------------------------------------------------------------------\u001b[0m",
      "\u001b[0;31mKeyboardInterrupt\u001b[0m                         Traceback (most recent call last)",
      "Cell \u001b[0;32mIn[460], line 26\u001b[0m\n\u001b[1;32m     23\u001b[0m e \u001b[38;5;241m=\u001b[39m R[i0:i1, j0:j1] \u001b[38;5;241m-\u001b[39m qp\n\u001b[1;32m     24\u001b[0m err \u001b[38;5;241m=\u001b[39m e\u001b[38;5;241m.\u001b[39msum()\n\u001b[0;32m---> 26\u001b[0m qq \u001b[38;5;241m=\u001b[39m q \u001b[38;5;241m+\u001b[39m lr \u001b[38;5;241m*\u001b[39m (\u001b[38;5;241;43m2\u001b[39;49m\u001b[43m \u001b[49m\u001b[38;5;241;43m*\u001b[39;49m\u001b[43m \u001b[49m\u001b[43me\u001b[49m\u001b[43m \u001b[49m\u001b[38;5;241;43m@\u001b[39;49m\u001b[43m \u001b[49m\u001b[43mp\u001b[49m \u001b[38;5;241m-\u001b[39m r\u001b[38;5;241m*\u001b[39mq)\n\u001b[1;32m     27\u001b[0m qq[qq \u001b[38;5;241m<\u001b[39m zeps] \u001b[38;5;241m=\u001b[39m \u001b[38;5;241m0\u001b[39m\n\u001b[1;32m     28\u001b[0m pp \u001b[38;5;241m=\u001b[39m p \u001b[38;5;241m+\u001b[39m lr \u001b[38;5;241m*\u001b[39m (\u001b[38;5;241m2\u001b[39m \u001b[38;5;241m*\u001b[39m e\u001b[38;5;241m.\u001b[39mT \u001b[38;5;241m@\u001b[39m q \u001b[38;5;241m-\u001b[39m r\u001b[38;5;241m*\u001b[39mp)\n",
      "\u001b[0;31mKeyboardInterrupt\u001b[0m: "
     ]
    }
   ],
   "source": [
    "Q, P = Q0, P0\n",
    "\n",
    "\n",
    "mi, mj = R.nonzero()\n",
    "i0, i1 = 0, n_users\n",
    "j0, j1 = 0, n_items\n",
    "\n",
    "err = 0\n",
    "\n",
    "Results = []\n",
    "\n",
    "for epoch in tqdm(range(n_epochs), desc=err):\n",
    "    # print(epoch)\n",
    "    lr = LR(epoch)\n",
    "    zeps = lr//2\n",
    "\n",
    "    q = Q[i0:i1, :]\n",
    "    p = P[j0:j1, :]\n",
    "\n",
    "    # print(f'{q.ravel()}')\n",
    "\n",
    "    qp = q @ p.T\n",
    "    e = R[i0:i1, j0:j1] - qp\n",
    "    err = e.sum()\n",
    "\n",
    "    qq = q + lr * (2 * e @ p - r*q)\n",
    "    qq[qq < zeps] = 0\n",
    "    pp = p + lr * (2 * e.T @ q - r*p)\n",
    "    pp[pp < zeps] = 0\n",
    "\n",
    "    Q[i0:i1, :] = qq\n",
    "    P[j0:j1, :] = pp\n",
    "\n",
    "    if epoch % 20 == 0:\n",
    "        x = E(R, P, Q), P, Q\n",
    "        Results.append(x)\n",
    "        print(f'err: {x[0]:.2e}, lr: {lr}')\n",
    "\n",
    "    # if epoch % erc_step == 0 and abs(error(R, Q, P, reg=r)) < eth:\n",
    "    #     print('breaking at', epoch)\n",
    "    #     break\n",
    "\n"
   ]
  },
  {
   "cell_type": "code",
   "execution_count": 557,
   "metadata": {},
   "outputs": [
    {
     "data": {
      "image/png": "[encoded data removed]",
      "text/plain": [
       "<Figure size 640x480 with 1 Axes>"
      ]
     },
     "metadata": {},
     "output_type": "display_data"
    }
   ],
   "source": [
    "from matplotlib import pyplot as plt\n",
    "\n",
    "LRS = []\n",
    "w = n_epochs//5\n",
    "for epoch in range(w + n_epochs):\n",
    "    lr = LR(epoch, w)\n",
    "    LRS.append(lr)\n",
    "    \n",
    "plt.plot(LRS)\n",
    "plt.show()"
   ]
  },
  {
   "cell_type": "code",
   "execution_count": 509,
   "metadata": {},
   "outputs": [
    {
     "data": {
      "text/plain": [
       "750"
      ]
     },
     "execution_count": 509,
     "metadata": {},
     "output_type": "execute_result"
    }
   ],
   "source": [
    "n_epochs\n"
   ]
  },
  {
   "cell_type": "code",
   "execution_count": 589,
   "metadata": {},
   "outputs": [
    {
     "data": {
      "text/plain": [
       "array([ 9.58208697e-01,  8.85045484e-01,  8.22448926e-01,  7.67748490e-01,\n",
       "        7.19173390e-01,  6.75488908e-01,  6.35799712e-01,  5.99435848e-01,\n",
       "        5.65882915e-01,  5.34737352e-01,  5.05676715e-01,  4.78439297e-01,\n",
       "        4.52809768e-01,  4.28608828e-01,  4.05685593e-01,  3.83911887e-01,\n",
       "        3.63177902e-01,  3.43388854e-01,  3.24462352e-01,  3.06326335e-01,\n",
       "        2.88917412e-01,  2.72179523e-01,  2.56062850e-01,  2.40522928e-01,\n",
       "        2.25519900e-01,  2.11017902e-01,  1.96984549e-01,  1.83390498e-01,\n",
       "        1.70209077e-01,  1.57415973e-01,  1.44988959e-01,  1.32907666e-01,\n",
       "        1.21153377e-01,  1.09708855e-01,  9.85581914e-02,  8.76866730e-02,\n",
       "        7.70806640e-02,  6.67275044e-02,  5.66154181e-02,  4.67334336e-02,\n",
       "        3.70713114e-02,  2.76194806e-02,  1.83689822e-02,  9.31141755e-03,\n",
       "        4.38903000e-04, -8.25597164e-03, -1.67801802e-02, -2.51402936e-02,\n",
       "       -3.33425106e-02, -4.13926852e-02])"
      ]
     },
     "execution_count": 589,
     "metadata": {},
     "output_type": "execute_result"
    },
    {
     "data": {
      "image/png": "[encoded data removed]",
      "text/plain": [
       "<Figure size 640x480 with 1 Axes>"
      ]
     },
     "metadata": {},
     "output_type": "display_data"
    }
   ],
   "source": [
    "plt.plot(X[50:], np.log(X[50:]+0.2)/np.log(0.2))\n",
    "np.log(X[50:]+0.1)/np.log(0.1)"
   ]
  },
  {
   "cell_type": "code",
   "execution_count": 578,
   "metadata": {},
   "outputs": [
    {
     "data": {
      "text/plain": [
       "array([-0.01010101,  0.01010101,  0.03030303,  0.05050505,  0.07070707,\n",
       "        0.09090909,  0.11111111,  0.13131313,  0.15151515,  0.17171717,\n",
       "        0.19191919,  0.21212121,  0.23232323,  0.25252525,  0.27272727,\n",
       "        0.29292929,  0.31313131,  0.33333333,  0.35353535,  0.37373737,\n",
       "        0.39393939,  0.41414141,  0.43434343,  0.45454545,  0.47474747,\n",
       "        0.49494949,  0.51515152,  0.53535354,  0.55555556,  0.57575758,\n",
       "        0.5959596 ,  0.61616162,  0.63636364,  0.65656566,  0.67676768,\n",
       "        0.6969697 ,  0.71717172,  0.73737374,  0.75757576,  0.77777778,\n",
       "        0.7979798 ,  0.81818182,  0.83838384,  0.85858586,  0.87878788,\n",
       "        0.8989899 ,  0.91919192,  0.93939394,  0.95959596,  0.97979798,\n",
       "        1.        ])"
      ]
     },
     "execution_count": 578,
     "metadata": {},
     "output_type": "execute_result"
    }
   ],
   "source": [
    "X[49:]"
   ]
  },
  {
   "cell_type": "code",
   "execution_count": 421,
   "metadata": {},
   "outputs": [
    {
     "data": {
      "text/plain": [
       "<matplotlib.collections.PathCollection at 0x1559ea370>"
      ]
     },
     "execution_count": 421,
     "metadata": {},
     "output_type": "execute_result"
    },
    {
     "data": {
      "image/png": "[encoded data removed]",
      "text/plain": [
       "<Figure size 640x480 with 1 Axes>"
      ]
     },
     "metadata": {},
     "output_type": "display_data"
    }
   ],
   "source": [
    "s = 1/6\n",
    "X = np.linspace(start=-1, stop=1, num=100)\n",
    "a,c = -2/s, 2*s\n",
    "plt.plot(X, a*X**2 + c)\n",
    "'''\n",
    "0,2s\n",
    "s,0\n",
    "y'(0) = 0\n",
    "'''\n",
    "plt.scatter(s, 0)\n",
    "plt.scatter(0, 2*s)"
   ]
  },
  {
   "cell_type": "code",
   "execution_count": null,
   "metadata": {},
   "outputs": [
    {
     "data": {
      "text/plain": [
       "0.04996629061511783"
      ]
     },
     "execution_count": 201,
     "metadata": {},
     "output_type": "execute_result"
    }
   ],
   "source": [
    "LR(20)"
   ]
  },
  {
   "cell_type": "code",
   "execution_count": 219,
   "metadata": {},
   "outputs": [
    {
     "data": {
      "text/plain": [
       "(-1.8750000000000002, 0.15335496684492844)"
      ]
     },
     "execution_count": 219,
     "metadata": {},
     "output_type": "execute_result"
    }
   ],
   "source": [
    "epoch = 0\n",
    "x = 0.00001*(epoch - n_epochs)*(epoch + n_epochs//3)\n",
    "x, np.exp(x)"
   ]
  },
  {
   "cell_type": "code",
   "execution_count": 228,
   "metadata": {},
   "outputs": [],
   "source": [
    "err,P, Q = min(Results)"
   ]
  },
  {
   "cell_type": "code",
   "execution_count": 229,
   "metadata": {},
   "outputs": [
    {
     "data": {
      "text/plain": [
       "24260.458564874774"
      ]
     },
     "execution_count": 229,
     "metadata": {},
     "output_type": "execute_result"
    }
   ],
   "source": [
    "err"
   ]
  },
  {
   "cell_type": "code",
   "execution_count": 230,
   "metadata": {},
   "outputs": [
    {
     "data": {
      "text/plain": [
       "(23038.0, 5.50274848510598e+187)"
      ]
     },
     "execution_count": 230,
     "metadata": {},
     "output_type": "execute_result"
    }
   ],
   "source": [
    "S = Q@P.T\n",
    "# S[S<0.1] = 0\n",
    "R.sum(), S.sum()"
   ]
  },
  {
   "cell_type": "code",
   "execution_count": 231,
   "metadata": {},
   "outputs": [
    {
     "name": "stderr",
     "output_type": "stream",
     "text": [
      "/var/folders/yh/qdnh620s5k713znk3pgdt3cc0000gp/T/ipykernel_18681/989862736.py:1: RuntimeWarning: overflow encountered in square\n",
      "  ((S - R)**2).sum()\n"
     ]
    },
    {
     "data": {
      "text/plain": [
       "inf"
      ]
     },
     "execution_count": 231,
     "metadata": {},
     "output_type": "execute_result"
    }
   ],
   "source": [
    "((S - R)**2).sum()"
   ]
  },
  {
   "cell_type": "code",
   "execution_count": 180,
   "metadata": {},
   "outputs": [
    {
     "data": {
      "text/plain": [
       "array([[8.40264352e-04, 9.53775962e-03, 2.19816347e-02, ...,\n",
       "        4.89818660e-03, 0.00000000e+00, 3.57073801e-02],\n",
       "       [2.95356952e-03, 3.97801450e-02, 9.70125893e-02, ...,\n",
       "        5.56169336e-03, 0.00000000e+00, 2.23987925e-02],\n",
       "       [6.87431149e-03, 8.17681606e-03, 1.91362465e-02, ...,\n",
       "        2.01149381e-03, 0.00000000e+00, 1.37233650e-03],\n",
       "       ...,\n",
       "       [3.76072380e-02, 2.17582307e-02, 3.73206808e-03, ...,\n",
       "        3.44750268e-02, 0.00000000e+00, 1.05856548e-03],\n",
       "       [4.39318665e-02, 8.39499746e-03, 2.20965838e-02, ...,\n",
       "        9.72355935e-03, 0.00000000e+00, 5.09591702e-03],\n",
       "       [0.00000000e+00, 4.66961601e-03, 4.29049378e-03, ...,\n",
       "        4.59272918e-02, 0.00000000e+00, 4.42298363e-06]])"
      ]
     },
     "execution_count": 180,
     "metadata": {},
     "output_type": "execute_result"
    }
   ],
   "source": [
    "S"
   ]
  },
  {
   "cell_type": "code",
   "execution_count": 169,
   "metadata": {},
   "outputs": [
    {
     "data": {
      "text/plain": [
       "(23038,)"
      ]
     },
     "execution_count": 169,
     "metadata": {},
     "output_type": "execute_result"
    }
   ],
   "source": [
    "R.nonzero()[0].shape"
   ]
  },
  {
   "cell_type": "code",
   "execution_count": 170,
   "metadata": {},
   "outputs": [
    {
     "data": {
      "text/plain": [
       "(819157,)"
      ]
     },
     "execution_count": 170,
     "metadata": {},
     "output_type": "execute_result"
    }
   ],
   "source": [
    "S.nonzero()[0].shape"
   ]
  },
  {
   "cell_type": "code",
   "execution_count": 171,
   "metadata": {},
   "outputs": [
    {
     "data": {
      "text/plain": [
       "(0.0, 2.2746673154041654)"
      ]
     },
     "execution_count": 171,
     "metadata": {},
     "output_type": "execute_result"
    }
   ],
   "source": [
    "S.min(), S.max()"
   ]
  },
  {
   "cell_type": "code",
   "execution_count": 129,
   "metadata": {},
   "outputs": [
    {
     "data": {
      "text/plain": [
       "0.00010000274759089245"
      ]
     },
     "execution_count": 129,
     "metadata": {},
     "output_type": "execute_result"
    }
   ],
   "source": [
    "S[S>1e-4].min()"
   ]
  },
  {
   "cell_type": "code",
   "execution_count": 1,
   "metadata": {},
   "outputs": [
    {
     "data": {
      "text/plain": [
       "[<matplotlib.lines.Line2D at 0x12233ed60>]"
      ]
     },
     "execution_count": 1,
     "metadata": {},
     "output_type": "execute_result"
    },
    {
     "data": {
      "image/png": "[encoded data removed]",
      "text/plain": [
       "<Figure size 640x480 with 1 Axes>"
      ]
     },
     "metadata": {},
     "output_type": "display_data"
    }
   ],
   "source": [
    "from mf import learning_rate_scheduler\n",
    "from matplotlib import pyplot as plt\n",
    "import numpy as np\n",
    "\n",
    "it = learning_rate_scheduler(2000)\n",
    "y = list(it)\n",
    "plt.plot(np.linspace(0, 1, 2000), y)"
   ]
  },
  {
   "cell_type": "code",
   "execution_count": 5,
   "metadata": {},
   "outputs": [
    {
     "data": {
      "text/plain": [
       "0.006853230633506978"
      ]
     },
     "execution_count": 5,
     "metadata": {},
     "output_type": "execute_result"
    }
   ],
   "source": [
    "y[-1]"
   ]
  },
  {
   "cell_type": "code",
   "execution_count": 2,
   "metadata": {},
   "outputs": [
    {
     "data": {
      "text/plain": [
       "0.1353352832366127"
      ]
     },
     "execution_count": 2,
     "metadata": {},
     "output_type": "execute_result"
    }
   ],
   "source": [
    "np.exp(-2.0)"
   ]
  },
  {
   "cell_type": "code",
   "execution_count": 2,
   "metadata": {},
   "outputs": [
    {
     "data": {
      "text/plain": [
       "[0.1351,\n",
       " 0.1202,\n",
       " 0.10529999999999999,\n",
       " 0.0904,\n",
       " 0.0755,\n",
       " 0.0606,\n",
       " 0.045700000000000005,\n",
       " 0.030800000000000008,\n",
       " 0.015900000000000025,\n",
       " 0.0010000000000000286]"
      ]
     },
     "execution_count": 2,
     "metadata": {},
     "output_type": "execute_result"
    }
   ],
   "source": [
    "from mf import py_linear_scheduler\n",
    "it = py_linear_scheduler(10, 0.15, 0.001)\n",
    "list(it)"
   ]
  },
  {
   "cell_type": "code",
   "execution_count": 1,
   "metadata": {},
   "outputs": [],
   "source": [
    "from mf import linear_scheduler\n",
    "it = linear_scheduler(10, 0.1, 0.0001)\n",
    "y = list(it)"
   ]
  },
  {
   "cell_type": "code",
   "execution_count": 2,
   "metadata": {},
   "outputs": [
    {
     "data": {
      "text/plain": [
       "[0.1,\n",
       " 0.0889,\n",
       " 0.07780000000000001,\n",
       " 0.06670000000000001,\n",
       " 0.055600000000000004,\n",
       " 0.044500000000000005,\n",
       " 0.0334,\n",
       " 0.0223,\n",
       " 0.011200000000000002,\n",
       " 0.0001]"
      ]
     },
     "execution_count": 2,
     "metadata": {},
     "output_type": "execute_result"
    }
   ],
   "source": [
    "y"
   ]
  },
  {
   "cell_type": "code",
   "execution_count": 6,
   "metadata": {},
   "outputs": [],
   "source": [
    "from mf import acc_scheduler\n",
    "it = acc_scheduler(20, 0.0001, 0.1)\n",
    "y = list(it)\n"
   ]
  },
  {
   "cell_type": "code",
   "execution_count": 7,
   "metadata": {},
   "outputs": [
    {
     "data": {
      "text/plain": [
       "array([5.54969168e-06, 6.20186696e-06, 6.97617991e-06, 7.90515934e-06,\n",
       "       9.03293574e-06, 1.04205880e-05, 1.21546044e-05, 1.43607181e-05,\n",
       "       1.72274096e-05, 2.10476498e-05, 2.62970824e-05, 3.37901757e-05,\n",
       "       4.50179773e-05, 6.29569320e-05, 9.42864339e-05, 1.56748070e-04,\n",
       "       3.12019584e-04, 9.24411656e-04, 9.81335953e-02])"
      ]
     },
     "execution_count": 7,
     "metadata": {},
     "output_type": "execute_result"
    }
   ],
   "source": [
    "import numpy as np\n",
    "y = np.array(y)\n",
    "y[1:] - y[:-1]"
   ]
  },
  {
   "cell_type": "code",
   "execution_count": 10,
   "metadata": {},
   "outputs": [],
   "source": [
    "def f():\n",
    "    for i in it:\n",
    "        yield i"
   ]
  },
  {
   "cell_type": "code",
   "execution_count": 13,
   "metadata": {},
   "outputs": [
    {
     "data": {
      "text/plain": [
       "[0.1,\n",
       " 0.0889,\n",
       " 0.07780000000000001,\n",
       " 0.06670000000000001,\n",
       " 0.055600000000000004,\n",
       " 0.044500000000000005,\n",
       " 0.0334,\n",
       " 0.0223,\n",
       " 0.011200000000000002,\n",
       " 0.0001]"
      ]
     },
     "execution_count": 13,
     "metadata": {},
     "output_type": "execute_result"
    }
   ],
   "source": [
    "list(f())"
   ]
  },
  {
   "cell_type": "code",
   "execution_count": 4,
   "metadata": {},
   "outputs": [
    {
     "name": "stdout",
     "output_type": "stream",
     "text": [
      "0.1 0.0001\n"
     ]
    },
    {
     "name": "stderr",
     "output_type": "stream",
     "text": [
      "2it [00:00, 16.71it/s]"
     ]
    },
    {
     "name": "stdout",
     "output_type": "stream",
     "text": [
      "err: 2.30e+04, lr: 0.0100899\n"
     ]
    },
    {
     "name": "stderr",
     "output_type": "stream",
     "text": [
      "12it [00:00, 35.69it/s]/Users/aeirya/Documents/ir/information-retrieval-course/hw3/mf.py:23: RuntimeWarning: overflow encountered in matmul\n",
      "  e = (r - q @ p.T)\n",
      "/Users/aeirya/Documents/ir/information-retrieval-course/hw3/mf.py:23: RuntimeWarning: invalid value encountered in matmul\n",
      "  e = (r - q @ p.T)\n",
      "106it [00:02, 41.18it/s]"
     ]
    },
    {
     "name": "stdout",
     "output_type": "stream",
     "text": [
      "err: nan, lr: 0.0736104\n"
     ]
    },
    {
     "name": "stderr",
     "output_type": "stream",
     "text": [
      "122it [00:02, 42.75it/s]\n"
     ]
    },
    {
     "ename": "KeyboardInterrupt",
     "evalue": "",
     "output_type": "error",
     "traceback": [
      "\u001b[0;31m---------------------------------------------------------------------------\u001b[0m",
      "\u001b[0;31mKeyboardInterrupt\u001b[0m                         Traceback (most recent call last)",
      "Cell \u001b[0;32mIn[4], line 11\u001b[0m\n\u001b[1;32m      8\u001b[0m     errors \u001b[38;5;241m=\u001b[39m [log[\u001b[38;5;241m0\u001b[39m] \u001b[38;5;28;01mfor\u001b[39;00m log \u001b[38;5;129;01min\u001b[39;00m logs]\n\u001b[1;32m      9\u001b[0m     \u001b[38;5;28;01mreturn\u001b[39;00m errors\n\u001b[0;32m---> 11\u001b[0m q, p, err, logs \u001b[38;5;241m=\u001b[39m \u001b[43mmatrix_factorization\u001b[49m\u001b[43m(\u001b[49m\u001b[43mR\u001b[49m\u001b[43m,\u001b[49m\u001b[43m \u001b[49m\u001b[43mlr\u001b[49m\u001b[38;5;241;43m=\u001b[39;49m\u001b[43m(\u001b[49m\u001b[38;5;241;43m1e-1\u001b[39;49m\u001b[43m,\u001b[49m\u001b[38;5;241;43m1e-4\u001b[39;49m\u001b[43m)\u001b[49m\u001b[43m,\u001b[49m\u001b[43m \u001b[49m\u001b[43mn_epochs\u001b[49m\u001b[38;5;241;43m=\u001b[39;49m\u001b[38;5;241;43m900\u001b[39;49m\u001b[43m)\u001b[49m\n\u001b[1;32m     12\u001b[0m errors \u001b[38;5;241m=\u001b[39m get_errors(logs)\n\u001b[1;32m     13\u001b[0m plt\u001b[38;5;241m.\u001b[39mplot(errors)\n",
      "File \u001b[0;32m~/Documents/ir/information-retrieval-course/hw3/mf.py:64\u001b[0m, in \u001b[0;36mmatrix_factorization\u001b[0;34m(r, lr, n_epochs, reg, n_latent, log_step, print_step, eth, qp)\u001b[0m\n\u001b[1;32m     61\u001b[0m logs \u001b[38;5;241m=\u001b[39m []\n\u001b[1;32m     63\u001b[0m \u001b[38;5;28;01mfor\u001b[39;00m epoch, lr \u001b[38;5;129;01min\u001b[39;00m tqdm(iterator):\n\u001b[0;32m---> 64\u001b[0m     q, p \u001b[38;5;241m=\u001b[39m \u001b[43mupdate_pq\u001b[49m\u001b[43m(\u001b[49m\u001b[43mr\u001b[49m\u001b[43m,\u001b[49m\u001b[43m \u001b[49m\u001b[43mq\u001b[49m\u001b[43m,\u001b[49m\u001b[43m \u001b[49m\u001b[43mp\u001b[49m\u001b[43m,\u001b[49m\u001b[43m \u001b[49m\u001b[43mreg\u001b[49m\u001b[43m,\u001b[49m\u001b[43m \u001b[49m\u001b[43mlr\u001b[49m\u001b[43m)\u001b[49m\n\u001b[1;32m     66\u001b[0m     \u001b[38;5;28;01mif\u001b[39;00m epoch \u001b[38;5;241m%\u001b[39m errc_step \u001b[38;5;241m==\u001b[39m \u001b[38;5;241m0\u001b[39m:\n\u001b[1;32m     67\u001b[0m         err \u001b[38;5;241m=\u001b[39m loss(r, q, p, reg)\n",
      "File \u001b[0;32m~/Documents/ir/information-retrieval-course/hw3/mf.py:25\u001b[0m, in \u001b[0;36mupdate_pq\u001b[0;34m(r, q, p, reg, lr)\u001b[0m\n\u001b[1;32m     23\u001b[0m e \u001b[38;5;241m=\u001b[39m (r \u001b[38;5;241m-\u001b[39m q \u001b[38;5;241m@\u001b[39m p\u001b[38;5;241m.\u001b[39mT)\n\u001b[1;32m     24\u001b[0m qq \u001b[38;5;241m=\u001b[39m q \u001b[38;5;241m+\u001b[39m lr \u001b[38;5;241m*\u001b[39m (\u001b[38;5;241m2\u001b[39m \u001b[38;5;241m*\u001b[39m e \u001b[38;5;241m@\u001b[39m p \u001b[38;5;241m-\u001b[39m reg\u001b[38;5;241m*\u001b[39mq)\n\u001b[0;32m---> 25\u001b[0m pp \u001b[38;5;241m=\u001b[39m p \u001b[38;5;241m+\u001b[39m lr \u001b[38;5;241m*\u001b[39m (\u001b[38;5;241;43m2\u001b[39;49m\u001b[43m \u001b[49m\u001b[38;5;241;43m*\u001b[39;49m\u001b[43m \u001b[49m\u001b[43me\u001b[49m\u001b[38;5;241;43m.\u001b[39;49m\u001b[43mT\u001b[49m \u001b[38;5;241m@\u001b[39m q \u001b[38;5;241m-\u001b[39m reg\u001b[38;5;241m*\u001b[39mp)\n\u001b[1;32m     27\u001b[0m \u001b[38;5;28;01mreturn\u001b[39;00m qq, pp\n",
      "\u001b[0;31mKeyboardInterrupt\u001b[0m: "
     ]
    }
   ],
   "source": [
    "from data_reader import read_interaction_matrix\n",
    "R = read_interaction_matrix()\n",
    "\n",
    "from mf import matrix_factorization\n",
    "from matplotlib import pyplot as plt\n",
    "\n",
    "def get_errors(logs):\n",
    "    errors = [log[0] for log in logs]\n",
    "    return errors\n",
    "\n",
    "q, p, err, logs = matrix_factorization(R, lr=(1e-2,1e-4), n_epochs=2000)\n",
    "errors = get_errors(logs)\n",
    "plt.plot(errors)"
   ]
  },
  {
   "cell_type": "code",
   "execution_count": 3,
   "metadata": {},
   "outputs": [
    {
     "data": {
      "text/plain": [
       "['0.034', '0.011', '0.023', '-0.591', '1.610']"
      ]
     },
     "execution_count": 3,
     "metadata": {},
     "output_type": "execute_result"
    }
   ],
   "source": [
    "S = (q@p.T)\n",
    "\n",
    "def f(f):\n",
    "    i = 5\n",
    "    i += 1 if f < 0 else 0\n",
    "    return str(f)[:i]\n",
    "\n",
    "[f(x) for x in [S[0,6], S[0,7], S.mean(), S.min(), S.max()]]"
   ]
  },
  {
   "cell_type": "code",
   "execution_count": 9,
   "metadata": {},
   "outputs": [
    {
     "name": "stdout",
     "output_type": "stream",
     "text": [
      "HI\n"
     ]
    }
   ],
   "source": [
    "import numpy as np\n",
    "\n",
    "def gen():\n",
    "    yield \"HI\"\n",
    "    return np.arange(10)\n",
    "\n",
    "for i in gen():\n",
    "    print(i)"
   ]
  },
  {
   "cell_type": "code",
   "execution_count": 4,
   "metadata": {},
   "outputs": [],
   "source": [
    "from mf import init_pq\n",
    "\n",
    "q, p = init_pq(*R.shape, 64)"
   ]
  },
  {
   "cell_type": "code",
   "execution_count": 13,
   "metadata": {},
   "outputs": [
    {
     "data": {
      "text/plain": [
       "0.0"
      ]
     },
     "execution_count": 13,
     "metadata": {},
     "output_type": "execute_result"
    }
   ],
   "source": [
    "R[0, 6]"
   ]
  },
  {
   "cell_type": "code",
   "execution_count": 5,
   "metadata": {},
   "outputs": [
    {
     "data": {
      "text/plain": [
       "(0.29038511840798553, 0.015625)"
      ]
     },
     "execution_count": 5,
     "metadata": {},
     "output_type": "execute_result"
    }
   ],
   "source": [
    "q.max(), 1/64"
   ]
  },
  {
   "cell_type": "code",
   "execution_count": 8,
   "metadata": {},
   "outputs": [
    {
     "data": {
      "text/plain": [
       "17.192537313432837"
      ]
     },
     "execution_count": 8,
     "metadata": {},
     "output_type": "execute_result"
    }
   ],
   "source": [
    "(R.mean(axis=1) * 733).mean()"
   ]
  },
  {
   "cell_type": "code",
   "execution_count": 24,
   "metadata": {},
   "outputs": [
    {
     "data": {
      "text/plain": [
       "(1340, 733)"
      ]
     },
     "execution_count": 24,
     "metadata": {},
     "output_type": "execute_result"
    }
   ],
   "source": [
    "R.shape"
   ]
  },
  {
   "cell_type": "code",
   "execution_count": 30,
   "metadata": {},
   "outputs": [],
   "source": [
    "import numpy as np\n",
    "a = np.arange(25).reshape((5,5))"
   ]
  },
  {
   "cell_type": "code",
   "execution_count": 31,
   "metadata": {},
   "outputs": [
    {
     "data": {
      "text/plain": [
       "array([[ 0,  1,  2,  3,  4],\n",
       "       [ 5,  6,  7,  8,  9],\n",
       "       [10, 11, 12, 13, 14],\n",
       "       [15, 16, 17, 18, 19],\n",
       "       [20, 21, 22, 23, 24]])"
      ]
     },
     "execution_count": 31,
     "metadata": {},
     "output_type": "execute_result"
    }
   ],
   "source": [
    "a"
   ]
  },
  {
   "cell_type": "code",
   "execution_count": 45,
   "metadata": {},
   "outputs": [
    {
     "data": {
      "text/plain": [
       "array([[12, 22],\n",
       "       [13, 23],\n",
       "       [11, 21]])"
      ]
     },
     "execution_count": 45,
     "metadata": {},
     "output_type": "execute_result"
    }
   ],
   "source": [
    "a[np.array([2,4])[:, None], [2,3,1]]"
   ]
  },
  {
   "cell_type": "code",
   "execution_count": 18,
   "metadata": {},
   "outputs": [
    {
     "data": {
      "text/plain": [
       "(23038,)"
      ]
     },
     "execution_count": 18,
     "metadata": {},
     "output_type": "execute_result"
    }
   ],
   "source": [
    "R[R.nonzero()].shape"
   ]
  },
  {
   "cell_type": "code",
   "execution_count": null,
   "metadata": {},
   "outputs": [],
   "source": []
  }
 ],
 "metadata": {
  "kernelspec": {
   "display_name": "Python 3",
   "language": "python",
   "name": "python3"
  },
  "language_info": {
   "codemirror_mode": {
    "name": "ipython",
    "version": 3
   },
   "file_extension": ".py",
   "mimetype": "text/x-python",
   "name": "python",
   "nbconvert_exporter": "python",
   "pygments_lexer": "ipython3",
   "version": "3.9.6"
  }
 },
 "nbformat": 4,
 "nbformat_minor": 2
}
