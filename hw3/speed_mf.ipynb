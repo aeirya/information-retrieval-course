{
 "cells": [
  {
   "cell_type": "code",
   "execution_count": 4,
   "metadata": {},
   "outputs": [],
   "source": [
    "import pandas as pd\n",
    "import numpy as np\n",
    "import torch\n",
    "from data_reader import read_interaction_matrix\n",
    "R = read_interaction_matrix()\n",
    "from tqdm import tqdm\n",
    "\n",
    "n_users, n_items = R.shape\n",
    "n_latent = 64\n",
    "r = 0.001\n",
    "\n",
    "# learning rate\n",
    "INIT_LR = 0.05\n",
    "END_LR = 0.0001\n",
    "n_epochs = 750\n",
    "\n",
    "# error check steps\n",
    "erc_step = 100\n",
    "# min error threshold\n",
    "eth = 1e-4\n",
    "\n",
    "rng = np.random.default_rng(seed=1234)\n",
    "scale = 1./n_latent\n",
    "Q0 = rng.normal(scale=scale, size=(n_users, n_latent))\n",
    "P0 = rng.normal(scale=scale, size=(n_items, n_latent))\n",
    "\n",
    "def E(R, P, Q):\n",
    "    return np.abs(R - Q@P.T).sum() + r*((Q*Q).sum() + (P*P).sum())\n",
    "\n",
    "def LR(epoch, warmup):\n",
    "    s = warmup / n_epochs\n",
    "    x = (epoch - n_epochs)/n_epochs\n",
    "    \n",
    "    if epoch >= warmup:\n",
    "        x = x - s\n",
    "        y = ((1 + x))\n",
    "        \n",
    "        # y = (n_epochs*(s-1) + 1/(1 - s))*x + n_epochs*(1-s)\n",
    "        # y = y * n_epochs / (n_epochs - s*n_epochs)\n",
    "    else:\n",
    "        x += 1\n",
    "        y = (-2./s)*(x**2) + 2*s\n",
    "        \n",
    "    # f = lambda e : ((e/n_epochs)) * (((e/5 + (1-stop_warmup)*n_epochs)/n_epochs)**5)\n",
    "    # y = f(2/3*n_epochs + (-n_epochs + epoch)*3.)\n",
    "    # if epoch < stop_warmup:\n",
    "    #     x *= ((-epoch + stop_warmup//2)*3/n_epochs)**3\n",
    "    #     if epoch % 20 == 0:\n",
    "    #         print(\"warmup\")\n",
    "    # z = lambda x : (x - 1/3)**(0.3) * np.exp(-x**(0.8))\n",
    "    \n",
    "    lr = INIT_LR - (INIT_LR-END_LR) * y\n",
    "    return lr\n"
   ]
  },
  {
   "cell_type": "code",
   "execution_count": 1,
   "metadata": {},
   "outputs": [
    {
     "name": "stderr",
     "output_type": "stream",
     "text": [
      "9it [00:00, 43.50it/s]"
     ]
    },
    {
     "name": "stdout",
     "output_type": "stream",
     "text": [
      "err: 2.30e+04, lr: 0.0065000, batch: 2000\n"
     ]
    },
    {
     "name": "stderr",
     "output_type": "stream",
     "text": [
      "98it [00:02, 57.31it/s]"
     ]
    },
    {
     "name": "stdout",
     "output_type": "stream",
     "text": [
      "err: 1.30e+04, lr: 0.0164783, batch: 500\n"
     ]
    },
    {
     "name": "stderr",
     "output_type": "stream",
     "text": [
      "201it [00:37,  2.89it/s]"
     ]
    },
    {
     "name": "stdout",
     "output_type": "stream",
     "text": [
      "err: 1.30e+04, lr: 0.0135261, batch: 300\n"
     ]
    },
    {
     "name": "stderr",
     "output_type": "stream",
     "text": [
      "301it [01:07,  3.18it/s]"
     ]
    },
    {
     "name": "stdout",
     "output_type": "stream",
     "text": [
      "err: 1.23e+04, lr: 0.0113332, batch: 100\n"
     ]
    },
    {
     "name": "stderr",
     "output_type": "stream",
     "text": [
      "402it [01:34, 13.56it/s]"
     ]
    },
    {
     "name": "stdout",
     "output_type": "stream",
     "text": [
      "err: 1.12e+04, lr: 0.0097043, batch: 50\n"
     ]
    },
    {
     "name": "stderr",
     "output_type": "stream",
     "text": [
      "502it [01:41, 12.80it/s]"
     ]
    },
    {
     "name": "stdout",
     "output_type": "stream",
     "text": [
      "err: 9.58e+03, lr: 0.0084944, batch: 25\n"
     ]
    },
    {
     "name": "stderr",
     "output_type": "stream",
     "text": [
      "602it [01:49, 11.81it/s]"
     ]
    },
    {
     "name": "stdout",
     "output_type": "stream",
     "text": [
      "err: 7.81e+03, lr: 0.0075956, batch: 15\n"
     ]
    },
    {
     "name": "stderr",
     "output_type": "stream",
     "text": [
      "701it [01:59, 10.72it/s]"
     ]
    },
    {
     "name": "stdout",
     "output_type": "stream",
     "text": [
      "err: 6.24e+03, lr: 0.0069280, batch: 10\n"
     ]
    },
    {
     "name": "stderr",
     "output_type": "stream",
     "text": [
      "801it [02:16,  4.56it/s]"
     ]
    },
    {
     "name": "stdout",
     "output_type": "stream",
     "text": [
      "err: 3.20e+03, lr: 0.0064321, batch: 4\n"
     ]
    },
    {
     "name": "stderr",
     "output_type": "stream",
     "text": [
      "901it [02:38,  3.79it/s]"
     ]
    },
    {
     "name": "stdout",
     "output_type": "stream",
     "text": [
      "err: 2.20e+03, lr: 0.0060638, batch: 2\n"
     ]
    },
    {
     "name": "stderr",
     "output_type": "stream",
     "text": [
      "1001it [03:26,  1.80it/s]"
     ]
    },
    {
     "name": "stdout",
     "output_type": "stream",
     "text": [
      "err: 1.99e+02, lr: 0.0057902, batch: 1\n"
     ]
    },
    {
     "name": "stderr",
     "output_type": "stream",
     "text": [
      "1020it [03:37,  4.70it/s]\n"
     ]
    },
    {
     "data": {
      "text/plain": [
       "[<matplotlib.lines.Line2D at 0x14a0a2fd0>]"
      ]
     },
     "execution_count": 1,
     "metadata": {},
     "output_type": "execute_result"
    },
    {
     "data": {
      "image/png": "[encoded data removed]",
      "text/plain": [
       "<Figure size 640x480 with 1 Axes>"
      ]
     },
     "metadata": {},
     "output_type": "display_data"
    }
   ],
   "source": [
    "from data_reader import read_interaction_matrix\n",
    "R = read_interaction_matrix()\n",
    "\n",
    "from mf import matrix_factorization\n",
    "from matplotlib import pyplot as plt\n",
    "\n",
    "def get_errors(logs):\n",
    "    errors = [log[0] for log in logs]\n",
    "    return errors\n",
    "\n",
    "q, p, err, logs = matrix_factorization(R, lr=(2e-2, 5e-3), n_epochs=1020, reg=0.001, n_latent=64, log_step=10)\n",
    "errors = get_errors(logs)\n",
    "plt.plot(errors)"
   ]
  },
  {
   "cell_type": "code",
   "execution_count": 2,
   "metadata": {},
   "outputs": [
    {
     "data": {
      "text/plain": [
       "(101924.41788753596, 23038.0)"
      ]
     },
     "execution_count": 2,
     "metadata": {},
     "output_type": "execute_result"
    }
   ],
   "source": [
    "import numpy as np\n",
    "S = (q @ p.T)\n",
    "S.sum(), R.sum()"
   ]
  },
  {
   "cell_type": "code",
   "execution_count": 4,
   "metadata": {},
   "outputs": [
    {
     "ename": "IndexError",
     "evalue": "list index out of range",
     "output_type": "error",
     "traceback": [
      "\u001b[0;31m---------------------------------------------------------------------------\u001b[0m",
      "\u001b[0;31mIndexError\u001b[0m                                Traceback (most recent call last)",
      "Cell \u001b[0;32mIn[4], line 1\u001b[0m\n\u001b[0;32m----> 1\u001b[0m \u001b[43mlogs\u001b[49m\u001b[43m[\u001b[49m\u001b[38;5;241;43m200\u001b[39;49m\u001b[43m]\u001b[49m[\u001b[38;5;241m1\u001b[39m], logs[\u001b[38;5;241m100\u001b[39m][\u001b[38;5;241m1\u001b[39m]\n",
      "\u001b[0;31mIndexError\u001b[0m: list index out of range"
     ]
    }
   ],
   "source": [
    "logs[200][1], logs[100][1]"
   ]
  },
  {
   "cell_type": "code",
   "execution_count": 3,
   "metadata": {},
   "outputs": [
    {
     "data": {
      "text/plain": [
       "array([1.00325206, 1.01278561, 1.00248923, ..., 0.99574944, 0.99619719,\n",
       "       1.05071509])"
      ]
     },
     "execution_count": 3,
     "metadata": {},
     "output_type": "execute_result"
    }
   ],
   "source": [
    "S[R.nonzero()]"
   ]
  },
  {
   "cell_type": "code",
   "execution_count": 5,
   "metadata": {},
   "outputs": [
    {
     "name": "stdout",
     "output_type": "stream",
     "text": [
      "185.83854290118632\n"
     ]
    }
   ],
   "source": [
    "from mf import error\n",
    "\n",
    "print(error(R, q, p, 0.001))"
   ]
  },
  {
   "cell_type": "code",
   "execution_count": 12,
   "metadata": {},
   "outputs": [
    {
     "data": {
      "text/plain": [
       "'mean: 0.103, min: -1.138, max: 1.428'"
      ]
     },
     "execution_count": 12,
     "metadata": {},
     "output_type": "execute_result"
    }
   ],
   "source": [
    "S = (q@p.T)\n",
    "\n",
    "def frmt(f):\n",
    "    i = 5\n",
    "    i += 1 if f < 0 else 0\n",
    "    return str(f)[:i]\n",
    "\n",
    "def describe(M):\n",
    "    return f'mean: {frmt(M.mean())}, min: {frmt(M.min())}, max: {frmt(M.max())}'\n",
    "\n",
    "describe(S)"
   ]
  },
  {
   "cell_type": "code",
   "execution_count": 54,
   "metadata": {},
   "outputs": [
    {
     "data": {
      "image/png": "[encoded data removed]",
      "text/plain": [
       "<Figure size 640x480 with 1 Axes>"
      ]
     },
     "metadata": {},
     "output_type": "display_data"
    }
   ],
   "source": [
    "from mf import heatmap\n",
    "FP = np.zeros_like(S)\n",
    "FP[S > S.max() * 0.5] = -1\n",
    "FP[R.nonzero()] = 1\n",
    "\n",
    "P = S * R\n",
    "Z = S - (S * R)\n",
    "\n",
    "D = np.zeros((P.shape[0], 1))\n",
    "D[:,0] = 0.5\n",
    "\n",
    "t = tuple(M[0:30, 0:min(10, M.shape[1])] for M in (R, D, S, D, P, D, Z, D, FP))\n",
    "V = np.concatenate(t, axis=1)\n",
    "heatmap(V)"
   ]
  },
  {
   "cell_type": "code",
   "execution_count": 44,
   "metadata": {},
   "outputs": [
    {
     "data": {
      "text/plain": [
       "array([[1.13821742, 1.13821742, 1.13821742, ..., 1.14286188, 1.04048144,\n",
       "        1.13418668],\n",
       "       [1.13821742, 1.13821742, 1.13821742, ..., 1.09039014, 1.10019642,\n",
       "        1.05459227],\n",
       "       [1.13821742, 1.13821742, 1.13821742, ..., 0.94773432, 1.17630989,\n",
       "        1.24039073],\n",
       "       ...,\n",
       "       [1.13821742, 1.13821742, 1.13821742, ..., 1.01200108, 1.11326779,\n",
       "        1.08002204],\n",
       "       [1.13821742, 1.13821742, 1.13821742, ..., 1.52526531, 1.16479716,\n",
       "        1.01306436],\n",
       "       [1.13821742, 1.13821742, 1.13821742, ..., 1.31523295, 1.07849042,\n",
       "        1.12636972]])"
      ]
     },
     "execution_count": 44,
     "metadata": {},
     "output_type": "execute_result"
    }
   ],
   "source": [
    "V - V.min()"
   ]
  },
  {
   "cell_type": "code",
   "execution_count": 29,
   "metadata": {},
   "outputs": [
    {
     "data": {
      "text/plain": [
       "4"
      ]
     },
     "execution_count": 29,
     "metadata": {},
     "output_type": "execute_result"
    }
   ],
   "source": [
    "len(t)"
   ]
  },
  {
   "cell_type": "code",
   "execution_count": 27,
   "metadata": {},
   "outputs": [
    {
     "data": {
      "text/plain": [
       "array([[-0.        ,  0.        ,  0.        , -0.        , -0.        ,\n",
       "        -0.        , -0.        , -0.        , -0.        , -0.        ],\n",
       "       [ 0.        ,  0.        ,  0.        ,  0.        , -0.        ,\n",
       "         0.        , -0.        , -0.        , -0.        ,  0.        ],\n",
       "       [-0.        , -0.        , -0.        ,  0.        ,  0.        ,\n",
       "         0.        ,  0.        ,  0.        , -0.        ,  0.        ],\n",
       "       [ 0.        ,  0.        ,  0.        , -0.        , -0.        ,\n",
       "         0.        , -0.        ,  0.        , -0.        , -0.        ],\n",
       "       [ 0.        ,  0.        ,  0.        ,  0.        , -0.        ,\n",
       "        -0.        ,  0.        , -0.        ,  0.        ,  0.        ],\n",
       "       [-0.        ,  0.        ,  0.        ,  0.        ,  0.        ,\n",
       "        -0.        ,  0.        , -0.        ,  0.        , -0.        ],\n",
       "       [-0.        ,  0.        ,  0.        , -0.        , -0.        ,\n",
       "        -0.        ,  0.        , -0.        ,  0.        , -0.        ],\n",
       "       [ 0.        , -0.        , -0.        , -0.        ,  0.        ,\n",
       "        -0.        ,  1.02234014, -0.        ,  0.97440563, -0.        ],\n",
       "       [-0.        ,  0.        ,  0.        ,  0.        , -0.        ,\n",
       "         0.        ,  0.        , -0.        ,  0.        ,  0.        ],\n",
       "       [-0.        , -0.        , -0.        , -0.        ,  0.        ,\n",
       "        -0.        ,  0.        ,  0.        , -0.        , -0.        ],\n",
       "       [-0.        , -0.        ,  0.        ,  0.        ,  0.        ,\n",
       "         0.        ,  0.        ,  0.        , -0.        , -0.        ],\n",
       "       [-0.        ,  0.        ,  0.        ,  0.        , -0.        ,\n",
       "        -0.        , -0.        , -0.        ,  0.        ,  0.        ],\n",
       "       [ 0.        ,  0.        , -0.        , -0.        , -0.        ,\n",
       "         0.        ,  0.        , -0.        ,  0.        , -0.        ],\n",
       "       [-0.        ,  0.        ,  0.        , -0.        , -0.        ,\n",
       "         0.        , -0.        , -0.        ,  0.        , -0.        ],\n",
       "       [-0.        ,  0.        , -0.        ,  0.        ,  0.        ,\n",
       "        -0.        ,  0.        , -0.        ,  0.        , -0.        ],\n",
       "       [-0.        , -0.        ,  0.        ,  0.        ,  1.00561964,\n",
       "        -0.        ,  0.        ,  0.        ,  0.        ,  0.        ],\n",
       "       [-0.        ,  0.        ,  0.        ,  0.        ,  0.        ,\n",
       "        -0.        ,  0.        , -0.        ,  0.        ,  0.        ],\n",
       "       [-0.        ,  0.        , -0.        ,  0.        ,  0.        ,\n",
       "         0.        ,  0.        ,  0.        ,  0.        , -0.        ],\n",
       "       [-0.        , -0.        ,  0.        ,  0.        , -0.        ,\n",
       "        -0.        ,  0.        , -0.        ,  0.        , -0.        ],\n",
       "       [ 0.        ,  0.        ,  0.        , -0.        , -0.        ,\n",
       "         0.        ,  0.        , -0.        ,  0.        , -0.        ],\n",
       "       [-0.        , -0.        ,  0.        , -0.        ,  0.        ,\n",
       "        -0.        , -0.        ,  0.        ,  0.        ,  0.        ],\n",
       "       [ 0.        , -0.        ,  0.        ,  0.        ,  0.        ,\n",
       "         0.        ,  0.97840706,  0.        ,  0.        , -0.        ],\n",
       "       [-0.        , -0.        ,  0.        ,  0.        ,  1.00340245,\n",
       "        -0.        ,  0.        ,  0.        ,  0.        ,  0.        ],\n",
       "       [-0.        , -0.        , -0.        , -0.        , -0.        ,\n",
       "         0.        ,  0.        , -0.        ,  0.        ,  0.        ],\n",
       "       [ 0.        ,  0.        ,  0.        ,  0.        , -0.        ,\n",
       "         0.        , -0.        , -0.        ,  0.        ,  0.        ],\n",
       "       [ 0.        ,  0.        ,  0.        ,  0.        ,  0.        ,\n",
       "        -0.        ,  0.        , -0.        ,  0.        ,  0.        ],\n",
       "       [ 0.        , -0.        ,  0.        , -0.        , -0.        ,\n",
       "         0.        , -0.        , -0.        ,  0.        , -0.        ],\n",
       "       [ 0.        ,  0.        , -0.        , -0.        ,  0.        ,\n",
       "         0.        ,  0.        , -0.        ,  0.        ,  0.        ],\n",
       "       [ 0.99855582,  0.        ,  0.        ,  0.        , -0.        ,\n",
       "         0.        ,  0.        ,  0.        , -0.        , -0.        ],\n",
       "       [ 0.        , -0.        , -0.        ,  0.        ,  0.        ,\n",
       "         0.        , -0.        ,  0.        , -0.        ,  0.        ]])"
      ]
     },
     "execution_count": 27,
     "metadata": {},
     "output_type": "execute_result"
    }
   ],
   "source": [
    "t[3]"
   ]
  },
  {
   "cell_type": "code",
   "execution_count": 11,
   "metadata": {},
   "outputs": [
    {
     "data": {
      "text/plain": [
       "(0.7773755765474227, -1.1382174152854598)"
      ]
     },
     "execution_count": 11,
     "metadata": {},
     "output_type": "execute_result"
    }
   ],
   "source": [
    "S[R.nonzero()].max(), (S - S * R).max()"
   ]
  },
  {
   "cell_type": "code",
   "execution_count": 4,
   "metadata": {},
   "outputs": [],
   "source": [
    "from mf import init_pq\n",
    "\n",
    "q, p = init_pq(*R.shape, 64)"
   ]
  }
 ],
 "metadata": {
  "kernelspec": {
   "display_name": "Python 3",
   "language": "python",
   "name": "python3"
  },
  "language_info": {
   "codemirror_mode": {
    "name": "ipython",
    "version": 3
   },
   "file_extension": ".py",
   "mimetype": "text/x-python",
   "name": "python",
   "nbconvert_exporter": "python",
   "pygments_lexer": "ipython3",
   "version": "3.9.6"
  }
 },
 "nbformat": 4,
 "nbformat_minor": 2
}
