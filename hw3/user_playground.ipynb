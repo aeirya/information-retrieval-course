{
 "cells": [
  {
   "cell_type": "code",
   "execution_count": 2,
   "metadata": {},
   "outputs": [
    {
     "data": {
      "text/html": [
       "<div>\n",
       "<style scoped>\n",
       "    .dataframe tbody tr th:only-of-type {\n",
       "        vertical-align: middle;\n",
       "    }\n",
       "\n",
       "    .dataframe tbody tr th {\n",
       "        vertical-align: top;\n",
       "    }\n",
       "\n",
       "    .dataframe thead th {\n",
       "        text-align: right;\n",
       "    }\n",
       "</style>\n",
       "<table border=\"1\" class=\"dataframe\">\n",
       "  <thead>\n",
       "    <tr style=\"text-align: right;\">\n",
       "      <th></th>\n",
       "      <th>user_id</th>\n",
       "      <th>item_id</th>\n",
       "      <th>rate</th>\n",
       "      <th>review_text</th>\n",
       "    </tr>\n",
       "  </thead>\n",
       "  <tbody>\n",
       "    <tr>\n",
       "      <th>0</th>\n",
       "      <td>A35HOUWHAYZZN6</td>\n",
       "      <td>B00JF3RYPM</td>\n",
       "      <td>1</td>\n",
       "      <td>This lotion gently moisturizes without irritat...</td>\n",
       "    </tr>\n",
       "    <tr>\n",
       "      <th>1</th>\n",
       "      <td>A1DGB6HY5C7LXU</td>\n",
       "      <td>B00KLA4INE</td>\n",
       "      <td>1</td>\n",
       "      <td>I've been doing some research into non-surgica...</td>\n",
       "    </tr>\n",
       "    <tr>\n",
       "      <th>2</th>\n",
       "      <td>A3EPHBMU07LZ50</td>\n",
       "      <td>B00CBD0M8Y</td>\n",
       "      <td>1</td>\n",
       "      <td>I could not detectably notice much difference ...</td>\n",
       "    </tr>\n",
       "    <tr>\n",
       "      <th>3</th>\n",
       "      <td>A1WSQ0QRWQC7VI</td>\n",
       "      <td>B001FSK8SA</td>\n",
       "      <td>1</td>\n",
       "      <td>arived just in time for xmas so i used it as a...</td>\n",
       "    </tr>\n",
       "    <tr>\n",
       "      <th>4</th>\n",
       "      <td>A2SZLNSI5KOQJT</td>\n",
       "      <td>B00D18ZDM8</td>\n",
       "      <td>1</td>\n",
       "      <td>In my opinion, the Bic Soleil Shave &amp; Trim Sha...</td>\n",
       "    </tr>\n",
       "  </tbody>\n",
       "</table>\n",
       "</div>"
      ],
      "text/plain": [
       "          user_id     item_id  rate  \\\n",
       "0  A35HOUWHAYZZN6  B00JF3RYPM     1   \n",
       "1  A1DGB6HY5C7LXU  B00KLA4INE     1   \n",
       "2  A3EPHBMU07LZ50  B00CBD0M8Y     1   \n",
       "3  A1WSQ0QRWQC7VI  B001FSK8SA     1   \n",
       "4  A2SZLNSI5KOQJT  B00D18ZDM8     1   \n",
       "\n",
       "                                         review_text  \n",
       "0  This lotion gently moisturizes without irritat...  \n",
       "1  I've been doing some research into non-surgica...  \n",
       "2  I could not detectably notice much difference ...  \n",
       "3  arived just in time for xmas so i used it as a...  \n",
       "4  In my opinion, the Bic Soleil Shave & Trim Sha...  "
      ]
     },
     "execution_count": 2,
     "metadata": {},
     "output_type": "execute_result"
    }
   ],
   "source": [
    "import pandas as pd\n",
    "import numpy as np\n",
    "from data_reader import read_df\n",
    "\n",
    "df = read_df('test')\n",
    "df.head()"
   ]
  },
  {
   "cell_type": "code",
   "execution_count": 3,
   "metadata": {},
   "outputs": [
    {
     "data": {
      "text/plain": [
       "['B001OMI93S', 'B00AE07GX0', 'B00AE07FQI', 'B00CBD0M8Y']"
      ]
     },
     "execution_count": 3,
     "metadata": {},
     "output_type": "execute_result"
    }
   ],
   "source": [
    "users = set(df['user_id'])\n",
    "fav = {u:df[df['user_id']==u]['item_id'].tolist()[::-1] for u in users}\n",
    "golds = {u:list(enumerate(fav[u])) for u in users}\n",
    "\n",
    "u = 'A3EPHBMU07LZ50'\n",
    "fav[u]"
   ]
  },
  {
   "cell_type": "code",
   "execution_count": 12,
   "metadata": {},
   "outputs": [
    {
     "data": {
      "text/plain": [
       "['B001OMI93S', 'B00AE07GX0', 'B00AE07FQI', 'B00CBD0M8Y']"
      ]
     },
     "execution_count": 12,
     "metadata": {},
     "output_type": "execute_result"
    }
   ],
   "source": [
    "def user_favorites(df):\n",
    "    return dict([(user, group.tolist()[::-1]) for user, group in df.groupby('user_id')['item_id']])\n",
    "\n",
    "fav = user_favorites(df)"
   ]
  },
  {
   "cell_type": "code",
   "execution_count": 9,
   "metadata": {},
   "outputs": [],
   "source": [
    "def recall(gold, sorting):\n",
    "    best = sorting[:20]\n",
    "    return len(set(best).intersection(gold)) / len(gold)\n",
    "\n",
    "def test_sorting():\n",
    "    user = 'A2G04D4QZAXL15'\n",
    "    items = fav[user] + fav['A3JT29L4YFEIMJ']\n",
    "    np.random.shuffle(items)\n",
    "    i = items[0:5]\n",
    "    return fav[user], i\n",
    "\n",
    "def rc_test():\n",
    "    user, i = test_sorting()\n",
    "    fav[user], i, recall(fav[user], i)"
   ]
  },
  {
   "cell_type": "code",
   "execution_count": 10,
   "metadata": {},
   "outputs": [],
   "source": [
    "def dcg(gold, sorting, return_values=False, p=20):\n",
    "    best = sorting[:p]\n",
    "\n",
    "    # relevance\n",
    "    rel = [int(item in gold) for item in best][:p]\n",
    "    rel = np.array(rel) / np.hstack((1, np.log(2 + np.arange(len(rel)-1),)/np.log(2)))\n",
    "    \n",
    "    score = rel.sum()\n",
    "    return (score, rel.cumsum()) if return_values else score\n",
    "\n",
    "def ndcg(gold, sorting, return_values=False):\n",
    "    _, ideal = dcg(gold, gold, return_values=True)\n",
    "    _, rel = dcg(gold, sorting, return_values=True)\n",
    "    ndcg = (rel/ideal)\n",
    "\n",
    "    return ndcg.sum() if not return_values else (ndcg.sum(), ndcg)\n",
    "\n",
    "def ndcg_test():\n",
    "    ex = [3, 2, 3, 0, 0, 1, 2, 2, 3, 0]\n",
    "    fav_ex = sorted(ex, reverse=True)\n",
    "    print('DCG', dcg(fav_ex, ex, return_values=True)[1])\n",
    "    print('NDCG', ndcg(fav_ex, ex, True)[1])\n",
    "    sc, rel = dcg(*test_sorting(), True)\n",
    "    return sc, rel"
   ]
  },
  {
   "cell_type": "code",
   "execution_count": 61,
   "metadata": {},
   "outputs": [],
   "source": [
    "def rank_correlation_fn(gold, rank_fn):\n",
    "    n = len(gold)\n",
    "\n",
    "    a = np.arange(n) + 1\n",
    "    b = np.array([rank_fn(item) for item in gold])\n",
    "\n",
    "    # spearman\n",
    "    return 1 - 6*(b - a)**2 / n / (n**2 - 1)\n",
    "\n",
    "# def test_rank_correlation\n",
    "\n",
    "def rank_correlation(gold, ranked):\n",
    "    n = len(gold)\n",
    "\n",
    "    a = np.arange(n) + 1\n",
    "    b = np.array(ranked)\n",
    "\n",
    "    # spearman\n",
    "    return 1 - (6*(b - a)**2 / n / (n**2 - 1)).sum()\n",
    "\n",
    "def extract_rank(gold, retrieved):\n",
    "    n = len(gold)\n",
    "    return [np.argwhere(gold[i] == retrieved)[0][0]+1 for i in range(n)]\n",
    "\n"
   ]
  },
  {
   "cell_type": "code",
   "execution_count": 12,
   "metadata": {},
   "outputs": [],
   "source": [
    "ex = [3, 2, 3, 0, 0, 1, 2, 2, 3, 0]\n",
    "gold = sorted(ex, reverse=True)"
   ]
  },
  {
   "cell_type": "code",
   "execution_count": 27,
   "metadata": {},
   "outputs": [],
   "source": [
    "def calc_gamma():\n",
    "    import numpy as np\n",
    "\n",
    "    def dm(a):\n",
    "        a = np.array(a)\n",
    "        n = len(a)\n",
    "        A = np.zeros((n, n))\n",
    "        for i in range(n):\n",
    "            A[i, :] = a - a[i]\n",
    "        return A\n",
    "\n",
    "    A, B = dm(ex), dm(gold)\n",
    "    gamma = lambda A,B: (A*B).sum() / np.sqrt((A*A).sum() * (B*B).sum())\n",
    "\n",
    "    return gamma"
   ]
  },
  {
   "cell_type": "code",
   "execution_count": 35,
   "metadata": {},
   "outputs": [],
   "source": [
    "ts = test_sorting()[1]\n"
   ]
  },
  {
   "cell_type": "code",
   "execution_count": 38,
   "metadata": {},
   "outputs": [],
   "source": [
    "st = ts[:]\n",
    "np.random.shuffle(st)"
   ]
  },
  {
   "cell_type": "code",
   "execution_count": 45,
   "metadata": {},
   "outputs": [],
   "source": [
    "st = np.array(st)\n",
    "ts = np.array(ts)"
   ]
  },
  {
   "cell_type": "code",
   "execution_count": 64,
   "metadata": {},
   "outputs": [
    {
     "data": {
      "text/plain": [
       "0.29999999999999993"
      ]
     },
     "execution_count": 64,
     "metadata": {},
     "output_type": "execute_result"
    }
   ],
   "source": [
    "rank_correlation(ts, extract_rank(ts, st))"
   ]
  },
  {
   "cell_type": "code",
   "execution_count": 59,
   "metadata": {},
   "outputs": [
    {
     "data": {
      "text/plain": [
       "array(['B0098JU8T2', 'B005HIHD2I', 'B00AE0790U', 'B005TI7NQW',\n",
       "       'B00HB2JQNM'], dtype='<U10')"
      ]
     },
     "execution_count": 59,
     "metadata": {},
     "output_type": "execute_result"
    }
   ],
   "source": [
    "ts"
   ]
  },
  {
   "cell_type": "code",
   "execution_count": null,
   "metadata": {},
   "outputs": [],
   "source": []
  }
 ],
 "metadata": {
  "kernelspec": {
   "display_name": "Python 3",
   "language": "python",
   "name": "python3"
  },
  "language_info": {
   "codemirror_mode": {
    "name": "ipython",
    "version": 3
   },
   "file_extension": ".py",
   "mimetype": "text/x-python",
   "name": "python",
   "nbconvert_exporter": "python",
   "pygments_lexer": "ipython3",
   "version": "3.9.6"
  }
 },
 "nbformat": 4,
 "nbformat_minor": 2
}
