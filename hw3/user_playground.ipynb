{
 "cells": [
  {
   "cell_type": "code",
   "execution_count": 1,
   "metadata": {},
   "outputs": [],
   "source": [
    "import pandas as pd\n",
    "import numpy as np\n",
    "from data_reader import read_df"
   ]
  },
  {
   "cell_type": "code",
   "execution_count": 2,
   "metadata": {},
   "outputs": [
    {
     "data": {
      "text/html": [
       "<div>\n",
       "<style scoped>\n",
       "    .dataframe tbody tr th:only-of-type {\n",
       "        vertical-align: middle;\n",
       "    }\n",
       "\n",
       "    .dataframe tbody tr th {\n",
       "        vertical-align: top;\n",
       "    }\n",
       "\n",
       "    .dataframe thead th {\n",
       "        text-align: right;\n",
       "    }\n",
       "</style>\n",
       "<table border=\"1\" class=\"dataframe\">\n",
       "  <thead>\n",
       "    <tr style=\"text-align: right;\">\n",
       "      <th></th>\n",
       "      <th>user_id</th>\n",
       "      <th>item_id</th>\n",
       "      <th>rate</th>\n",
       "      <th>review_text</th>\n",
       "    </tr>\n",
       "  </thead>\n",
       "  <tbody>\n",
       "    <tr>\n",
       "      <th>0</th>\n",
       "      <td>A35HOUWHAYZZN6</td>\n",
       "      <td>B00JF3RYPM</td>\n",
       "      <td>1</td>\n",
       "      <td>This lotion gently moisturizes without irritat...</td>\n",
       "    </tr>\n",
       "    <tr>\n",
       "      <th>1</th>\n",
       "      <td>A1DGB6HY5C7LXU</td>\n",
       "      <td>B00KLA4INE</td>\n",
       "      <td>1</td>\n",
       "      <td>I've been doing some research into non-surgica...</td>\n",
       "    </tr>\n",
       "    <tr>\n",
       "      <th>2</th>\n",
       "      <td>A3EPHBMU07LZ50</td>\n",
       "      <td>B00CBD0M8Y</td>\n",
       "      <td>1</td>\n",
       "      <td>I could not detectably notice much difference ...</td>\n",
       "    </tr>\n",
       "    <tr>\n",
       "      <th>3</th>\n",
       "      <td>A1WSQ0QRWQC7VI</td>\n",
       "      <td>B001FSK8SA</td>\n",
       "      <td>1</td>\n",
       "      <td>arived just in time for xmas so i used it as a...</td>\n",
       "    </tr>\n",
       "    <tr>\n",
       "      <th>4</th>\n",
       "      <td>A2SZLNSI5KOQJT</td>\n",
       "      <td>B00D18ZDM8</td>\n",
       "      <td>1</td>\n",
       "      <td>In my opinion, the Bic Soleil Shave &amp; Trim Sha...</td>\n",
       "    </tr>\n",
       "  </tbody>\n",
       "</table>\n",
       "</div>"
      ],
      "text/plain": [
       "          user_id     item_id  rate  \\\n",
       "0  A35HOUWHAYZZN6  B00JF3RYPM     1   \n",
       "1  A1DGB6HY5C7LXU  B00KLA4INE     1   \n",
       "2  A3EPHBMU07LZ50  B00CBD0M8Y     1   \n",
       "3  A1WSQ0QRWQC7VI  B001FSK8SA     1   \n",
       "4  A2SZLNSI5KOQJT  B00D18ZDM8     1   \n",
       "\n",
       "                                         review_text  \n",
       "0  This lotion gently moisturizes without irritat...  \n",
       "1  I've been doing some research into non-surgica...  \n",
       "2  I could not detectably notice much difference ...  \n",
       "3  arived just in time for xmas so i used it as a...  \n",
       "4  In my opinion, the Bic Soleil Shave & Trim Sha...  "
      ]
     },
     "execution_count": 2,
     "metadata": {},
     "output_type": "execute_result"
    }
   ],
   "source": [
    "df = read_df('test')\n",
    "df.head()"
   ]
  },
  {
   "cell_type": "code",
   "execution_count": 33,
   "metadata": {},
   "outputs": [],
   "source": [
    "users = set(df['user_id'])\n",
    "fav = {u:df[df['user_id']==u]['item_id'].tolist() for u in users}"
   ]
  },
  {
   "cell_type": "code",
   "execution_count": 38,
   "metadata": {},
   "outputs": [
    {
     "data": {
      "text/plain": [
       "['B00CBD0M8Y', 'B00AE07FQI', 'B00AE07GX0', 'B001OMI93S']"
      ]
     },
     "execution_count": 38,
     "metadata": {},
     "output_type": "execute_result"
    }
   ],
   "source": [
    "u = 'A3EPHBMU07LZ50'\n",
    "fav[u]"
   ]
  },
  {
   "cell_type": "code",
   "execution_count": 41,
   "metadata": {},
   "outputs": [],
   "source": [
    "golds = {u:list(enumerate(fav[u])) for u in users}"
   ]
  },
  {
   "cell_type": "code",
   "execution_count": 19,
   "metadata": {},
   "outputs": [
    {
     "data": {
      "text/plain": [
       "['B00A0IWRRG',\n",
       " 'B000E0K7NQ',\n",
       " 'B00HB2JQNM',\n",
       " 'B00AE0790U',\n",
       " 'B0072XRJ20',\n",
       " 'B00HD7SCLM',\n",
       " 'B00GLS5DVQ',\n",
       " 'B00AE07FXQ']"
      ]
     },
     "execution_count": 19,
     "metadata": {},
     "output_type": "execute_result"
    }
   ],
   "source": [
    "list(fav.values())[2]"
   ]
  },
  {
   "cell_type": "code",
   "execution_count": 39,
   "metadata": {},
   "outputs": [
    {
     "data": {
      "text/plain": [
       "[(0, 'B00CBD0M8Y'), (1, 'B00AE07FQI'), (2, 'B00AE07GX0'), (3, 'B001OMI93S')]"
      ]
     },
     "execution_count": 39,
     "metadata": {},
     "output_type": "execute_result"
    }
   ],
   "source": [
    "golds[u]"
   ]
  },
  {
   "cell_type": "code",
   "execution_count": 45,
   "metadata": {},
   "outputs": [
    {
     "data": {
      "text/plain": [
       "(['B00A0IWRRG',\n",
       "  'B000E0K7NQ',\n",
       "  'B00HB2JQNM',\n",
       "  'B00AE0790U',\n",
       "  'B0072XRJ20',\n",
       "  'B00HD7SCLM',\n",
       "  'B00GLS5DVQ',\n",
       "  'B00AE07FXQ'],\n",
       " ['B00AE07FXQ', 'B000E0K7NQ', 'B005HIHD2I', 'B00HB2JQNM', 'B0098JU8T2'],\n",
       " 3)"
      ]
     },
     "execution_count": 45,
     "metadata": {},
     "output_type": "execute_result"
    }
   ],
   "source": [
    "def rank_correlation(user, sorting):\n",
    "    gold = fav[user]\n",
    "    best = sorting[:20]\n",
    "\n",
    "    return len(set(best).intersection(gold))\n",
    "\n",
    "def rc_test():\n",
    "    user = 'A2G04D4QZAXL15'\n",
    "    items = fav[user] + fav['A3JT29L4YFEIMJ']\n",
    "    np.random.shuffle(items)\n",
    "    i = items[0:5]\n",
    "\n",
    "    fav[user], i, rank_correlation(user, i)"
   ]
  },
  {
   "cell_type": "code",
   "execution_count": null,
   "metadata": {},
   "outputs": [],
   "source": [
    "def DCG(user, sorting):\n",
    "    gold = golds[user]\n",
    "    best = sorting[:20]"
   ]
  }
 ],
 "metadata": {
  "kernelspec": {
   "display_name": "Python 3",
   "language": "python",
   "name": "python3"
  },
  "language_info": {
   "codemirror_mode": {
    "name": "ipython",
    "version": 3
   },
   "file_extension": ".py",
   "mimetype": "text/x-python",
   "name": "python",
   "nbconvert_exporter": "python",
   "pygments_lexer": "ipython3",
   "version": "3.9.6"
  }
 },
 "nbformat": 4,
 "nbformat_minor": 2
}
