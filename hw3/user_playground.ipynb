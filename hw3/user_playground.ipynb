{
 "cells": [
  {
   "cell_type": "code",
   "execution_count": 131,
   "metadata": {},
   "outputs": [],
   "source": [
    "import pandas as pd\n",
    "import numpy as np\n",
    "from data_reader import read_df, interaction_matrix\n",
    "\n",
    "def user_favorites(df):\n",
    "    # user2index, item2index, inteRaction matrix\n",
    "    u2i, i2i, R = interaction_matrix(df)\n",
    "\n",
    "    fav = dict([(user, group.tolist()[::-1]) for user, group in df.groupby('user_id')['item_id']])\n",
    "    gold = { u2i[user]:[i2i[i] for i in items] for user,items in fav.items() }\n",
    "\n",
    "    return gold\n",
    "\n",
    "\n",
    "def topk(R, k):\n",
    "    '''\n",
    "    returns index of top k items, sorted\n",
    "    '''\n",
    "\n",
    "    A = R.argpartition(kth=-k, axis=1)[:, -k:]\n",
    "    S = np.take_along_axis(R, A, axis=1)\n",
    "    return np.take_along_axis(A, S.argsort(), axis=1)[:,::-1]\n",
    "\n",
    "\n",
    "def eval_score(user, fn, guess, gold):\n",
    "    n = u_len[user]\n",
    "    retrieved = guess[user, :n]\n",
    "    gold_n = gold[user][:n]\n",
    "\n",
    "    return fn(gold_n, retrieved)\n",
    "\n",
    "\n",
    "df = read_df('test')\n",
    "users = set(df['user_id'])\n",
    "\n",
    "R = interaction_matrix(df, False)\n",
    "\n",
    "u_len = (R > 0).sum(axis=1)\n",
    "\n",
    "K = min(u_len.max(), 20)\n",
    "gold = topk(R, K)"
   ]
  },
  {
   "cell_type": "code",
   "execution_count": 124,
   "metadata": {},
   "outputs": [],
   "source": [
    "def recall(gold, sorting):\n",
    "    best = sorting[:20]\n",
    "    return len(set(best).intersection(gold)) / len(gold)\n",
    "\n",
    "def test_sorting():\n",
    "    user = 'A2G04D4QZAXL15'\n",
    "    items = fav[user] + fav['A3JT29L4YFEIMJ']\n",
    "    np.random.shuffle(items)\n",
    "    i = items[0:5]\n",
    "    return fav[user], i\n",
    "\n",
    "def rc_test():\n",
    "    user, i = test_sorting()\n",
    "    fav[user], i, recall(fav[user], i)"
   ]
  },
  {
   "cell_type": "code",
   "execution_count": 150,
   "metadata": {},
   "outputs": [],
   "source": [
    "def dcg(gold, guess, return_values=False, p=20):\n",
    "    p = min(p, len(gold), len(guess))\n",
    "    guess = guess[:p]\n",
    "\n",
    "    # relevance\n",
    "    rel = [int(item in gold) for item in guess][:p]\n",
    "    rel = np.array(rel) / np.hstack((1, np.log(2 + np.arange(len(rel)-1),)/np.log(2)))\n",
    "    \n",
    "    score = rel.sum()\n",
    "    return (score, rel.cumsum()) if return_values else score\n",
    "\n",
    "\n",
    "def ndcg(gold, guess, return_values=False, p=20):\n",
    "    p = min(p, len(gold), len(guess))\n",
    "\n",
    "    if return_values:\n",
    "        _, ideal = dcg(gold, gold, return_values=True)\n",
    "        _, rel = dcg(gold, guess, return_values=True)\n",
    "        ndcg = (rel/ideal)\n",
    "        \n",
    "        return ndcg[0], ndcg\n",
    "\n",
    "    ideal = dcg(gold, gold)\n",
    "\n",
    "\n",
    "def ndcg_test():\n",
    "    ex = [3, 2, 3, 0, 0, 1, 2, 2, 3, 0]\n",
    "    fav_ex = sorted(ex, reverse=True)\n",
    "    print('DCG', dcg(fav_ex, ex, return_values=True)[1])\n",
    "    print('NDCG', ndcg(fav_ex, ex, True)[1])\n",
    "    sc, rel = dcg(*test_sorting(), True)\n",
    "    return sc, rel"
   ]
  },
  {
   "cell_type": "code",
   "execution_count": 139,
   "metadata": {},
   "outputs": [],
   "source": [
    "def rank_correlation_fn(gold, rank_fn):\n",
    "    n = len(gold)\n",
    "\n",
    "    a = np.arange(n) + 1\n",
    "    b = np.array([rank_fn(item) for item in gold])\n",
    "\n",
    "    # spearman\n",
    "    return 1 - 6*(b - a)**2 / n / (n**2 - 1)\n",
    "\n",
    "# def test_rank_correlation\n",
    "\n",
    "def rank_correlation(gold, ranked):\n",
    "    n = len(gold)\n",
    "\n",
    "    a = np.arange(n) + 1\n",
    "    b = np.array(ranked)\n",
    "\n",
    "    # spearman\n",
    "    return 1 - (6*(b - a)**2 / n / (n**2 - 1)).sum()\n",
    "\n",
    "def extract_rank(gold, retrieved):\n",
    "    n = len(gold)\n",
    "    return [np.argwhere(gold[i] == retrieved)[0][0]+1 for i in range(n)]\n",
    "\n"
   ]
  },
  {
   "cell_type": "code",
   "execution_count": 12,
   "metadata": {},
   "outputs": [],
   "source": [
    "ex = [3, 2, 3, 0, 0, 1, 2, 2, 3, 0]\n",
    "gold = sorted(ex, reverse=True)"
   ]
  },
  {
   "cell_type": "code",
   "execution_count": 27,
   "metadata": {},
   "outputs": [],
   "source": [
    "def calc_gamma():\n",
    "    import numpy as np\n",
    "\n",
    "    def dm(a):\n",
    "        a = np.array(a)\n",
    "        n = len(a)\n",
    "        A = np.zeros((n, n))\n",
    "        for i in range(n):\n",
    "            A[i, :] = a - a[i]\n",
    "        return A\n",
    "\n",
    "    A, B = dm(ex), dm(gold)\n",
    "    gamma = lambda A,B: (A*B).sum() / np.sqrt((A*A).sum() * (B*B).sum())\n",
    "\n",
    "    return gamma"
   ]
  },
  {
   "cell_type": "code",
   "execution_count": 35,
   "metadata": {},
   "outputs": [],
   "source": [
    "ts = test_sorting()[1]\n",
    "st = ts[:]\n",
    "np.random.shuffle(st)\n",
    "\n",
    "st = np.array(st)\n",
    "ts = np.array(ts)\n",
    "\n",
    "rank_correlation(ts, extract_rank(ts, st))"
   ]
  },
  {
   "cell_type": "code",
   "execution_count": 145,
   "metadata": {},
   "outputs": [],
   "source": [
    "guess = topk(R, K)\n",
    "# fn = recall\n",
    "fn = rank_correlation\n",
    "scores = [eval_score(user, fn, guess, gold) for user in range(len(users))]"
   ]
  },
  {
   "cell_type": "code",
   "execution_count": 152,
   "metadata": {},
   "outputs": [
    {
     "data": {
      "text/plain": [
       "7.812598133226559"
      ]
     },
     "execution_count": 152,
     "metadata": {},
     "output_type": "execute_result"
    }
   ],
   "source": [
    "dcg(gold[0], guess[0])"
   ]
  },
  {
   "cell_type": "code",
   "execution_count": null,
   "metadata": {},
   "outputs": [],
   "source": []
  },
  {
   "cell_type": "code",
   "execution_count": null,
   "metadata": {},
   "outputs": [],
   "source": []
  }
 ],
 "metadata": {
  "kernelspec": {
   "display_name": "Python 3",
   "language": "python",
   "name": "python3"
  },
  "language_info": {
   "codemirror_mode": {
    "name": "ipython",
    "version": 3
   },
   "file_extension": ".py",
   "mimetype": "text/x-python",
   "name": "python",
   "nbconvert_exporter": "python",
   "pygments_lexer": "ipython3",
   "version": "3.9.7"
  }
 },
 "nbformat": 4,
 "nbformat_minor": 2
}
