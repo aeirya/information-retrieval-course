{
 "cells": [
  {
   "cell_type": "code",
   "execution_count": 1,
   "metadata": {},
   "outputs": [
    {
     "name": "stdout",
     "output_type": "stream",
     "text": [
      "implict loading of dataframes\n",
      "Max items of a user in test dataset: 36\n"
     ]
    }
   ],
   "source": [
    "# from IPython.utils import io\n",
    "# with io.capture_output() as captured:\n",
    "#   !pip3 install scikit-learn;\n",
    "\n",
    "import numpy as np\n",
    "\n",
    "from util import train_test_df, evaluate, interaction_matrix, heatmaps, train_test_mtx\n",
    "from mfactorization import mf, mf_default_config\n",
    "\n",
    "\n",
    "def pca(M):\n",
    "  '''\n",
    "  reduces dimension of nxm matrix M to nx64\n",
    "  '''\n",
    "\n",
    "  from sklearn.decomposition import PCA\n",
    "\n",
    "  R = PCA(64).fit_transform(M)\n",
    "\n",
    "  return R"
   ]
  },
  {
   "cell_type": "code",
   "execution_count": 2,
   "metadata": {},
   "outputs": [],
   "source": [
    "# 1.\n",
    "R, Rt = train_test_mtx(return_dfs=False, return_id_maps=False)"
   ]
  },
  {
   "cell_type": "markdown",
   "metadata": {},
   "source": [
    "# 2 Matrix Factorization"
   ]
  },
  {
   "cell_type": "code",
   "execution_count": 3,
   "metadata": {},
   "outputs": [
    {
     "name": "stdout",
     "output_type": "stream",
     "text": [
      "factorizing interaction matrix:\n"
     ]
    },
    {
     "name": "stderr",
     "output_type": "stream",
     "text": [
      "103it [00:02, 51.17it/s]"
     ]
    },
    {
     "name": "stdout",
     "output_type": "stream",
     "text": [
      "err: 1.36e+04, lr: 0.0067663 "
     ]
    },
    {
     "name": "stderr",
     "output_type": "stream",
     "text": [
      "205it [00:03, 80.29it/s]"
     ]
    },
    {
     "name": "stdout",
     "output_type": "stream",
     "text": [
      "err: 1.19e+04, lr: 0.0045479 , last batch: 32\n"
     ]
    },
    {
     "name": "stderr",
     "output_type": "stream",
     "text": [
      "297it [00:04, 66.79it/s]"
     ]
    },
    {
     "name": "stdout",
     "output_type": "stream",
     "text": [
      "err: 1.09e+04, lr: 0.0031829 , last batch: 8\n"
     ]
    },
    {
     "name": "stderr",
     "output_type": "stream",
     "text": [
      "394it [00:06, 55.58it/s]"
     ]
    },
    {
     "name": "stdout",
     "output_type": "stream",
     "text": [
      "err: 9.94e+03, lr: 0.0023431 , last batch: 8\n"
     ]
    },
    {
     "name": "stderr",
     "output_type": "stream",
     "text": [
      "484it [00:08, 50.53it/s]"
     ]
    },
    {
     "name": "stdout",
     "output_type": "stream",
     "text": [
      "err: 9.12e+03, lr: 0.0018264 , last batch: 4\n"
     ]
    },
    {
     "name": "stderr",
     "output_type": "stream",
     "text": [
      "578it [00:10, 38.70it/s]"
     ]
    },
    {
     "name": "stdout",
     "output_type": "stream",
     "text": [
      "err: 8.40e+03, lr: 0.0015084 , last batch: 2\n"
     ]
    },
    {
     "name": "stderr",
     "output_type": "stream",
     "text": [
      "676it [00:13, 27.22it/s]"
     ]
    },
    {
     "name": "stdout",
     "output_type": "stream",
     "text": [
      "err: 7.80e+03, lr: 0.0012888 , last batch: 1\n"
     ]
    },
    {
     "name": "stderr",
     "output_type": "stream",
     "text": [
      "769it [00:17, 29.98it/s]"
     ]
    },
    {
     "name": "stdout",
     "output_type": "stream",
     "text": [
      "err: 7.27e+03, lr: 0.0010705 , last batch: 1\n"
     ]
    },
    {
     "name": "stderr",
     "output_type": "stream",
     "text": [
      "800it [00:18, 43.68it/s]"
     ]
    },
    {
     "name": "stdout",
     "output_type": "stream",
     "text": [
      "best error: 7.20e+03\n"
     ]
    },
    {
     "name": "stderr",
     "output_type": "stream",
     "text": [
      "\n"
     ]
    }
   ],
   "source": [
    "# 2.\n",
    "print(\"factorizing interaction matrix:\")\n",
    "\n",
    "Q, P = mf(R, print_step=8, lr =(1e-2, 1e-3), n_epochs=800, sampled_epochs=700, sample_size=0.05)\n",
    "Rm = Q @ P.T"
   ]
  },
  {
   "cell_type": "markdown",
   "metadata": {},
   "source": [
    "# 3. BERT"
   ]
  },
  {
   "cell_type": "code",
   "execution_count": 4,
   "metadata": {},
   "outputs": [],
   "source": [
    "# 3.\n",
    "E = np.load('save/roberta_item_encodings.npy')\n",
    "\n",
    "# 3.a\n",
    "Pa = pca(E)\n",
    "Ra = Q @ Pa.T\n",
    "\n",
    "# 3.b\n",
    "Pb = pca(np.hstack((E, P)))\n",
    "Rb = Q @ Pb.T"
   ]
  },
  {
   "cell_type": "markdown",
   "metadata": {},
   "source": [
    "# 4. evaluation"
   ]
  },
  {
   "cell_type": "code",
   "execution_count": 5,
   "metadata": {},
   "outputs": [],
   "source": [
    "# 4.\n",
    "\n",
    "# 4. MF\n",
    "Em = evaluate(Rm)\n",
    "\n",
    "# 4. BERT a\n",
    "Ea = evaluate(Ra)\n",
    "# 4. BERT b\n",
    "Eb = evaluate(Rb)\n",
    "\n",
    "# 4. Extra evaluations\n",
    "E0 = evaluate(R)\n",
    "Et = evaluate(Rt)"
   ]
  },
  {
   "cell_type": "code",
   "execution_count": 6,
   "metadata": {},
   "outputs": [
    {
     "data": {
      "image/png": "[encoded data removed]",
      "text/plain": [
       "<Figure size 640x480 with 1 Axes>"
      ]
     },
     "metadata": {},
     "output_type": "display_data"
    }
   ],
   "source": [
    "from util import heatmaps\n",
    "heatmaps([R[0:50, 0:50], Rt[0:50, 0:50]])"
   ]
  },
  {
   "cell_type": "markdown",
   "metadata": {},
   "source": [
    "Mistake in the problem: the corresponding matrix for items is P (not Q)"
   ]
  },
  {
   "cell_type": "code",
   "execution_count": 7,
   "metadata": {},
   "outputs": [
    {
     "data": {
      "text/html": [
       "<div>\n",
       "<style scoped>\n",
       "    .dataframe tbody tr th:only-of-type {\n",
       "        vertical-align: middle;\n",
       "    }\n",
       "\n",
       "    .dataframe tbody tr th {\n",
       "        vertical-align: top;\n",
       "    }\n",
       "\n",
       "    .dataframe thead th {\n",
       "        text-align: right;\n",
       "    }\n",
       "</style>\n",
       "<table border=\"1\" class=\"dataframe\">\n",
       "  <thead>\n",
       "    <tr style=\"text-align: right;\">\n",
       "      <th></th>\n",
       "      <th>method</th>\n",
       "      <th>recall</th>\n",
       "      <th>ndcg</th>\n",
       "      <th>rank correlation</th>\n",
       "    </tr>\n",
       "  </thead>\n",
       "  <tbody>\n",
       "    <tr>\n",
       "      <th>0</th>\n",
       "      <td>R (train data)</td>\n",
       "      <td>3.847</td>\n",
       "      <td>0.007</td>\n",
       "      <td>1.000</td>\n",
       "    </tr>\n",
       "    <tr>\n",
       "      <th>1</th>\n",
       "      <td>R (test data)</td>\n",
       "      <td>99</td>\n",
       "      <td>1.000</td>\n",
       "      <td>1.000</td>\n",
       "    </tr>\n",
       "    <tr>\n",
       "      <th>2</th>\n",
       "      <td>matrix factorization</td>\n",
       "      <td>28</td>\n",
       "      <td>0.132</td>\n",
       "      <td>-0.006</td>\n",
       "    </tr>\n",
       "    <tr>\n",
       "      <th>3</th>\n",
       "      <td>BERT replace Q</td>\n",
       "      <td>2.262</td>\n",
       "      <td>0.004</td>\n",
       "      <td>0.010</td>\n",
       "    </tr>\n",
       "    <tr>\n",
       "      <th>4</th>\n",
       "      <td>BERT concat with Q</td>\n",
       "      <td>3.393</td>\n",
       "      <td>0.010</td>\n",
       "      <td>0.022</td>\n",
       "    </tr>\n",
       "  </tbody>\n",
       "</table>\n",
       "</div>"
      ],
      "text/plain": [
       "                 method recall   ndcg rank correlation\n",
       "0        R (train data)  3.847  0.007            1.000\n",
       "1         R (test data)     99  1.000            1.000\n",
       "2  matrix factorization     28  0.132           -0.006\n",
       "3        BERT replace Q  2.262  0.004            0.010\n",
       "4    BERT concat with Q  3.393  0.010            0.022"
      ]
     },
     "execution_count": 7,
     "metadata": {},
     "output_type": "execute_result"
    }
   ],
   "source": [
    "import pandas as pd\n",
    "\n",
    "columns = E0.keys()\n",
    "df = pd.DataFrame(data=(E0, Et, Em, Ea, Eb), columns=columns)\n",
    "\n",
    "df.insert(0, 'method', [\n",
    "    'R (train data)',\n",
    "    'R (test data)',\n",
    "    'matrix factorization',\n",
    "    'BERT replace Q',\n",
    "    'BERT concat with Q'\n",
    "])\n",
    "\n",
    "df"
   ]
  },
  {
   "cell_type": "code",
   "execution_count": 12,
   "metadata": {},
   "outputs": [
    {
     "data": {
      "image/png": "[encoded data removed]",
      "text/plain": [
       "<Figure size 640x480 with 1 Axes>"
      ]
     },
     "metadata": {},
     "output_type": "display_data"
    }
   ],
   "source": [
    "def find_window(w, h):\n",
    "    '''\n",
    "    returns a frame with most available test items\n",
    "    '''\n",
    "    n, m = Rt.shape\n",
    "    a = np.zeros((n-h, m-w))\n",
    "    for i in range(a.shape[0]):\n",
    "        for j in range(a.shape[1]):\n",
    "            a[i,j] = Rt[i:i+h, j:j+w].sum()\n",
    "    \n",
    "    return np.unravel_index(a.argmax(), a.shape)\n",
    "\n",
    "try:\n",
    "    a = i, j\n",
    "except:\n",
    "    i, j = -1, -1\n",
    "\n",
    "def win(M, width=10, height=30):\n",
    "    global i, j\n",
    "    if i < 0 and j < 0:\n",
    "        i, j = find_window(width, height)\n",
    "\n",
    "    return M[i:i+height, j:j+width]\n",
    "\n",
    "\n",
    "RRmRtRaRb = (R, Rm, Rt, Ra, Rb)\n",
    "RRmRtRaRb = [win(M) for M in RRmRtRaRb]\n",
    "\n",
    "heatmaps(RRmRtRaRb)\n",
    "# heatmaps([M*win(Rt) for M in RRmRtRaRb])"
   ]
  },
  {
   "cell_type": "markdown",
   "metadata": {},
   "source": [
    "Lets see agreement of results with Rt in a better way"
   ]
  },
  {
   "cell_type": "code",
   "execution_count": 13,
   "metadata": {},
   "outputs": [
    {
     "data": {
      "image/png": "[encoded data removed]",
      "text/plain": [
       "<Figure size 640x480 with 1 Axes>"
      ]
     },
     "metadata": {},
     "output_type": "display_data"
    }
   ],
   "source": [
    "def mark(M, windowed=True):\n",
    "    '''\n",
    "    highlight M in such a way:\n",
    "    if M agrees with test, it gets brighter\n",
    "    if M disgrees with test, it gets darker\n",
    "    '''\n",
    "\n",
    "    T = win(Rt) if windowed else Rt\n",
    "    M = M.copy()\n",
    "    M[T == 0] = -1 * M[T == 0]\n",
    "    M[(M<0.5) & (T==1)] = 0\n",
    "    return M\n",
    "\n",
    "heatmaps([mark(win(M)) for M in (R, Rm, Rt, Ra, Rb)])"
   ]
  },
  {
   "cell_type": "code",
   "execution_count": 14,
   "metadata": {},
   "outputs": [
    {
     "name": "stdout",
     "output_type": "stream",
     "text": [
      "We expect R_train to have almost zero score (since it has zero value for almost every item)\n",
      "{'recall': '3.847', 'ndcg': '0.007', 'rank correlation': '1.000'}\n",
      "\n",
      "We expect R_test to have almost 1 score (since it has memorized test dataset)\n",
      "{'recall': '99', 'ndcg': '1.000', 'rank correlation': '1.000'}\n",
      "\n",
      "R estimation (with matrix factorization)\n",
      "{'recall': '28', 'ndcg': '0.132', 'rank correlation': '-0.006'}\n",
      "\n",
      "Replace Q with BERT's encoding\n",
      "{'recall': '2.262', 'ndcg': '0.004', 'rank correlation': '0.010'}\n",
      "\n",
      "Concat BERT encoding\n",
      "{'recall': '3.393', 'ndcg': '0.010', 'rank correlation': '0.022'}\n",
      "\n"
     ]
    }
   ],
   "source": [
    "print(\"We expect R_train to have almost zero score (since it has zero value for almost every item)\")\n",
    "print(E0)\n",
    "print()\n",
    "\n",
    "print(\"We expect R_test to have almost 1 score (since it has memorized test dataset)\")\n",
    "print(Et)\n",
    "print()\n",
    "\n",
    "print(\"R estimation (with matrix factorization)\")\n",
    "print(Em)\n",
    "print()\n",
    "\n",
    "print(\"Replace Q with BERT's encoding\")\n",
    "print(Ea)\n",
    "print()\n",
    "\n",
    "print(\"Concat BERT encoding\")\n",
    "print(Eb)\n",
    "print()"
   ]
  },
  {
   "cell_type": "markdown",
   "metadata": {},
   "source": [
    "What if we improve Pa further"
   ]
  },
  {
   "cell_type": "code",
   "execution_count": 15,
   "metadata": {},
   "outputs": [
    {
     "name": "stderr",
     "output_type": "stream",
     "text": [
      "0it [00:00, ?it/s]"
     ]
    },
    {
     "name": "stderr",
     "output_type": "stream",
     "text": [
      "2it [00:00, 13.36it/s]\n"
     ]
    },
    {
     "name": "stdout",
     "output_type": "stream",
     "text": [
      "best error: 1.77e+04\n"
     ]
    },
    {
     "data": {
      "text/plain": [
       "{'recall': '6.483', 'ndcg': '0.023', 'rank correlation': '0.024'}"
      ]
     },
     "execution_count": 15,
     "metadata": {},
     "output_type": "execute_result"
    }
   ],
   "source": [
    "Qa, Pa2 = mf(R, qp=(Q, Pb), lr=(1e-2, 1e-3), n_epochs=2, sampled_epochs=1, print_step=1, log_step=1) \n",
    "Ra2 = Qa @ Pa2.T\n",
    "evaluate(Ra2)"
   ]
  },
  {
   "cell_type": "code",
   "execution_count": null,
   "metadata": {},
   "outputs": [],
   "source": [
    "from util.data_reader import train_test_df\n",
    "\n",
    "df, dft = train_test_df()\n",
    "\n"
   ]
  }
 ],
 "metadata": {
  "kernelspec": {
   "display_name": "Python 3",
   "language": "python",
   "name": "python3"
  },
  "language_info": {
   "codemirror_mode": {
    "name": "ipython",
    "version": 3
   },
   "file_extension": ".py",
   "mimetype": "text/x-python",
   "name": "python",
   "nbconvert_exporter": "python",
   "pygments_lexer": "ipython3",
   "version": "3.9.6"
  }
 },
 "nbformat": 4,
 "nbformat_minor": 2
}
