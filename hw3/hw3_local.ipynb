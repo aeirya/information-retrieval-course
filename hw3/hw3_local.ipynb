{
 "cells": [
  {
   "cell_type": "code",
   "execution_count": 1,
   "metadata": {},
   "outputs": [],
   "source": [
    "from IPython.utils import io\n",
    "\n",
    "# with io.capture_output() as captured:\n",
    "#   !pip3 install scikit-learn;\n",
    "\n",
    "import numpy as np\n",
    "\n",
    "from util import train_test_df, evaluate as evaluator, interaction_matrix\n",
    "from mfactorization import mf, mf_default_config\n",
    "\n",
    "\n",
    "def pca(M):\n",
    "  '''\n",
    "  reduces dimension of nxm matrix M to nx64\n",
    "  '''\n",
    "\n",
    "  from sklearn.decomposition import PCA\n",
    "\n",
    "  R = PCA(64).fit_transform(M)\n",
    "\n",
    "  return R"
   ]
  },
  {
   "cell_type": "code",
   "execution_count": 2,
   "metadata": {},
   "outputs": [
    {
     "name": "stdout",
     "output_type": "stream",
     "text": [
      "factorizing interaction matrix:\n"
     ]
    },
    {
     "name": "stderr",
     "output_type": "stream",
     "text": [
      "4it [00:00, 36.90it/s]"
     ]
    },
    {
     "name": "stdout",
     "output_type": "stream",
     "text": [
      "err: 2.29e+04, lr: 0.0037999 "
     ]
    },
    {
     "name": "stderr",
     "output_type": "stream",
     "text": [
      "230it [00:04, 46.18it/s]"
     ]
    },
    {
     "name": "stdout",
     "output_type": "stream",
     "text": [
      "err: 9.16e+03, lr: 0.0071223 , last batch: 8\n"
     ]
    },
    {
     "name": "stderr",
     "output_type": "stream",
     "text": [
      "453it [00:12, 21.66it/s]"
     ]
    },
    {
     "name": "stdout",
     "output_type": "stream",
     "text": [
      "err: 5.91e+03, lr: 0.0033997 , last batch: 2\n"
     ]
    },
    {
     "name": "stderr",
     "output_type": "stream",
     "text": [
      "678it [00:17, 50.69it/s]"
     ]
    },
    {
     "name": "stdout",
     "output_type": "stream",
     "text": [
      "err: 5.32e+03, lr: 0.0021398 , last batch: 1\n"
     ]
    },
    {
     "name": "stderr",
     "output_type": "stream",
     "text": [
      "700it [00:17, 39.95it/s]\n"
     ]
    },
    {
     "name": "stdout",
     "output_type": "stream",
     "text": [
      "best error: 5.30e+03\n"
     ]
    }
   ],
   "source": [
    "# 1.\n",
    "df_train, df_test = train_test_df()\n",
    "R = interaction_matrix(df_train)\n",
    "\n",
    "# 2.\n",
    "print(\"factorizing interaction matrix:\")\n",
    "Q, P = mf(R, **mf_default_config, print_step=3)\n",
    "Rm = Q@P.T\n",
    "\n",
    "# 3.\n",
    "E = np.load('bert_item_encodings.npy')\n",
    "\n",
    "# 3.a\n",
    "Pa = pca(E)\n",
    "Ra = Q @ Pa.T\n",
    "\n",
    "# 3.b\n",
    "Pb = pca(np.hstack((E, P)))\n",
    "Rb = Q @ Pb.T\n",
    "\n",
    "# 4.\n",
    "evaluate = lambda r: evaluator(r, df_test) # syntax suger\n",
    "\n",
    "# 4. MF\n",
    "Em = evaluate(Rm)\n",
    "\n",
    "# 4. BERT a\n",
    "Ea = evaluate(Ra)\n",
    "# 4. BERT b\n",
    "Eb = evaluate(Rb)\n",
    "\n",
    "# 4. Extra evaluations\n",
    "E0 = evaluate(R)\n",
    "\n",
    "Rt = interaction_matrix(df_test)\n",
    "Et = evaluate(Rt)"
   ]
  },
  {
   "cell_type": "markdown",
   "metadata": {},
   "source": [
    "Mistake in the problem: the corresponding matrix for items is P (not Q)"
   ]
  },
  {
   "cell_type": "code",
   "execution_count": 3,
   "metadata": {},
   "outputs": [
    {
     "name": "stdout",
     "output_type": "stream",
     "text": [
      "We expect R_train to have almost zero score (since it has zero value for almost every item)\n",
      "{'accuracy': '1.59', 'recall': '1.58', 'ndcg': '0.02', 'rank correlation': '0.90'}\n",
      "\n",
      "We expect R_test to have almost 1 score (since it has memorized test dataset)\n",
      "{'accuracy': '100', 'recall': '99', 'ndcg': '1.00', 'rank correlation': '0.99'}\n",
      "R estimation (with matrix factorization)\n",
      "{'accuracy': '1.72', 'recall': '1.71', 'ndcg': '0.02', 'rank correlation': '0.03'}\n",
      "Replace Q with BERT's encoding\n",
      "{'accuracy': '0.61', 'recall': '0.61', 'ndcg': '0.01', 'rank correlation': '0.04'}\n",
      "Concat BERT encoding\n",
      "{'accuracy': '0.80', 'recall': '0.79', 'ndcg': '0.01', 'rank correlation': '-0.02'}\n"
     ]
    }
   ],
   "source": [
    "print(\"We expect R_train to have almost zero score (since it has zero value for almost every item)\")\n",
    "print(E0)\n",
    "print()\n",
    "\n",
    "print(\"We expect R_test to have almost 1 score (since it has memorized test dataset)\")\n",
    "print(Et)\n",
    "\n",
    "print(\"R estimation (with matrix factorization)\")\n",
    "print(Em)\n",
    "\n",
    "print(\"Replace Q with BERT's encoding\")\n",
    "print(Ea)\n",
    "\n",
    "print(\"Concat BERT encoding\")\n",
    "print(Eb)"
   ]
  },
  {
   "cell_type": "code",
   "execution_count": 10,
   "metadata": {},
   "outputs": [
    {
     "data": {
      "text/html": [
       "<div>\n",
       "<style scoped>\n",
       "    .dataframe tbody tr th:only-of-type {\n",
       "        vertical-align: middle;\n",
       "    }\n",
       "\n",
       "    .dataframe tbody tr th {\n",
       "        vertical-align: top;\n",
       "    }\n",
       "\n",
       "    .dataframe thead th {\n",
       "        text-align: right;\n",
       "    }\n",
       "</style>\n",
       "<table border=\"1\" class=\"dataframe\">\n",
       "  <thead>\n",
       "    <tr style=\"text-align: right;\">\n",
       "      <th></th>\n",
       "      <th>method</th>\n",
       "      <th>accuracy</th>\n",
       "      <th>recall</th>\n",
       "      <th>ndcg</th>\n",
       "      <th>rank correlation</th>\n",
       "    </tr>\n",
       "  </thead>\n",
       "  <tbody>\n",
       "    <tr>\n",
       "      <th>0</th>\n",
       "      <td>R (train data)</td>\n",
       "      <td>1.59</td>\n",
       "      <td>1.58</td>\n",
       "      <td>0.02</td>\n",
       "      <td>0.90</td>\n",
       "    </tr>\n",
       "    <tr>\n",
       "      <th>1</th>\n",
       "      <td>R (test data)</td>\n",
       "      <td>100</td>\n",
       "      <td>99</td>\n",
       "      <td>1.00</td>\n",
       "      <td>0.99</td>\n",
       "    </tr>\n",
       "    <tr>\n",
       "      <th>2</th>\n",
       "      <td>matrix factorization</td>\n",
       "      <td>1.72</td>\n",
       "      <td>1.71</td>\n",
       "      <td>0.02</td>\n",
       "      <td>0.03</td>\n",
       "    </tr>\n",
       "    <tr>\n",
       "      <th>3</th>\n",
       "      <td>BERT replace Q</td>\n",
       "      <td>0.61</td>\n",
       "      <td>0.61</td>\n",
       "      <td>0.01</td>\n",
       "      <td>0.04</td>\n",
       "    </tr>\n",
       "    <tr>\n",
       "      <th>4</th>\n",
       "      <td>BERT concat with Q</td>\n",
       "      <td>0.80</td>\n",
       "      <td>0.79</td>\n",
       "      <td>0.01</td>\n",
       "      <td>-0.02</td>\n",
       "    </tr>\n",
       "  </tbody>\n",
       "</table>\n",
       "</div>"
      ],
      "text/plain": [
       "                 method accuracy recall  ndcg rank correlation\n",
       "0        R (train data)     1.59   1.58  0.02             0.90\n",
       "1         R (test data)      100     99  1.00             0.99\n",
       "2  matrix factorization     1.72   1.71  0.02             0.03\n",
       "3        BERT replace Q     0.61   0.61  0.01             0.04\n",
       "4    BERT concat with Q     0.80   0.79  0.01            -0.02"
      ]
     },
     "execution_count": 10,
     "metadata": {},
     "output_type": "execute_result"
    }
   ],
   "source": [
    "import pandas as pd\n",
    "\n",
    "columns = E0.keys()\n",
    "df = pd.DataFrame(data=(E0, Et, Em, Ea, Eb), columns=columns)\n",
    "\n",
    "df.insert(0, 'method', [\n",
    "    'R (train data)',\n",
    "    'R (test data)',\n",
    "    'matrix factorization',\n",
    "    'BERT replace Q',\n",
    "    'BERT concat with Q'\n",
    "])\n",
    "\n",
    "df"
   ]
  }
 ],
 "metadata": {
  "kernelspec": {
   "display_name": "Python 3",
   "language": "python",
   "name": "python3"
  },
  "language_info": {
   "codemirror_mode": {
    "name": "ipython",
    "version": 3
   },
   "file_extension": ".py",
   "mimetype": "text/x-python",
   "name": "python",
   "nbconvert_exporter": "python",
   "pygments_lexer": "ipython3",
   "version": "3.9.7"
  }
 },
 "nbformat": 4,
 "nbformat_minor": 2
}
