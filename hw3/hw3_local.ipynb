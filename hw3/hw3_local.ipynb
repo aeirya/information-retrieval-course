{
 "cells": [
  {
   "cell_type": "code",
   "execution_count": 1,
   "metadata": {},
   "outputs": [
    {
     "name": "stdout",
     "output_type": "stream",
     "text": [
      "implict loading of dataframes\n",
      "Max items of a user in test dataset: 36\n"
     ]
    }
   ],
   "source": [
    "# from IPython.utils import io\n",
    "# with io.capture_output() as captured:\n",
    "#   !pip3 install scikit-learn;\n",
    "\n",
    "import numpy as np\n",
    "\n",
    "from util import train_test_df, evaluate, interaction_matrix, heatmaps, train_test_mtx\n",
    "from mfactorization import mf, mf_default_config\n",
    "\n",
    "\n",
    "def pca(M):\n",
    "  '''\n",
    "  reduces dimension of nxm matrix M to nx64\n",
    "  '''\n",
    "\n",
    "  from sklearn.decomposition import PCA\n",
    "\n",
    "  R = PCA(64).fit_transform(M)\n",
    "\n",
    "  return R"
   ]
  },
  {
   "cell_type": "code",
   "execution_count": 3,
   "metadata": {},
   "outputs": [
    {
     "name": "stdout",
     "output_type": "stream",
     "text": [
      "factorizing interaction matrix:\n"
     ]
    },
    {
     "name": "stderr",
     "output_type": "stream",
     "text": [
      "59it [00:01, 45.35it/s]"
     ]
    },
    {
     "name": "stdout",
     "output_type": "stream",
     "text": [
      "err: 1.36e+04, lr: 0.0131641 "
     ]
    },
    {
     "name": "stderr",
     "output_type": "stream",
     "text": [
      "102it [00:02, 50.27it/s]"
     ]
    },
    {
     "name": "stdout",
     "output_type": "stream",
     "text": [
      "err: 1.14e+04, lr: 0.0084783 , last batch: 32\n"
     ]
    },
    {
     "name": "stderr",
     "output_type": "stream",
     "text": [
      "152it [00:03, 49.94it/s]"
     ]
    },
    {
     "name": "stdout",
     "output_type": "stream",
     "text": [
      "err: 9.93e+03, lr: 0.0055975 , last batch: 8\n"
     ]
    },
    {
     "name": "stderr",
     "output_type": "stream",
     "text": [
      "197it [00:04, 31.03it/s]"
     ]
    },
    {
     "name": "stdout",
     "output_type": "stream",
     "text": [
      "err: 8.76e+03, lr: 0.0038264 , last batch: 8\n"
     ]
    },
    {
     "name": "stderr",
     "output_type": "stream",
     "text": [
      "247it [00:06, 28.93it/s]"
     ]
    },
    {
     "name": "stdout",
     "output_type": "stream",
     "text": [
      "err: 7.71e+03, lr: 0.0027376 , last batch: 4\n"
     ]
    },
    {
     "name": "stderr",
     "output_type": "stream",
     "text": [
      "290it [00:08, 20.87it/s]"
     ]
    },
    {
     "name": "stdout",
     "output_type": "stream",
     "text": [
      "err: 6.85e+03, lr: 0.0020682 , last batch: 2\n"
     ]
    },
    {
     "name": "stderr",
     "output_type": "stream",
     "text": [
      "339it [00:11, 13.74it/s]"
     ]
    },
    {
     "name": "stdout",
     "output_type": "stream",
     "text": [
      "err: 6.20e+03, lr: 0.0016081 , last batch: 1\n"
     ]
    },
    {
     "name": "stderr",
     "output_type": "stream",
     "text": [
      "385it [00:14, 15.62it/s]"
     ]
    },
    {
     "name": "stdout",
     "output_type": "stream",
     "text": [
      "err: 5.67e+03, lr: 0.0011447 , last batch: 1\n"
     ]
    },
    {
     "name": "stderr",
     "output_type": "stream",
     "text": [
      "400it [00:15, 25.66it/s]"
     ]
    },
    {
     "name": "stdout",
     "output_type": "stream",
     "text": [
      "best error: 5.61e+03\n"
     ]
    },
    {
     "name": "stderr",
     "output_type": "stream",
     "text": [
      "\n"
     ]
    }
   ],
   "source": [
    "# 1.\n",
    "R, Rt = train_test_mtx(return_dfs=False, return_id_maps=False)\n",
    "\n",
    "# 2.\n",
    "print(\"factorizing interaction matrix:\")\n",
    "\n",
    "Q, P = mf(R, print_step=8, lr =(2e-2, 1e-3), n_epochs=400, sampled_epochs=350, sample_size=0.1)\n",
    "# Q, P = mf(R, **mf_default_config, print_step=5)\n",
    "Rm = Q @ P.T\n"
   ]
  },
  {
   "cell_type": "code",
   "execution_count": 4,
   "metadata": {},
   "outputs": [],
   "source": [
    "# 3.\n",
    "E = np.load('save/roberta_item_encodings.npy')\n",
    "\n",
    "# 3.a\n",
    "Pa = pca(E)\n",
    "Ra = Q @ Pa.T\n",
    "\n",
    "# 3.b\n",
    "Pb = pca(np.hstack((E, P)))\n",
    "Rb = Q @ Pb.T"
   ]
  },
  {
   "cell_type": "code",
   "execution_count": 4,
   "metadata": {},
   "outputs": [
    {
     "data": {
      "text/plain": [
       "(733, 64)"
      ]
     },
     "execution_count": 4,
     "metadata": {},
     "output_type": "execute_result"
    }
   ],
   "source": [
    "pca(E).shape"
   ]
  },
  {
   "cell_type": "code",
   "execution_count": 5,
   "metadata": {},
   "outputs": [
    {
     "name": "stdout",
     "output_type": "stream",
     "text": [
      "(1340, 36)\n",
      "[ 24 261  34 353 255 303 267 557 259 629 167 630  56 387 641  94 336 263\n",
      " 173 663]\n",
      "------\n",
      "[261  24 188 687 133 255  45 265 131 321]\n",
      "[ 24 261  34 353 255 303 267 557 259 629 167 630  56 387 641  94 336 263\n",
      " 173 663]\n",
      "------\n",
      "[261  24 188 687 133 255  45 265 131 321]\n",
      "(1340, 36)\n",
      "[402 369 181 632 545   1 113 122 251  54 309 189 645 260 489 464 188 301\n",
      " 215  62]\n",
      "------\n",
      "[261  24 188 687 133 255  45 265 131 321]\n",
      "[402 369 181 632 545   1 113 122 251  54 309 189 645 260 489 464 188 301\n",
      " 215  62]\n",
      "------\n",
      "[261  24 188 687 133 255  45 265 131 321]\n",
      "(1340, 36)\n",
      "[354 195 282 443 594  45 369 664 595 372 321   4 600 197 538 359 539 587\n",
      " 264 515]\n",
      "------\n",
      "[261  24 188 687 133 255  45 265 131 321]\n",
      "[354 195 282 443 594  45 369 664 595 372 321   4 600 197 538 359 539 587\n",
      " 264 515]\n",
      "------\n",
      "[261  24 188 687 133 255  45 265 131 321]\n",
      "(1340, 36)\n",
      "[732 242 241 285 265 284 283 282 281 280 278 277 276 263 264 273 266 262\n",
      " 261 260]\n",
      "------\n",
      "[261  24 188 687 133 255  45 265 131 321]\n",
      "[732 242 241 285 265 284 283 282 281 280 278 277 276 263 264 273 266 262\n",
      " 261 260]\n",
      "------\n",
      "[261  24 188 687 133 255  45 265 131 321]\n",
      "(1340, 36)\n",
      "[687 321 255 133 131  24 265 261 188  45 259 257 241 275 258 269 268 271\n",
      " 280 273]\n",
      "------\n",
      "[261  24 188 687 133 255  45 265 131 321]\n",
      "[687 321 255 133 131  24 265 261 188  45 259 257 241 275 258 269 268 271\n",
      " 280 273]\n",
      "------\n",
      "[261  24 188 687 133 255  45 265 131 321]\n"
     ]
    }
   ],
   "source": [
    "# 4.\n",
    "\n",
    "# 4. MF\n",
    "Em = evaluate(Rm)\n",
    "\n",
    "# 4. BERT a\n",
    "Ea = evaluate(Ra)\n",
    "# 4. BERT b\n",
    "Eb = evaluate(Rb)\n",
    "\n",
    "# 4. Extra evaluations\n",
    "E0 = evaluate(R)\n",
    "Et = evaluate(Rt)"
   ]
  },
  {
   "cell_type": "code",
   "execution_count": 7,
   "metadata": {},
   "outputs": [],
   "source": [
    "_, golds, K, _ = user_gold(df_test, Rt, u2i, i2i)\n",
    "S = topk(Rt, K)"
   ]
  },
  {
   "cell_type": "code",
   "execution_count": 10,
   "metadata": {},
   "outputs": [
    {
     "data": {
      "text/plain": [
       "(array([7]),\n",
       " array([  7, 732, 270, 251, 231, 230, 254, 272, 271, 269, 249, 268, 267,\n",
       "        266, 265, 252, 253, 250, 248, 232, 239, 233, 234, 235, 236, 237,\n",
       "        238, 240, 247, 241, 242, 243, 244, 245, 246, 262]))"
      ]
     },
     "execution_count": 10,
     "metadata": {},
     "output_type": "execute_result"
    }
   ],
   "source": [
    "u = 898\n",
    "golds[u], S[u]"
   ]
  },
  {
   "cell_type": "code",
   "execution_count": 4,
   "metadata": {},
   "outputs": [
    {
     "data": {
      "text/plain": [
       "nan"
      ]
     },
     "execution_count": 4,
     "metadata": {},
     "output_type": "execute_result"
    }
   ],
   "source": [
    "r[898]"
   ]
  },
  {
   "cell_type": "code",
   "execution_count": 5,
   "metadata": {},
   "outputs": [
    {
     "data": {
      "text/plain": [
       "2.0"
      ]
     },
     "execution_count": 5,
     "metadata": {},
     "output_type": "execute_result"
    }
   ],
   "source": [
    "Rt[868].sum()"
   ]
  },
  {
   "cell_type": "code",
   "execution_count": 1,
   "metadata": {},
   "outputs": [
    {
     "name": "stdout",
     "output_type": "stream",
     "text": [
      "implict loading of dataframes\n",
      "Max items of a user in test dataset: 36\n"
     ]
    },
    {
     "ename": "NameError",
     "evalue": "name 'R' is not defined",
     "output_type": "error",
     "traceback": [
      "\u001b[0;31m---------------------------------------------------------------------------\u001b[0m",
      "\u001b[0;31mNameError\u001b[0m                                 Traceback (most recent call last)",
      "Cell \u001b[0;32mIn[1], line 2\u001b[0m\n\u001b[1;32m      1\u001b[0m \u001b[38;5;28;01mfrom\u001b[39;00m \u001b[38;5;21;01mutil\u001b[39;00m \u001b[38;5;28;01mimport\u001b[39;00m heatmaps\n\u001b[0;32m----> 2\u001b[0m heatmaps([\u001b[43mR\u001b[49m, Rt])\n",
      "\u001b[0;31mNameError\u001b[0m: name 'R' is not defined"
     ]
    }
   ],
   "source": [
    "from util import heatmaps\n",
    "heatmaps([R, Rt])"
   ]
  },
  {
   "cell_type": "code",
   "execution_count": 4,
   "metadata": {},
   "outputs": [
    {
     "data": {
      "image/png": "[encoded data removed]",
      "text/plain": [
       "<Figure size 640x480 with 1 Axes>"
      ]
     },
     "metadata": {},
     "output_type": "display_data"
    }
   ],
   "source": [
    "heatmaps([Rt])"
   ]
  },
  {
   "cell_type": "markdown",
   "metadata": {},
   "source": [
    "Mistake in the problem: the corresponding matrix for items is P (not Q)"
   ]
  },
  {
   "cell_type": "code",
   "execution_count": 8,
   "metadata": {},
   "outputs": [
    {
     "data": {
      "text/html": [
       "<div>\n",
       "<style scoped>\n",
       "    .dataframe tbody tr th:only-of-type {\n",
       "        vertical-align: middle;\n",
       "    }\n",
       "\n",
       "    .dataframe tbody tr th {\n",
       "        vertical-align: top;\n",
       "    }\n",
       "\n",
       "    .dataframe thead th {\n",
       "        text-align: right;\n",
       "    }\n",
       "</style>\n",
       "<table border=\"1\" class=\"dataframe\">\n",
       "  <thead>\n",
       "    <tr style=\"text-align: right;\">\n",
       "      <th></th>\n",
       "      <th>method</th>\n",
       "      <th>recall</th>\n",
       "      <th>ndcg</th>\n",
       "      <th>rank correlation</th>\n",
       "    </tr>\n",
       "  </thead>\n",
       "  <tbody>\n",
       "    <tr>\n",
       "      <th>0</th>\n",
       "      <td>R (train data)</td>\n",
       "      <td>3.847</td>\n",
       "      <td>0.007</td>\n",
       "      <td>1.000</td>\n",
       "    </tr>\n",
       "    <tr>\n",
       "      <th>1</th>\n",
       "      <td>R (test data)</td>\n",
       "      <td>99</td>\n",
       "      <td>1.000</td>\n",
       "      <td>1.000</td>\n",
       "    </tr>\n",
       "    <tr>\n",
       "      <th>2</th>\n",
       "      <td>matrix factorization</td>\n",
       "      <td>27</td>\n",
       "      <td>0.126</td>\n",
       "      <td>-0.003</td>\n",
       "    </tr>\n",
       "    <tr>\n",
       "      <th>3</th>\n",
       "      <td>BERT replace Q</td>\n",
       "      <td>2.209</td>\n",
       "      <td>0.004</td>\n",
       "      <td>0.021</td>\n",
       "    </tr>\n",
       "    <tr>\n",
       "      <th>4</th>\n",
       "      <td>BERT concat with Q</td>\n",
       "      <td>3.460</td>\n",
       "      <td>0.010</td>\n",
       "      <td>-0.006</td>\n",
       "    </tr>\n",
       "  </tbody>\n",
       "</table>\n",
       "</div>"
      ],
      "text/plain": [
       "                 method recall   ndcg rank correlation\n",
       "0        R (train data)  3.847  0.007            1.000\n",
       "1         R (test data)     99  1.000            1.000\n",
       "2  matrix factorization     27  0.126           -0.003\n",
       "3        BERT replace Q  2.209  0.004            0.021\n",
       "4    BERT concat with Q  3.460  0.010           -0.006"
      ]
     },
     "execution_count": 8,
     "metadata": {},
     "output_type": "execute_result"
    }
   ],
   "source": [
    "import pandas as pd\n",
    "\n",
    "columns = E0.keys()\n",
    "df = pd.DataFrame(data=(E0, Et, Em, Ea, Eb), columns=columns)\n",
    "\n",
    "df.insert(0, 'method', [\n",
    "    'R (train data)',\n",
    "    'R (test data)',\n",
    "    'matrix factorization',\n",
    "    'BERT replace Q',\n",
    "    'BERT concat with Q'\n",
    "])\n",
    "\n",
    "df"
   ]
  },
  {
   "cell_type": "code",
   "execution_count": 9,
   "metadata": {},
   "outputs": [
    {
     "name": "stdout",
     "output_type": "stream",
     "text": [
      "set i , j\n"
     ]
    },
    {
     "data": {
      "image/png": "[encoded data removed]",
      "text/plain": [
       "<Figure size 640x480 with 1 Axes>"
      ]
     },
     "metadata": {},
     "output_type": "display_data"
    },
    {
     "data": {
      "image/png": "[encoded data removed]",
      "text/plain": [
       "<Figure size 640x480 with 1 Axes>"
      ]
     },
     "metadata": {},
     "output_type": "display_data"
    }
   ],
   "source": [
    "def find_window(w, h):\n",
    "    n, m = Rt.shape\n",
    "    a = np.zeros((n-h, m-w))\n",
    "    for i in range(a.shape[0]):\n",
    "        for j in range(a.shape[1]):\n",
    "            a[i,j] = Rt[i:i+h, j:j+w].sum()\n",
    "    \n",
    "    return np.unravel_index(a.argmax(), a.shape)\n",
    "\n",
    "try:\n",
    "    a = i, j\n",
    "except:\n",
    "    i, j = -1, -1\n",
    "\n",
    "def win(M, width=10, height=30):\n",
    "    global i, j\n",
    "    if i < 0 and j < 0:\n",
    "        i, j = find_window(width, height)\n",
    "        print(\"set i , j\")\n",
    "\n",
    "    return M[i:i+height, j:j+width]\n",
    "\n",
    "\n",
    "RRmRtRaRb = (R, Rm, Rt, Ra, Rb)\n",
    "RRmRtRaRb = [win(M) for M in RRmRtRaRb]\n",
    "\n",
    "heatmaps(RRmRtRaRb)\n",
    "heatmaps([M*win(Rt) for M in RRmRtRaRb])"
   ]
  },
  {
   "cell_type": "code",
   "execution_count": 8,
   "metadata": {},
   "outputs": [
    {
     "data": {
      "image/png": "[encoded data removed]",
      "text/plain": [
       "<Figure size 640x480 with 1 Axes>"
      ]
     },
     "metadata": {},
     "output_type": "display_data"
    }
   ],
   "source": [
    "def mark(M, windowed=True):\n",
    "    # return M\n",
    "    T = win(Rt) if windowed else Rt\n",
    "    return M + ((M - 0.5)*(T - 0.5)) * 1.2\n",
    "\n",
    "heatmaps([mark(win(M)) for M in (R, Rm, Rt, Ra, Rb)])"
   ]
  },
  {
   "cell_type": "code",
   "execution_count": 13,
   "metadata": {},
   "outputs": [
    {
     "name": "stdout",
     "output_type": "stream",
     "text": [
      "We expect R_train to have almost zero score (since it has zero value for almost every item)\n",
      "{'recall': '3.847', 'ndcg': '0.007', 'rank correlation': '1.000'}\n",
      "\n",
      "We expect R_test to have almost 1 score (since it has memorized test dataset)\n",
      "{'recall': '99', 'ndcg': '1.000', 'rank correlation': '1.000'}\n",
      "\n",
      "R estimation (with matrix factorization)\n",
      "{'recall': '28', 'ndcg': '0.131', 'rank correlation': '-0.017'}\n",
      "\n",
      "Replace Q with BERT's encoding\n",
      "{'recall': '2.006', 'ndcg': '0.005', 'rank correlation': '-0.012'}\n",
      "\n",
      "Concat BERT encoding\n",
      "{'recall': '4.160', 'ndcg': '0.011', 'rank correlation': '-0.002'}\n",
      "\n"
     ]
    }
   ],
   "source": [
    "print(\"We expect R_train to have almost zero score (since it has zero value for almost every item)\")\n",
    "print(E0)\n",
    "print()\n",
    "\n",
    "print(\"We expect R_test to have almost 1 score (since it has memorized test dataset)\")\n",
    "print(Et)\n",
    "print()\n",
    "\n",
    "print(\"R estimation (with matrix factorization)\")\n",
    "print(Em)\n",
    "print()\n",
    "\n",
    "print(\"Replace Q with BERT's encoding\")\n",
    "print(Ea)\n",
    "print()\n",
    "\n",
    "print(\"Concat BERT encoding\")\n",
    "print(Eb)\n",
    "print()"
   ]
  },
  {
   "cell_type": "code",
   "execution_count": 14,
   "metadata": {},
   "outputs": [
    {
     "name": "stderr",
     "output_type": "stream",
     "text": [
      "2it [00:00, 21.41it/s]\n"
     ]
    },
    {
     "name": "stdout",
     "output_type": "stream",
     "text": [
      "best error: 2.19e+04\n",
      "(1340, 36)\n",
      "[264 195 357 282  42   3 366 199 300 567 347 560  43 142 344 223  16 541\n",
      " 280  44]\n",
      "------\n",
      "[261  24 188 687 133 255  45 265 131 321]\n",
      "[264 195 357 282  42   3 366 199 300 567 347 560  43 142 344 223  16 541\n",
      " 280  44]\n",
      "------\n",
      "[261  24 188 687 133 255  45 265 131 321]\n"
     ]
    },
    {
     "data": {
      "text/plain": [
       "{'recall': '6.699', 'ndcg': '0.019', 'rank correlation': '-0.012'}"
      ]
     },
     "execution_count": 14,
     "metadata": {},
     "output_type": "execute_result"
    }
   ],
   "source": [
    "Qa, Pa2 = mf(R, qp=(Q, Pb), single_lr=0.001, n_epochs=2, single_epochs=2, sample_s=1, print_step=1, log_step=1) \n",
    "Ra2 = Qa @ Pa2.T\n",
    "evaluate(Ra2)"
   ]
  },
  {
   "cell_type": "code",
   "execution_count": null,
   "metadata": {},
   "outputs": [],
   "source": []
  }
 ],
 "metadata": {
  "kernelspec": {
   "display_name": "Python 3",
   "language": "python",
   "name": "python3"
  },
  "language_info": {
   "codemirror_mode": {
    "name": "ipython",
    "version": 3
   },
   "file_extension": ".py",
   "mimetype": "text/x-python",
   "name": "python",
   "nbconvert_exporter": "python",
   "pygments_lexer": "ipython3",
   "version": "3.9.6"
  }
 },
 "nbformat": 4,
 "nbformat_minor": 2
}
